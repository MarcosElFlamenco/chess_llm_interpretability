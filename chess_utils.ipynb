{
 "cells": [
  {
   "cell_type": "code",
   "execution_count": 1,
   "metadata": {},
   "outputs": [],
   "source": [
    "import chess\n",
    "import numpy as np\n",
    "import pandas as pd\n",
    "import pickle"
   ]
  },
  {
   "cell_type": "code",
   "execution_count": 2,
   "metadata": {},
   "outputs": [
    {
     "name": "stdout",
     "output_type": "stream",
     "text": [
      ";1.e4 c5 2.Nf3 Nc6 3.Bb5 Nf6 4.Bxc6 dxc6 5.d3 Bg4 6.h3 Bxf3 7.Qxf3 Nd7 8.Bd2 g6 9.Bc3 e5 10.a4 Qe7 11.a5 h5 12.Nd2 Bg7 13.h4 Rb8 14.Ke2 O-O 15.Rhg1 b6 16.axb6 axb6 17.Ra7 b5 18.Qh3 f5 19.b3 Qd6 20.Rga1 Rbc8 21.Kf1 Rc7 22.Rxc7 Qxc7 23.Qg3 Kh7 24.Nf3 f4 25.Ng5+ Kh6 26.Qf3 Re8 27.g3 Nf8 28.Bd2 Qd7 29.gxf4 exf4 30.Ra6 Ne6 31.Nxe6 Rxe6 32.Bxf4+ Kh7 33.Be3 Bd4 34.Bxd4 cxd4 35.Ra8 Re8 36.Rxe8 Qxe8 37.Qf6 Qd7 38.e5 Qh3+ 39.Kg1 Qg4+ 40.Kh2 Qd7 41.b4 Qc7 42.Kg2 Qg7 43.Qxg7+ Kxg7 44.Kg3 Kh6 45.f4 Kh7 46.Kf3 Kg8 47.Ke4 Kf7 48.Kxd4 Ke6 49.Ke4 Kd7 50.d4 Kc8 51.e6 Kd8 52.Ke5 c5 53.dxc5 Kc7 54.Kf6 Kc6 55.e7 Kd5 56.Kf7 Kd4 57.e8=Q Kc4 58.c6 Kxb4 59.c7 Ka4 60.c8=Q Ka3 61.Qxb5 Ka2 62.Qca6#\n",
      "\n",
      ";1.e4 c5 2.Nf3 Nc6 3.d4 cxd4 4.Nxd4 g6 5.Nc3 Bg7 6.Be3 Nf6 7.Nxc6 bxc6 8.e5 Ng8 9.f4 d5 10.Qd4 f6 11.Qa4 e6 12.Qxc6+ Bd7 13.Qa6 Nh6 14.exf6 Qxf6 15.Qb7 Rd8 16.Bc5 Rc8 17.Bb5 Qd8 18.Ne4 Nf5 19.O-O-O Bxb5 20.Qxb5+ Qd7 21.Qxd7+ Kxd7 22.g4 Nh4 23.Ba3 Bf8 24.Nf6+ Kc6 25.Rd3 Ng2 26.Rf1 Bg7 27.Rc3+ Kb5 28.Rg3 Bxf6 29.Rxg2 g5 30.Re2 Rhe8 31.Bd6 Kc6 32.Be5 Bxe5 33.Rxe5 gxf4 34.Rxf4 Kd6 35.Rh5 Rf8 36.Rxf8 Rxf8 37.g5 Rf1+ 38.Kd2 Rf7 39.h4 a5 40.Rh6 Ke5 41.a4 Rf2+ 42.Kc3 Rf3+ 43.Kd2 Rf7 44.c3 Ra7 45.b3 Rf7 46.b4 axb4 47.cxb4 Rf2+ 48.Kd3 Rf4 49.Rxh7 Rxb4 50.g6 Rxa4 51.h5 Ra3+ 52.Kd2 Rg3 53.Rf7 Rg2+ 54.Kd3 Rg3+ 55.Ke2 Rg2+ 56.Kf3 Rg5 57.g7 d4 58.h6 d3 59.Ke3 d2 60.Kxd2 Rg6 61.h7 Kd5 62.g8=Q Rg7 63.Qxg7 Kc6 64.h8=Q Kb5 65.Qg4 Kc5 66.Qe5+ Kb6 67.Qgxe6#\n",
      "\n",
      ";1.e4 e5 2.Nf3 Nc6 3.d4 exd4 4.c3 dxc3 5.Nxc3 Bb4 6.Bc4 d6 7.Bd2 Bxc3 8.Bxc3 Nf6 9.e5 dxe5 10.Nxe5 Qxd1+ 11.Rxd1 Nxe5 12.Bxe5 O-O 13.O-O c6 14.Bxf6 gxf6 15.Rd6 b5 16.Be2 Be6 17.Rxc6 a5 18.Ra1 Rfb8 19.Kf1 Kf8 20.Rc5 b4 21.Bf3 Rc8 22.Rac1 Rxc5 23.Rxc5 Ra6 24.Bd5 Bxd5 25.Rxd5 b3 26.axb3 Ke7 27.Ke2 h6 28.Rb5 Re6+ 29.Kd2 Rd6+ 30.Kc1 Rc6+ 31.Kb1 Re6 32.Rxa5 Re1+ 33.Ka2 Rf1 34.Rf5 Rg1 35.g3 Ke6 36.Rf4 Rh1 37.h4 Re1 38.b4 Re5 39.Ka3 f5 40.Ka4 Re2 41.b3 Ra2+ 42.Kb5 h5 43.Kb6 Rb2 44.Rf3 f4 45.Rxf4 f5 46.Rf3 Ke5 47.b5 Re2 48.Kb7 Ke4 49.Rf4+ Kd5 50.Rxf5+ Ke4 51.Rf4+ Kd3 52.b6 Ra2 53.Kc6 Re2 54.b7 Re6+ 55.Kd7 Rb6 56.Kc7 Ra6 57.b4 Re6 58.b8=R Kc2 59.b5 Re7+ 60.Kd6 Rg7 61.b6 Rh7 62.Kc6 Kd2 63.Rd8+ Ke2 64.Rff8 Rh6+ 65.Rd6 Rh7 66.b7 Re7 67.Rh6 Re5 68.Rf7 Kf1 69.Rh8 Ke2 70.Rd8 Re4 71.Kc5 Re6 72.Rd5 Ra6 73.Re5+ Kf1 74.Re4 Ra2 75.f3 Kg2 76.g4 Kf2 77.Rb4 hxg4 78.fxg4+ Kg2 79.g5 Re2 80.b8=Q Re3 81.Rb2+ Re2 82.Rxe2+ Kh3 83.Re3+ Kxh4 84.Qh2+ Kg4 85.Rg3#\n",
      "\n",
      ";1.e4 e5 2.Nf3 d6 3.d4 exd4 4.Nxd4 Be7 5.Nc3 a6 6.Bf4 Bf6 7.Qd2 Ne7 8.O-O-O Nbc6 9.Nxc6 Nxc6 10.Nd5 O-O 11.h4 Be6 12.Bg5 Bxd5 13.exd5 Ne5 14.Be2 Re8 15.f4 Ng6 16.h5 Nf8 17.Bxf6 Qxf6 18.g4 Qe7 19.Bd3 Qe3 20.g5 Nd7 21.Rde1 Qf3 22.h6 Rxe1+ 23.Rxe1 Nc5 24.Bf5 gxh6 25.gxh6 Qg3 26.Kb1 Kf8 27.Qe2 Qh4 28.Bxh7 Qxh6 29.Qe7+ Kg7 30.Bf5 Rf8 31.Rg1+ Kh8 32.a3 Rg8 33.Re1 Kg7 34.Qxc7 b6 35.Qe7 b5 36.Rg1+ Kh8 37.Rf1 a5 38.Ka2 Kg7 39.Rf3 Na6 40.Rg3+ Kh8 41.Rh3 Qxh3 42.Qf6+ Rg7 43.Bxh3 Nc5 44.Qd8+ Rg8 45.Qf6+ Rg7 46.Qd8+ Rg8 47.Qxd6 Kg7 48.Qe5+ Kf8 49.Qd6+ Kg7 50.Qe5+ Kf8 51.d6 b4 52.Qe7+ Kg7 53.Qe5+ f6 54.Qe3 Nd3 55.Qe7+ Kh6 56.Qxf6+ Kh5 57.Qf7+ Kh6 58.Qxg8 Nxf4 59.d7 Ng6 60.d8=Q b3+ 61.cxb3 Nf4 62.Qdg5#\n",
      "\n",
      ";1.e4 c5 2.Nf3 Nc6 3.d4 cxd4 4.Nxd4 e5 5.Nb5 d6 6.N1a3 Nf6 7.Bg5 Qa5+ 8.Qd2 Qxd2+ 9.Bxd2 Rb8 10.Bd3 a6 11.Nc7+ Kd7 12.Nd5 b5 13.c4 Nxd5 14.cxd5 Nd4 15.Nc2 Nxc2+ 16.Bxc2 Be7 17.a4 b4 18.a5 f5 19.exf5 Bb7 20.Ba4+ Kd8 21.Be3 Bh4 22.Rc1 Rc8 23.Ke2 Bxd5 24.Rhd1 Bc4+ 25.Rxc4 Rxc4 26.Rxd6+ Kc7 27.Rxa6 b3 28.Bxb3 Rb4 29.Bd5 Rb5 30.Be4 Rhb8 31.Ra7+ Kd6 32.Ra6+ Kc7 33.g3 Bd8 34.Kf3 Kc8 35.Rc6+ Kd7 36.a6 Ra5 37.a7 Rxb2 38.Rc3 Rba2 39.Rd3+ Kc7 40.Rxd8 Kxd8 41.Bb6+ Ke8 42.Bxa5 Rxa5 43.a8=Q+ Rxa8 44.Bxa8 Ke7 45.Kg4 Kf8 46.Kg5 e4 47.g4 Kg8 48.Bxe4 Kf7 49.Bf3 Ke7 50.Bc6 Kd6 51.Bf3 Ke5 52.f6 gxf6+ 53.Kh6 Ke6 54.Be4 Kd7 55.Kxh7 Ke7 56.Kg7 Kd6 57.Kxf6 Kc5 58.g5 Kc4 59.g6 Kb4 60.g7 Kb3 61.g8=Q+ Ka4 62.h4 Kb5 63.Qb3+ Kc5 64.Ke6 Kd4 65.Qb4#\n",
      "\n"
     ]
    }
   ],
   "source": [
    "\n",
    "\n",
    "# Step one: get a csv of 100k text games\n",
    "input_file = '100k_games.csv'\n",
    "\n",
    "df = pd.read_csv(input_file, usecols=['transcript'])\n",
    "df.to_csv('100k_transcripts.csv', index=False)\n",
    "\n",
    "input_file = '100k_transcripts.csv'\n",
    "df = pd.read_csv(input_file)\n",
    "\n",
    "def format_transcript(game: str) -> str:\n",
    "    new_game = ';' + game.split('\\n\\n')[1]\n",
    "    return new_game\n",
    "\n",
    "df['transcript'] = df['transcript'].apply(format_transcript)\n",
    "df.to_csv('100k_transcripts.csv', index=False)\n",
    "\n",
    "input_file = '100k_transcripts.csv'\n",
    "df = pd.read_csv(input_file)\n",
    "\n",
    "for game in df.head()['transcript']:\n",
    "    print(game)\n",
    "    print()"
   ]
  },
  {
   "cell_type": "code",
   "execution_count": 3,
   "metadata": {},
   "outputs": [
    {
     "name": "stdout",
     "output_type": "stream",
     "text": [
      "count    100000.00000\n",
      "mean        748.98230\n",
      "std         352.36122\n",
      "min          25.00000\n",
      "25%         539.00000\n",
      "50%         690.00000\n",
      "75%         860.00000\n",
      "max        4366.00000\n",
      "Name: transcript, dtype: float64\n",
      "count    51822.0\n",
      "mean       680.0\n",
      "std          0.0\n",
      "min        680.0\n",
      "25%        680.0\n",
      "50%        680.0\n",
      "75%        680.0\n",
      "max        680.0\n",
      "Name: transcript, dtype: float64\n"
     ]
    },
    {
     "name": "stderr",
     "output_type": "stream",
     "text": [
      "C:\\Users\\adamk\\AppData\\Local\\Temp\\ipykernel_68240\\792275202.py:6: SettingWithCopyWarning: \n",
      "A value is trying to be set on a copy of a slice from a DataFrame.\n",
      "Try using .loc[row_indexer,col_indexer] = value instead\n",
      "\n",
      "See the caveats in the documentation: https://pandas.pydata.org/pandas-docs/stable/user_guide/indexing.html#returning-a-view-versus-a-copy\n",
      "  filtered_df['transcript'] = filtered_df['transcript'].apply(lambda x: x[:680])\n"
     ]
    },
    {
     "name": "stdout",
     "output_type": "stream",
     "text": [
      "                                               transcript\n",
      "count                                               41206\n",
      "unique                                              41206\n",
      "top     ;1.e4 c5 2.Nf3 Nc6 3.d4 cxd4 4.Nxd4 g6 5.Nc3 B...\n",
      "freq                                                    1\n",
      "                                           transcript\n",
      "1   ;1.e4 c5 2.Nf3 Nc6 3.d4 cxd4 4.Nxd4 g6 5.Nc3 B...\n",
      "2   ;1.e4 e5 2.Nf3 Nc6 3.d4 exd4 4.c3 dxc3 5.Nxc3 ...\n",
      "9   ;1.e4 c6 2.d4 d6 3.Nf3 Nf6 4.Nc3 Bg4 5.h3 Bh5 ...\n",
      "12  ;1.e4 c6 2.d4 d6 3.Nf3 Nf6 4.Bd3 e5 5.c3 Nbd7 ...\n",
      "13  ;1.e4 e5 2.Nf3 Nc6 3.Bb5 Nf6 4.O-O Bd6 5.d4 Nx...\n",
      "count    41206.000000\n",
      "mean       123.176965\n",
      "std          0.918491\n",
      "min        122.000000\n",
      "25%        123.000000\n",
      "50%        123.000000\n",
      "75%        124.000000\n",
      "max        128.000000\n",
      "Name: transcript, dtype: float64\n"
     ]
    }
   ],
   "source": [
    "len_df = df['transcript'].apply(lambda x: len(x))\n",
    "print(len_df.describe())\n",
    "\n",
    "# Data setup. All games must have same length. 50% are >= 690 moves. I will discard all games less than 680, and truncate the rest to 680.\n",
    "filtered_df = df[df['transcript'].apply(lambda x: len(x) >= 680)]\n",
    "filtered_df['transcript'] = filtered_df['transcript'].apply(lambda x: x[:680])\n",
    "\n",
    "len_df = filtered_df['transcript'].apply(lambda x: len(x))\n",
    "print(len_df.describe())\n",
    "\n",
    "# Now I need to filter out games that are too short. I will discard all games less than 122 moves.\n",
    "filtered_df = filtered_df[filtered_df['transcript'].apply(lambda x: len(x.split()) > 121)]\n",
    "print(filtered_df.describe())\n",
    "print(filtered_df.head())\n",
    "\n",
    "filtered_df.to_csv('filtered_games.csv', index=False)\n",
    "\n",
    "move_count_df = filtered_df['transcript'].apply(lambda x: len(x.split()))\n",
    "print(move_count_df.describe())"
   ]
  },
  {
   "cell_type": "code",
   "execution_count": 4,
   "metadata": {},
   "outputs": [
    {
     "name": "stdout",
     "output_type": "stream",
     "text": [
      ";1.e4 c5 2\n",
      ".h7 Kd5 62\n",
      "123\n",
      "680\n",
      ". . . . . . . .\n",
      ". . . . . W W W\n",
      ". . . . B . B .\n",
      ". . . B . . . .\n",
      ". . . . . . . .\n",
      ". . . . . . . .\n",
      ". . . W . . . .\n",
      ". . . . . . . .\n",
      "None\n",
      "(680, 8, 8)\n"
     ]
    }
   ],
   "source": [
    "def pretty_print_state_stack(state: np.ndarray) -> None:\n",
    "    \"\"\"Given a state stack, print each state in a readable format.\"\"\"\n",
    "    piece_symbols = {1: 'W', -1: 'B', 0: '.'}\n",
    "\n",
    "    # Print the rows in reverse order\n",
    "    for row in reversed(state):\n",
    "        print(' '.join(piece_symbols[piece] for piece in row))\n",
    "\n",
    "def board_to_state(board: chess.Board) -> np.ndarray:\n",
    "    \"\"\"Given a chess board object, return a 8x8 np.ndarray.\n",
    "    The 8x8 array should tell if each square is black, white, or blank.\n",
    "    White is 1, black is -1, and blank is 0.\n",
    "    In the 8x8 array, row 0 is A1-H1 (White), row 1 is A2-H2, etc.\"\"\"\n",
    "    state = np.zeros((8, 8), dtype=int)\n",
    "    for i in range(64):\n",
    "        piece = board.piece_at(i)\n",
    "        if piece:\n",
    "            # Assign 1 for white pieces and -1 for black pieces\n",
    "            state[i // 8, i % 8] = 1 if piece.color == chess.WHITE else -1\n",
    "\n",
    "    return state\n",
    "\n",
    "def create_state_stack(moves_string: str) -> np.ndarray:\n",
    "    \"\"\"Given a string of PGN format moves, create an 8x8 np.ndarray for every character in the string.\n",
    "    \"\"\"\n",
    "\n",
    "    # pandarallel parallel_apply on windows requires imports to be inside the function being applied\n",
    "    import chess\n",
    "    import numpy as np\n",
    "\n",
    "    # This function is duplicated due to that requirement\n",
    "    def board_to_state_parallel(board: chess.Board) -> np.ndarray:\n",
    "        \"\"\"Given a chess board object, return a 8x8 np.ndarray.\n",
    "        The 8x8 array should tell if each square is black, white, or blank.\n",
    "        White is 1, black is -1, and blank is 0.\n",
    "        In the 8x8 array, row 0 is A1-H1 (White), row 1 is A2-H2, etc.\"\"\"\n",
    "        state = np.zeros((8, 8), dtype=np.int8)\n",
    "        for i in range(64):\n",
    "            piece = board.piece_at(i)\n",
    "            if piece:\n",
    "                # Assign 1 for white pieces and -1 for black pieces\n",
    "                state[i // 8, i % 8] = 1 if piece.color == chess.WHITE else -1\n",
    "\n",
    "        return state\n",
    "\n",
    "    board = chess.Board()\n",
    "    initial_states = []\n",
    "\n",
    "    count = 0\n",
    "\n",
    "    # Scan 1: Creates states, with length = number of moves in the game\n",
    "    initial_states.append(board_to_state_parallel(board))\n",
    "    # Apply each move to the board\n",
    "    for move in moves_string.split():\n",
    "        # because all games are truncated to len 680, often the last move is partial and invalid\n",
    "        try:\n",
    "            count += 1\n",
    "            # Skip move numbers\n",
    "            if '.' in move:\n",
    "                board.push_san(move.split(\".\")[1])\n",
    "            else:\n",
    "                board.push_san(move)\n",
    "\n",
    "            initial_states.append(board_to_state_parallel(board))\n",
    "        except:\n",
    "            break\n",
    "    # print(board)\n",
    "\n",
    "        # if count % 100 == 0:\n",
    "        #     pretty_print_state_stack(state)\n",
    "        #     print(\"_\" * 50)\n",
    "        #     print(board)\n",
    "\n",
    "    # return np.array(initial_states)\n",
    "\n",
    "    # Second Scan: Expand states to match the length of moves_string\n",
    "    # For ;1.e4 e5 2.Nf3, \";1.e4\" = idx 0, \" e5\" = idx 1, \" 2.Nf3\" = idx 2\n",
    "    expanded_states = []\n",
    "    move_index = 0\n",
    "    for char in moves_string:\n",
    "        if char == ' ':\n",
    "            move_index += 1\n",
    "        expanded_states.append(initial_states[min(move_index, len(initial_states) - 1)])\n",
    "\n",
    "    # expanded_states.append(initial_states[-1]) # The last element in expanded_states is the final position of the board.\n",
    "    # Currently not using this as len(expanded_states) would be 1 greater than len(moves_string) and that would be confusing.\n",
    "    return np.array(expanded_states)\n",
    "\n",
    "df = pd.read_csv('filtered_games.csv')\n",
    "test_game = df.head()['transcript'][0]\n",
    "print(test_game[:10])\n",
    "print(test_game[-10:])\n",
    "print(len(test_game.split()))\n",
    "print(len(test_game))\n",
    "state_stack = create_state_stack(test_game)\n",
    "print(pretty_print_state_stack(state_stack[-1]))\n",
    "print(state_stack.shape)"
   ]
  },
  {
   "cell_type": "code",
   "execution_count": 5,
   "metadata": {},
   "outputs": [
    {
     "name": "stdout",
     "output_type": "stream",
     "text": [
      "[2, 10, 20, 30, 40, 50, 60, 72, 81, 90, 100, 110, 123, 134, 147, 158, 169, 180, 191, 205, 218, 232, 242, 253, 265, 276, 287, 299, 311, 322, 334, 345, 357, 370, 382, 393, 406, 417, 428, 437, 448, 459, 471, 482, 492, 502, 513, 526, 537, 550, 561, 572, 583, 595, 607, 619, 630, 639, 648, 658, 670]\n"
     ]
    }
   ],
   "source": [
    "def find_dots_indices(moves_string: str) -> list[int]:\n",
    "    \"\"\"Returns a NumPy array of indices of every '.' in the string.\n",
    "    This will hopefully provide a reasonable starting point for training a linear probe.\"\"\"\n",
    "    indices = [index for index, char in enumerate(moves_string) if char == '.']\n",
    "    return indices\n",
    "    return np.array(indices, dtype=int)\n",
    "\n",
    "print(find_dots_indices(test_game))\n"
   ]
  },
  {
   "cell_type": "code",
   "execution_count": 6,
   "metadata": {},
   "outputs": [
    {
     "name": "stdout",
     "output_type": "stream",
     "text": [
      "{'vocab_size': 32, 'itos': {0: ' ', 1: '#', 2: '+', 3: '-', 4: '.', 5: '0', 6: '1', 7: '2', 8: '3', 9: '4', 10: '5', 11: '6', 12: '7', 13: '8', 14: '9', 15: ';', 16: '=', 17: 'B', 18: 'K', 19: 'N', 20: 'O', 21: 'Q', 22: 'R', 23: 'a', 24: 'b', 25: 'c', 26: 'd', 27: 'e', 28: 'f', 29: 'g', 30: 'h', 31: 'x'}, 'stoi': {' ': 0, '#': 1, '+': 2, '-': 3, '.': 4, '0': 5, '1': 6, '2': 7, '3': 8, '4': 9, '5': 10, '6': 11, '7': 12, '8': 13, '9': 14, ';': 15, '=': 16, 'B': 17, 'K': 18, 'N': 19, 'O': 20, 'Q': 21, 'R': 22, 'a': 23, 'b': 24, 'c': 25, 'd': 26, 'e': 27, 'f': 28, 'g': 29, 'h': 30, 'x': 31}}\n",
      "[15, 6, 4, 27, 9, 0]\n",
      ";1.e4 \n"
     ]
    }
   ],
   "source": [
    "# Step 2: get meta.pkl, use to create a list of tokenized games with ints\n",
    "with open('meta.pkl', 'rb') as f:\n",
    "    meta = pickle.load(f)\n",
    "\n",
    "print(meta)\n",
    "\n",
    "stoi, itos = meta[\"stoi\"], meta[\"itos\"]\n",
    "encode = lambda s: [stoi[c] for c in s]\n",
    "decode = lambda l: \"\".join([itos[i] for i in l])\n",
    "\n",
    "print(encode(';1.e4 '))\n",
    "print(decode(encode(';1.e4 ')))"
   ]
  },
  {
   "cell_type": "code",
   "execution_count": 16,
   "metadata": {},
   "outputs": [
    {
     "name": "stdout",
     "output_type": "stream",
     "text": [
      "41206 680\n"
     ]
    }
   ],
   "source": [
    "# There are 4 .npy files I will create: One with move strings, one with encoded move token numbers, one with board states, and one with dot indices.\n",
    "df = pd.read_csv('filtered_games.csv')\n",
    "row_length = len(df['transcript'].iloc[0])\n",
    "num_games = len(df)\n",
    "\n",
    "assert all(df['transcript'].apply(lambda x: len(x) == row_length)), \"Not all transcripts are of length {}\".format(row_length)\n",
    "\n",
    "df['transcript'].to_csv('board_seqs_string.csv', index=False, header=False)\n",
    "\n",
    "# board_seqs_string = np.array(df['transcript'].apply(list).tolist())\n",
    "print(len(df), len(df['transcript'].iloc[0]))\n",
    "\n",
    "assert((len(df), len(df['transcript'].iloc[0])) == (num_games, row_length))"
   ]
  },
  {
   "cell_type": "code",
   "execution_count": 8,
   "metadata": {},
   "outputs": [
    {
     "name": "stdout",
     "output_type": "stream",
     "text": [
      "0    [15, 6, 4, 27, 9, 0, 25, 10, 0, 7, 4, 19, 28, ...\n",
      "1    [15, 6, 4, 27, 9, 0, 27, 10, 0, 7, 4, 19, 28, ...\n",
      "2    [15, 6, 4, 27, 9, 0, 25, 11, 0, 7, 4, 26, 9, 0...\n",
      "3    [15, 6, 4, 27, 9, 0, 25, 11, 0, 7, 4, 26, 9, 0...\n",
      "4    [15, 6, 4, 27, 9, 0, 27, 10, 0, 7, 4, 19, 28, ...\n",
      "Name: transcript, dtype: object\n",
      "(41206, 680)\n"
     ]
    }
   ],
   "source": [
    "df = pd.read_csv('filtered_games.csv')\n",
    "encoded_df = df['transcript'].apply(encode)\n",
    "print(encoded_df.head())\n",
    "board_seqs_int = np.array(encoded_df.apply(list).tolist())\n",
    "print(board_seqs_int.shape)\n",
    "assert(board_seqs_int.shape == (num_games, row_length))\n",
    "\n",
    "np.save('board_seqs_int.npy', board_seqs_int)"
   ]
  },
  {
   "cell_type": "code",
   "execution_count": 9,
   "metadata": {},
   "outputs": [
    {
     "name": "stdout",
     "output_type": "stream",
     "text": [
      "Shortest length: 61\n",
      "0    [2, 10, 20, 30, 40, 50, 60, 72, 81, 90, 100, 1...\n",
      "1    [2, 10, 20, 30, 40, 51, 60, 71, 82, 93, 107, 1...\n",
      "2    [2, 10, 18, 28, 38, 47, 56, 65, 74, 84, 94, 10...\n",
      "3    [2, 10, 18, 28, 37, 47, 56, 67, 78, 87, 98, 10...\n",
      "4    [2, 10, 20, 30, 40, 50, 62, 72, 82, 94, 104, 1...\n",
      "Name: transcript, dtype: object\n",
      "(41206, 61)\n"
     ]
    }
   ],
   "source": [
    "df = pd.read_csv('filtered_games.csv')\n",
    "dots_indices_series = df['transcript'].apply(find_dots_indices)\n",
    "\n",
    "shortest_length = dots_indices_series.apply(len).min()\n",
    "print(\"Shortest length:\", shortest_length)\n",
    "\n",
    "dots_indices_series = dots_indices_series.apply(lambda x: x[:shortest_length])\n",
    "assert all(len(lst) == shortest_length for lst in dots_indices_series), \"Not all lists have the same length\"\n",
    "\n",
    "print(dots_indices_series.head())\n",
    "dots_indices = np.array(dots_indices_series.apply(list).tolist())\n",
    "print(dots_indices.shape)\n",
    "assert(dots_indices.shape == (num_games, shortest_length))\n",
    "np.save('dots_indices.npy', dots_indices)"
   ]
  },
  {
   "cell_type": "code",
   "execution_count": 10,
   "metadata": {},
   "outputs": [
    {
     "name": "stdout",
     "output_type": "stream",
     "text": [
      "INFO: Pandarallel will run on 10 workers.\n",
      "INFO: Pandarallel will use standard multiprocessing data transfer (pipe) to transfer data between the main process and workers.\n",
      "\n",
      "WARNING: You are on Windows. If you detect any issue with pandarallel, be sure you checked out the Troubleshooting page:\n",
      "https://nalepae.github.io/pandarallel/troubleshooting/\n"
     ]
    },
    {
     "data": {
      "application/vnd.jupyter.widget-view+json": {
       "model_id": "39777b82a7a049f8920a2d0f36358765",
       "version_major": 2,
       "version_minor": 0
      },
      "text/plain": [
       "VBox(children=(HBox(children=(IntProgress(value=0, description='0.00%', max=4121), Label(value='0 / 4121'))), …"
      ]
     },
     "metadata": {},
     "output_type": "display_data"
    },
    {
     "name": "stdout",
     "output_type": "stream",
     "text": [
      "(41206, 680, 8, 8)\n"
     ]
    }
   ],
   "source": [
    "from pandarallel import pandarallel\n",
    "pandarallel.initialize(progress_bar=True)\n",
    "\n",
    "df = pd.read_csv('filtered_games.csv')\n",
    "state_stacks_series = df['transcript'].parallel_apply(create_state_stack)\n",
    "state_stacks = np.stack(state_stacks_series.values)\n",
    "\n",
    "print(state_stacks.shape)\n",
    "assert(state_stacks.shape == (num_games, row_length, 8, 8))\n",
    "\n",
    "np.save('state_stacks.npy', state_stacks)"
   ]
  },
  {
   "cell_type": "code",
   "execution_count": 11,
   "metadata": {},
   "outputs": [
    {
     "name": "stdout",
     "output_type": "stream",
     "text": [
      "(100000, 60)\n",
      "<class 'numpy.ndarray'>\n"
     ]
    }
   ],
   "source": [
    "\n",
    "board_seqs_int = np.load(\"board_seqs_int_small.npy\")\n",
    "print(board_seqs_int.shape)\n",
    "print(type(board_seqs_int))"
   ]
  },
  {
   "cell_type": "code",
   "execution_count": 15,
   "metadata": {},
   "outputs": [],
   "source": [
    "\n",
    "import numpy as np\n",
    "\n",
    "def save_shortened_copy(file_path: str, new_length: int = 5000) -> None:\n",
    "    \"\"\"\n",
    "    Save a shortened copy of a .npy file with a new length.\n",
    "\n",
    "    Parameters:\n",
    "    file_path (str): The path to the original .npy file.\n",
    "    new_length (int): The length of the shortened copy (default is 5000).\n",
    "    \"\"\"\n",
    "    # Load the original data\n",
    "    data = np.load(file_path)\n",
    "\n",
    "    # Ensure the new length does not exceed the original length\n",
    "    new_length = min(new_length, len(data))\n",
    "\n",
    "    # Shorten the data\n",
    "    shortened_data = data[:new_length]\n",
    "\n",
    "    # Create the new filename\n",
    "    base_name = file_path.split('.')[0]\n",
    "    new_file_name = f\"{base_name}_5k.npy\"\n",
    "\n",
    "    # Save the shortened data\n",
    "    np.save(new_file_name, shortened_data)\n",
    "\n",
    "filenames = ['board_seqs_int.npy', 'board_seqs_string.npy', 'dots_indices.npy', 'state_stacks.npy']\n",
    "# Process each file\n",
    "for filename in filenames:\n",
    "    save_shortened_copy(filename)\n",
    "\n"
   ]
  }
 ],
 "metadata": {
  "kernelspec": {
   "display_name": "Python 3 (ipykernel)",
   "language": "python",
   "name": "python3"
  },
  "language_info": {
   "codemirror_mode": {
    "name": "ipython",
    "version": 3
   },
   "file_extension": ".py",
   "mimetype": "text/x-python",
   "name": "python",
   "nbconvert_exporter": "python",
   "pygments_lexer": "ipython3",
   "version": "3.10.12"
  }
 },
 "nbformat": 4,
 "nbformat_minor": 4
}
