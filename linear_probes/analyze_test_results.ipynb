{
 "cells": [
  {
   "cell_type": "code",
   "execution_count": null,
   "metadata": {},
   "outputs": [],
   "source": [
    "import os\n",
    "import pickle\n",
    "import matplotlib.pyplot as plt\n",
    "\n",
    "PROBE_DIR = \"\"\n",
    "test_data_dir = os.path.join(PROBE_DIR, 'test_data', '8layer_skill_probe_sweep_results')\n",
    "\n",
    "# Step 1: List all pickle files\n",
    "pickle_files = [f for f in os.listdir(test_data_dir) if f.endswith('.pkl')]\n",
    "\n",
    "# Step 2 and 3: Open each file and calculate average accuracy\n",
    "average_accuracies = []\n",
    "file_names = []\n",
    "for file in pickle_files:\n",
    "    with open(os.path.join(test_data_dir, file), 'rb') as f:\n",
    "        data = pickle.load(f)\n",
    "        average_accuracy = sum(data[\"accuracy\"]) / len(data[\"accuracy\"])\n",
    "        average_accuracies.append(average_accuracy)\n",
    "        file_names.append(file.split('.')[0])  # Assuming you want to display file names without .pkl"
   ]
  },
  {
   "cell_type": "code",
   "execution_count": null,
   "metadata": {},
   "outputs": [],
   "source": [
    "print(f\"{'File Name':<30} | {'Average Accuracy':>15}\")\n",
    "print(\"-\" * 48)\n",
    "layer_data = {}\n",
    "for name, accuracy in zip(file_names, average_accuracies):\n",
    "    print(f\"{name:<30} | {accuracy:>15.4f}\")\n",
    "    layer_num = int(name.split('_')[-1])\n",
    "    layer_data[layer_num] = accuracy.item()"
   ]
  },
  {
   "cell_type": "code",
   "execution_count": null,
   "metadata": {},
   "outputs": [],
   "source": [
    "import matplotlib.pyplot as plt\n",
    "\n",
    "# Plotting\n",
    "plt.figure(figsize=(10,6))\n",
    "plt.bar(layer_data.keys(), layer_data.values())\n",
    "plt.xlabel('Layer')\n",
    "plt.ylabel('Accuracy (%)')\n",
    "plt.title('Accuracy per Layer in 8 Layer Chess GPT for Elo Classification')\n",
    "plt.ylim(0.58, 1.0)  # Set y-axis limits for better visualization\n",
    "plt.savefig('8layer_skill_probe_sweep_results.png')\n",
    "# plt.show()"
   ]
  }
 ],
 "metadata": {
  "kernelspec": {
   "display_name": "othello",
   "language": "python",
   "name": "python3"
  },
  "language_info": {
   "codemirror_mode": {
    "name": "ipython",
    "version": 3
   },
   "file_extension": ".py",
   "mimetype": "text/x-python",
   "name": "python",
   "nbconvert_exporter": "python",
   "pygments_lexer": "ipython3",
   "version": "3.10.13"
  }
 },
 "nbformat": 4,
 "nbformat_minor": 2
}
