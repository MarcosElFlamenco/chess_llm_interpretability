{
 "cells": [
  {
   "cell_type": "code",
   "execution_count": null,
   "metadata": {},
   "outputs": [],
   "source": [
    "import os\n",
    "import pickle\n",
    "import matplotlib.pyplot as plt\n",
    "\n",
    "PROBE_DIR = \"linear_probes/\"\n",
    "test_data_dir = os.path.join(PROBE_DIR, 'test_data')\n",
    "\n",
    "# Step 1: List all pickle files\n",
    "pickle_files = [f for f in os.listdir(test_data_dir) if f.endswith('.pkl')]\n",
    "\n",
    "# Step 2 and 3: Open each file and calculate average accuracy\n",
    "average_accuracies = []\n",
    "file_names = []\n",
    "for file in pickle_files:\n",
    "    with open(os.path.join(test_data_dir, file), 'rb') as f:\n",
    "        data = pickle.load(f)\n",
    "        average_accuracy = sum(data[\"accuracy\"]) / len(data[\"accuracy\"])\n",
    "        average_accuracies.append(average_accuracy)\n",
    "        file_names.append(file.split('.')[0])  # Assuming you want to display file names without .pkl"
   ]
  },
  {
   "cell_type": "code",
   "execution_count": null,
   "metadata": {},
   "outputs": [],
   "source": [
    "print(f\"{'File Name':<30} | {'Average Accuracy':>15}\")\n",
    "print(\"-\" * 48)\n",
    "for name, accuracy in zip(file_names, average_accuracies):\n",
    "    print(f\"{name:<30} | {accuracy:>15.4f}\")"
   ]
  },
  {
   "cell_type": "code",
   "execution_count": null,
   "metadata": {},
   "outputs": [],
   "source": [
    "import matplotlib.pyplot as plt\n",
    "\n",
    "# Data\n",
    "layer_names = [\"0\", \"1\", \"2\", \"3\", \"4\", \"5\", \"6\", \"7\"]\n",
    "accuracies = [0.6630, 0.6803, 0.6626, 0.7150, 0.8274, 0.8404, 0.8738, 0.8796]\n",
    "\n",
    "# Plotting\n",
    "plt.figure(figsize=(10,6))\n",
    "plt.bar(layer_names, accuracies,)\n",
    "plt.xlabel('Layer')\n",
    "plt.ylabel('Accuracy (%)')\n",
    "plt.title('Accuracy per Layer in Chess GPT for ELO Classification')\n",
    "plt.ylim(0.65, 0.90)  # Set y-axis limits for better visualization\n",
    "plt.show()"
   ]
  }
 ],
 "metadata": {
  "kernelspec": {
   "display_name": "othello",
   "language": "python",
   "name": "python3"
  },
  "language_info": {
   "codemirror_mode": {
    "name": "ipython",
    "version": 3
   },
   "file_extension": ".py",
   "mimetype": "text/x-python",
   "name": "python",
   "nbconvert_exporter": "python",
   "pygments_lexer": "ipython3",
   "version": "3.10.13"
  }
 },
 "nbformat": 4,
 "nbformat_minor": 2
}
