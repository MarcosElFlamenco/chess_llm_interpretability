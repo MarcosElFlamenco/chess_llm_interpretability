{
 "cells": [
  {
   "cell_type": "code",
   "execution_count": null,
   "metadata": {},
   "outputs": [],
   "source": [
    "import torch\n",
    "for i in range(12,13,2):\n",
    "    with open(f'tf_lens_lichess_16_ckpt_chess_piece_probe_layer_12.pth', 'rb') as f:\n",
    "        state_dict = torch.load(f, map_location=torch.device('cpu'))\n",
    "        print(state_dict.keys())\n",
    "        for key in state_dict.keys():\n",
    "            if key != \"linear_probe\":\n",
    "                print(key, state_dict[key])"
   ]
  }
 ],
 "metadata": {
  "kernelspec": {
   "display_name": "othello",
   "language": "python",
   "name": "python3"
  },
  "language_info": {
   "codemirror_mode": {
    "name": "ipython",
    "version": 3
   },
   "file_extension": ".py",
   "mimetype": "text/x-python",
   "name": "python",
   "nbconvert_exporter": "python",
   "pygments_lexer": "ipython3",
   "version": "3.10.13"
  }
 },
 "nbformat": 4,
 "nbformat_minor": 2
}
