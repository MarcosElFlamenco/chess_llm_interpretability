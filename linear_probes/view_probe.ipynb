{
 "cells": [
  {
   "cell_type": "code",
   "execution_count": null,
   "metadata": {},
   "outputs": [],
   "source": [
    "import torch\n",
    "for i in range(12,13,2):\n",
    "    with open(f'tf_lens_lichess_16_ckpt_chess_piece_probe_layer_12.pth', 'rb') as f:\n",
    "        state_dict = torch.load(f)\n",
    "        print(state_dict.keys())\n",
    "        print(\"layer\", i, state_dict['final_loss'])"
   ]
  },
  {
   "cell_type": "code",
   "execution_count": null,
   "metadata": {},
   "outputs": [],
   "source": [
    "import torch\n",
    "num_layers = 32\n",
    "for i in range(0,num_layers,2):\n",
    "    with open(f'tf_lens_{num_layers}_chess_piece_probe_layer_{i}.pth', 'rb') as f:\n",
    "        state_dict = torch.load(f)\n",
    "        print(state_dict.keys())\n",
    "        print(f\"layer: {i}\", state_dict['final_loss'])"
   ]
  },
  {
   "cell_type": "code",
   "execution_count": null,
   "metadata": {},
   "outputs": [],
   "source": [
    "import torch\n",
    "filename = 'ckpt_3487k_iters_pre_dropout_no_optim.pt'\n",
    "filename = '32_ckpt.pt'\n",
    "with open(filename, 'rb') as f:\n",
    "    checkpoint = torch.load(f, map_location='cpu')\n",
    "print(checkpoint.keys())\n",
    "print(checkpoint['best_val_loss'])\n",
    "print(checkpoint['iter_num'])"
   ]
  }
 ],
 "metadata": {
  "kernelspec": {
   "display_name": "othello",
   "language": "python",
   "name": "python3"
  },
  "language_info": {
   "codemirror_mode": {
    "name": "ipython",
    "version": 3
   },
   "file_extension": ".py",
   "mimetype": "text/x-python",
   "name": "python",
   "nbconvert_exporter": "python",
   "pygments_lexer": "ipython3",
   "version": "3.10.13"
  }
 },
 "nbformat": 4,
 "nbformat_minor": 2
}
