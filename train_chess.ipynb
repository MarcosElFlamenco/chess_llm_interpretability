{
 "cells": [
  {
   "cell_type": "code",
   "execution_count": 6,
   "metadata": {},
   "outputs": [
    {
     "name": "stdout",
     "output_type": "stream",
     "text": [
      "Moving model to device:  cuda\n"
     ]
    },
    {
     "data": {
      "text/plain": [
       "HookedTransformer(\n",
       "  (embed): Embed()\n",
       "  (hook_embed): HookPoint()\n",
       "  (pos_embed): PosEmbed()\n",
       "  (hook_pos_embed): HookPoint()\n",
       "  (blocks): ModuleList(\n",
       "    (0-15): 16 x TransformerBlock(\n",
       "      (ln1): LayerNormPre(\n",
       "        (hook_scale): HookPoint()\n",
       "        (hook_normalized): HookPoint()\n",
       "      )\n",
       "      (ln2): LayerNormPre(\n",
       "        (hook_scale): HookPoint()\n",
       "        (hook_normalized): HookPoint()\n",
       "      )\n",
       "      (attn): Attention(\n",
       "        (hook_k): HookPoint()\n",
       "        (hook_q): HookPoint()\n",
       "        (hook_v): HookPoint()\n",
       "        (hook_z): HookPoint()\n",
       "        (hook_attn_scores): HookPoint()\n",
       "        (hook_pattern): HookPoint()\n",
       "        (hook_result): HookPoint()\n",
       "      )\n",
       "      (mlp): MLP(\n",
       "        (hook_pre): HookPoint()\n",
       "        (hook_post): HookPoint()\n",
       "      )\n",
       "      (hook_attn_in): HookPoint()\n",
       "      (hook_q_input): HookPoint()\n",
       "      (hook_k_input): HookPoint()\n",
       "      (hook_v_input): HookPoint()\n",
       "      (hook_mlp_in): HookPoint()\n",
       "      (hook_attn_out): HookPoint()\n",
       "      (hook_mlp_out): HookPoint()\n",
       "      (hook_resid_pre): HookPoint()\n",
       "      (hook_resid_mid): HookPoint()\n",
       "      (hook_resid_post): HookPoint()\n",
       "    )\n",
       "  )\n",
       "  (ln_final): LayerNormPre(\n",
       "    (hook_scale): HookPoint()\n",
       "    (hook_normalized): HookPoint()\n",
       "  )\n",
       "  (unembed): Unembed()\n",
       ")"
      ]
     },
     "execution_count": 6,
     "metadata": {},
     "output_type": "execute_result"
    }
   ],
   "source": [
    "import transformer_lens.utils as utils\n",
    "from transformer_lens import HookedTransformer, HookedTransformerConfig\n",
    "# from mech_interp_othello_utils import OthelloBoardState\n",
    "import einops\n",
    "import torch\n",
    "from tqdm import tqdm\n",
    "import numpy as np\n",
    "from fancy_einsum import einsum\n",
    "import chess\n",
    "import numpy as np\n",
    "import csv\n",
    "import chess_utils\n",
    "\n",
    "device = \"cuda\"\n",
    "# device = \"cpu\"\n",
    "# device = \"mps\"\n",
    "\n",
    "n_layers = 16\n",
    "n_heads = 8\n",
    "MODEL_DIR = \"models/\"\n",
    "DATA_DIR = \"data/\"\n",
    "cfg = HookedTransformerConfig(\n",
    "    n_layers = n_layers,\n",
    "    d_model = 512,\n",
    "    d_head = 64,\n",
    "    n_heads = n_heads,\n",
    "    d_mlp = 2048,\n",
    "    d_vocab = 32,\n",
    "    n_ctx = 1023,\n",
    "    act_fn=\"gelu\",\n",
    "    normalization_type=\"LNPre\"\n",
    ")\n",
    "model = HookedTransformer(cfg)\n",
    "model.load_state_dict(torch.load(f'{MODEL_DIR}tf_lens_16.pth'))\n",
    "model.to(device)"
   ]
  },
  {
   "cell_type": "code",
   "execution_count": 7,
   "metadata": {},
   "outputs": [
    {
     "name": "stdout",
     "output_type": "stream",
     "text": [
      "torch.Size([32965, 680])\n",
      "torch.Size([32965, 61])\n",
      "32965 680\n"
     ]
    }
   ],
   "source": [
    "board_seqs_int = torch.tensor(np.load(f\"{DATA_DIR}train_board_seqs_int.npy\")).long()\n",
    "print(board_seqs_int.shape)\n",
    "dots_indices = torch.tensor(np.load(f\"{DATA_DIR}train_dots_indices.npy\")).long()\n",
    "# state_stack = torch.tensor(np.load(\"state_stacks_5k.npy\")).long()\n",
    "print(dots_indices.shape)\n",
    "# print(state_stack.shape)\n",
    "\n",
    "board_seqs_string = []\n",
    "\n",
    "with open(f\"{DATA_DIR}train_board_seqs_string.csv\", newline='') as csvfile:\n",
    "    reader = csv.reader(csvfile, delimiter=',')\n",
    "    for row in reader:\n",
    "        board_seqs_string.append(row[0])\n",
    "print(len(board_seqs_string), len(board_seqs_string[0]))\n",
    "# print(board_seqs_string[0])\n"
   ]
  },
  {
   "cell_type": "code",
   "execution_count": 8,
   "metadata": {},
   "outputs": [
    {
     "name": "stdout",
     "output_type": "stream",
     "text": [
      "(680, 8, 8)\n",
      "torch.Size([680, 8, 8])\n",
      "torch.Size([50, 680, 8, 8])\n"
     ]
    }
   ],
   "source": [
    "# print(board_seqs_string[0])\n",
    "# custom_function = chess_utils.board_to_piece_state\n",
    "custom_function = chess_utils.board_to_random_state\n",
    "print(chess_utils.create_state_stack(board_seqs_string[0], custom_function).shape)\n",
    "\n",
    "state_stack = torch.tensor(chess_utils.create_state_stack(board_seqs_string[0], custom_function)).long()\n",
    "print(state_stack.shape)\n",
    "\n",
    "state_stacks = chess_utils.create_state_stacks(board_seqs_string[:50], custom_function)\n",
    "print(state_stacks.shape)"
   ]
  },
  {
   "cell_type": "code",
   "execution_count": 9,
   "metadata": {},
   "outputs": [
    {
     "name": "stdout",
     "output_type": "stream",
     "text": [
      "torch.Size([1, 50, 680, 8, 8, 3])\n",
      "tensor([[[[1, 0, 0],\n",
      "          [0, 0, 0],\n",
      "          [0, 1, 0]],\n",
      "\n",
      "         [[0, 0, 0],\n",
      "          [0, 1, 0],\n",
      "          [1, 0, 0]],\n",
      "\n",
      "         [[1, 0, 0],\n",
      "          [1, 0, 0],\n",
      "          [1, 0, 0]],\n",
      "\n",
      "         [[1, 0, 0],\n",
      "          [1, 0, 0],\n",
      "          [0, 0, 0]]]], device='cuda:0')\n",
      "tensor([[ 0, -3, -1],\n",
      "        [-2, -1,  0],\n",
      "        [ 0,  0,  0],\n",
      "        [ 0,  0, -6]])\n"
     ]
    }
   ],
   "source": [
    "layer = 12\n",
    "batch_size = 1\n",
    "lr = 2e-4\n",
    "wd = 0.01\n",
    "pos_start = 0\n",
    "# pos_end = model.cfg.n_ctx - 5\n",
    "input_length = 680\n",
    "pos_end = input_length - 0\n",
    "length = pos_end - pos_start\n",
    "options = 3\n",
    "rows = 8\n",
    "cols = 8\n",
    "num_epochs = 1\n",
    "num_games = 20000\n",
    "x = 0\n",
    "y = 2\n",
    "probe_name = \"main_chess_linear_probe\"\n",
    "# The first mode is blank or not, the second mode is next or prev GIVEN that it is not blank\n",
    "modes = 1\n",
    "alternating = torch.tensor([1 if i%2 == 0 else -1 for i in range(length)], device=device)\n",
    "\n",
    "\n",
    "state_stack_one_hot = chess_utils.state_stack_to_one_hot(modes, rows, cols, options, device, state_stacks)\n",
    "print(state_stack_one_hot.shape)\n",
    "print((state_stack_one_hot[:, 1, 170, 4:9, 2:5]))\n",
    "print((state_stacks[1, 170, 4:9, 2:5]))"
   ]
  },
  {
   "cell_type": "code",
   "execution_count": 10,
   "metadata": {},
   "outputs": [
    {
     "name": "stdout",
     "output_type": "stream",
     "text": [
      "torch.Size([1, 512, 8, 8, 3])\n",
      "torch.Size([32965, 61])\n"
     ]
    },
    {
     "name": "stderr",
     "output_type": "stream",
     "text": [
      "  0%|          | 3/20000 [00:00<41:26,  8.04it/s]  "
     ]
    },
    {
     "name": "stdout",
     "output_type": "stream",
     "text": [
      "epoch 0, batch 0, loss_all 62.03626251220703, lr 0.0003\n"
     ]
    },
    {
     "name": "stderr",
     "output_type": "stream",
     "text": [
      "  1%|          | 103/20000 [00:07<21:56, 15.11it/s]"
     ]
    },
    {
     "name": "stdout",
     "output_type": "stream",
     "text": [
      "epoch 0, batch 100, loss_all 39.2083854675293, lr 0.00029864999999999997\n"
     ]
    },
    {
     "name": "stderr",
     "output_type": "stream",
     "text": [
      "  1%|          | 203/20000 [00:13<21:14, 15.54it/s]"
     ]
    },
    {
     "name": "stdout",
     "output_type": "stream",
     "text": [
      "epoch 0, batch 200, loss_all 21.137514114379883, lr 0.00029729999999999996\n"
     ]
    },
    {
     "name": "stderr",
     "output_type": "stream",
     "text": [
      "  2%|▏         | 303/20000 [00:20<21:39, 15.16it/s]"
     ]
    },
    {
     "name": "stdout",
     "output_type": "stream",
     "text": [
      "epoch 0, batch 300, loss_all 20.06332015991211, lr 0.00029594999999999996\n"
     ]
    },
    {
     "name": "stderr",
     "output_type": "stream",
     "text": [
      "  2%|▏         | 403/20000 [00:27<21:45, 15.02it/s]"
     ]
    },
    {
     "name": "stdout",
     "output_type": "stream",
     "text": [
      "epoch 0, batch 400, loss_all 16.529720306396484, lr 0.00029459999999999995\n"
     ]
    },
    {
     "name": "stderr",
     "output_type": "stream",
     "text": [
      "  3%|▎         | 503/20000 [00:34<23:41, 13.72it/s]"
     ]
    },
    {
     "name": "stdout",
     "output_type": "stream",
     "text": [
      "epoch 0, batch 500, loss_all 13.581440925598145, lr 0.00029325\n"
     ]
    },
    {
     "name": "stderr",
     "output_type": "stream",
     "text": [
      "  3%|▎         | 603/20000 [00:40<21:44, 14.86it/s]"
     ]
    },
    {
     "name": "stdout",
     "output_type": "stream",
     "text": [
      "epoch 0, batch 600, loss_all 14.05904769897461, lr 0.0002919\n"
     ]
    },
    {
     "name": "stderr",
     "output_type": "stream",
     "text": [
      "  4%|▎         | 703/20000 [00:47<21:13, 15.16it/s]"
     ]
    },
    {
     "name": "stdout",
     "output_type": "stream",
     "text": [
      "epoch 0, batch 700, loss_all 14.965091705322266, lr 0.00029055\n"
     ]
    },
    {
     "name": "stderr",
     "output_type": "stream",
     "text": [
      "  4%|▍         | 803/20000 [00:54<24:22, 13.13it/s]"
     ]
    },
    {
     "name": "stdout",
     "output_type": "stream",
     "text": [
      "epoch 0, batch 800, loss_all 16.13270378112793, lr 0.0002892\n"
     ]
    },
    {
     "name": "stderr",
     "output_type": "stream",
     "text": [
      "  5%|▍         | 903/20000 [01:01<21:08, 15.06it/s]"
     ]
    },
    {
     "name": "stdout",
     "output_type": "stream",
     "text": [
      "epoch 0, batch 900, loss_all 11.242273330688477, lr 0.00028785\n"
     ]
    },
    {
     "name": "stderr",
     "output_type": "stream",
     "text": [
      "  5%|▌         | 1003/20000 [01:07<23:35, 13.42it/s]"
     ]
    },
    {
     "name": "stdout",
     "output_type": "stream",
     "text": [
      "epoch 0, batch 1000, loss_all 12.12214183807373, lr 0.00028649999999999997\n"
     ]
    },
    {
     "name": "stderr",
     "output_type": "stream",
     "text": [
      "  6%|▌         | 1101/20000 [01:14<20:49, 15.12it/s]"
     ]
    },
    {
     "name": "stdout",
     "output_type": "stream",
     "text": [
      "epoch 0, batch 1100, loss_all 11.869556427001953, lr 0.00028514999999999997\n"
     ]
    },
    {
     "name": "stderr",
     "output_type": "stream",
     "text": [
      "  6%|▌         | 1203/20000 [01:21<20:13, 15.49it/s]"
     ]
    },
    {
     "name": "stdout",
     "output_type": "stream",
     "text": [
      "epoch 0, batch 1200, loss_all 8.985404968261719, lr 0.00028379999999999996\n"
     ]
    },
    {
     "name": "stderr",
     "output_type": "stream",
     "text": [
      "  7%|▋         | 1303/20000 [01:28<19:53, 15.66it/s]"
     ]
    },
    {
     "name": "stdout",
     "output_type": "stream",
     "text": [
      "epoch 0, batch 1300, loss_all 6.622826099395752, lr 0.00028244999999999995\n"
     ]
    },
    {
     "name": "stderr",
     "output_type": "stream",
     "text": [
      "  7%|▋         | 1403/20000 [01:34<20:36, 15.04it/s]"
     ]
    },
    {
     "name": "stdout",
     "output_type": "stream",
     "text": [
      "epoch 0, batch 1400, loss_all 7.587137699127197, lr 0.00028109999999999995\n"
     ]
    },
    {
     "name": "stderr",
     "output_type": "stream",
     "text": [
      "  8%|▊         | 1503/20000 [01:41<19:46, 15.59it/s]"
     ]
    },
    {
     "name": "stdout",
     "output_type": "stream",
     "text": [
      "epoch 0, batch 1500, loss_all 7.010620594024658, lr 0.00027975\n"
     ]
    },
    {
     "name": "stderr",
     "output_type": "stream",
     "text": [
      "  8%|▊         | 1603/20000 [01:47<19:31, 15.71it/s]"
     ]
    },
    {
     "name": "stdout",
     "output_type": "stream",
     "text": [
      "epoch 0, batch 1600, loss_all 5.288511276245117, lr 0.0002784\n"
     ]
    },
    {
     "name": "stderr",
     "output_type": "stream",
     "text": [
      "  9%|▊         | 1703/20000 [01:54<19:54, 15.31it/s]"
     ]
    },
    {
     "name": "stdout",
     "output_type": "stream",
     "text": [
      "epoch 0, batch 1700, loss_all 6.453079700469971, lr 0.00027705\n"
     ]
    },
    {
     "name": "stderr",
     "output_type": "stream",
     "text": [
      "  9%|▉         | 1803/20000 [02:01<20:09, 15.04it/s]"
     ]
    },
    {
     "name": "stdout",
     "output_type": "stream",
     "text": [
      "epoch 0, batch 1800, loss_all 7.647994041442871, lr 0.0002757\n"
     ]
    },
    {
     "name": "stderr",
     "output_type": "stream",
     "text": [
      " 10%|▉         | 1903/20000 [02:07<19:10, 15.73it/s]"
     ]
    },
    {
     "name": "stdout",
     "output_type": "stream",
     "text": [
      "epoch 0, batch 1900, loss_all 6.221775531768799, lr 0.00027435\n"
     ]
    },
    {
     "name": "stderr",
     "output_type": "stream",
     "text": [
      " 10%|█         | 2003/20000 [02:14<19:39, 15.25it/s]"
     ]
    },
    {
     "name": "stdout",
     "output_type": "stream",
     "text": [
      "epoch 0, batch 2000, loss_all 7.008203029632568, lr 0.00027299999999999997\n"
     ]
    },
    {
     "name": "stderr",
     "output_type": "stream",
     "text": [
      " 11%|█         | 2103/20000 [02:20<19:58, 14.93it/s]"
     ]
    },
    {
     "name": "stdout",
     "output_type": "stream",
     "text": [
      "epoch 0, batch 2100, loss_all 5.865969181060791, lr 0.00027164999999999996\n"
     ]
    },
    {
     "name": "stderr",
     "output_type": "stream",
     "text": [
      " 11%|█         | 2203/20000 [02:27<21:41, 13.68it/s]"
     ]
    },
    {
     "name": "stdout",
     "output_type": "stream",
     "text": [
      "epoch 0, batch 2200, loss_all 7.393901824951172, lr 0.00027029999999999996\n"
     ]
    },
    {
     "name": "stderr",
     "output_type": "stream",
     "text": [
      " 12%|█▏        | 2303/20000 [02:34<19:50, 14.87it/s]"
     ]
    },
    {
     "name": "stdout",
     "output_type": "stream",
     "text": [
      "epoch 0, batch 2300, loss_all 4.3310370445251465, lr 0.00026895\n"
     ]
    },
    {
     "name": "stderr",
     "output_type": "stream",
     "text": [
      " 12%|█▏        | 2403/20000 [02:40<18:59, 15.44it/s]"
     ]
    },
    {
     "name": "stdout",
     "output_type": "stream",
     "text": [
      "epoch 0, batch 2400, loss_all 3.355679988861084, lr 0.0002676\n"
     ]
    },
    {
     "name": "stderr",
     "output_type": "stream",
     "text": [
      " 13%|█▎        | 2501/20000 [02:47<19:32, 14.92it/s]"
     ]
    },
    {
     "name": "stdout",
     "output_type": "stream",
     "text": [
      "epoch 0, batch 2500, loss_all 5.356806755065918, lr 0.00026625\n"
     ]
    },
    {
     "name": "stderr",
     "output_type": "stream",
     "text": [
      " 13%|█▎        | 2603/20000 [02:54<18:46, 15.44it/s]"
     ]
    },
    {
     "name": "stdout",
     "output_type": "stream",
     "text": [
      "epoch 0, batch 2600, loss_all 5.01554012298584, lr 0.0002649\n"
     ]
    },
    {
     "name": "stderr",
     "output_type": "stream",
     "text": [
      " 14%|█▎        | 2703/20000 [03:01<20:30, 14.05it/s]"
     ]
    },
    {
     "name": "stdout",
     "output_type": "stream",
     "text": [
      "epoch 0, batch 2700, loss_all 3.4798214435577393, lr 0.00026355\n"
     ]
    },
    {
     "name": "stderr",
     "output_type": "stream",
     "text": [
      " 14%|█▍        | 2803/20000 [03:07<21:23, 13.40it/s]"
     ]
    },
    {
     "name": "stdout",
     "output_type": "stream",
     "text": [
      "epoch 0, batch 2800, loss_all 5.439968109130859, lr 0.0002622\n"
     ]
    },
    {
     "name": "stderr",
     "output_type": "stream",
     "text": [
      " 15%|█▍        | 2903/20000 [03:14<18:21, 15.53it/s]"
     ]
    },
    {
     "name": "stdout",
     "output_type": "stream",
     "text": [
      "epoch 0, batch 2900, loss_all 3.671208381652832, lr 0.00026084999999999997\n"
     ]
    },
    {
     "name": "stderr",
     "output_type": "stream",
     "text": [
      " 15%|█▌        | 3003/20000 [03:20<17:56, 15.79it/s]"
     ]
    },
    {
     "name": "stdout",
     "output_type": "stream",
     "text": [
      "epoch 0, batch 3000, loss_all 3.42563533782959, lr 0.00025949999999999997\n"
     ]
    },
    {
     "name": "stderr",
     "output_type": "stream",
     "text": [
      " 16%|█▌        | 3103/20000 [03:27<19:16, 14.61it/s]"
     ]
    },
    {
     "name": "stdout",
     "output_type": "stream",
     "text": [
      "epoch 0, batch 3100, loss_all 3.5648765563964844, lr 0.00025814999999999996\n"
     ]
    },
    {
     "name": "stderr",
     "output_type": "stream",
     "text": [
      " 16%|█▌        | 3203/20000 [03:34<18:14, 15.34it/s]"
     ]
    },
    {
     "name": "stdout",
     "output_type": "stream",
     "text": [
      "epoch 0, batch 3200, loss_all 2.1220219135284424, lr 0.00025679999999999995\n"
     ]
    },
    {
     "name": "stderr",
     "output_type": "stream",
     "text": [
      " 17%|█▋        | 3303/20000 [03:40<17:54, 15.53it/s]"
     ]
    },
    {
     "name": "stdout",
     "output_type": "stream",
     "text": [
      "epoch 0, batch 3300, loss_all 2.2323927879333496, lr 0.00025545\n"
     ]
    },
    {
     "name": "stderr",
     "output_type": "stream",
     "text": [
      " 17%|█▋        | 3403/20000 [03:47<17:57, 15.40it/s]"
     ]
    },
    {
     "name": "stdout",
     "output_type": "stream",
     "text": [
      "epoch 0, batch 3400, loss_all 4.636081218719482, lr 0.0002541\n"
     ]
    },
    {
     "name": "stderr",
     "output_type": "stream",
     "text": [
      " 18%|█▊        | 3503/20000 [03:54<17:53, 15.37it/s]"
     ]
    },
    {
     "name": "stdout",
     "output_type": "stream",
     "text": [
      "epoch 0, batch 3500, loss_all 2.488813877105713, lr 0.00025275\n"
     ]
    },
    {
     "name": "stderr",
     "output_type": "stream",
     "text": [
      " 18%|█▊        | 3603/20000 [04:00<17:35, 15.53it/s]"
     ]
    },
    {
     "name": "stdout",
     "output_type": "stream",
     "text": [
      "epoch 0, batch 3600, loss_all 3.1598339080810547, lr 0.0002514\n"
     ]
    },
    {
     "name": "stderr",
     "output_type": "stream",
     "text": [
      " 19%|█▊        | 3703/20000 [04:07<17:44, 15.30it/s]"
     ]
    },
    {
     "name": "stdout",
     "output_type": "stream",
     "text": [
      "epoch 0, batch 3700, loss_all 2.0528037548065186, lr 0.00025005\n"
     ]
    },
    {
     "name": "stderr",
     "output_type": "stream",
     "text": [
      " 19%|█▉        | 3803/20000 [04:14<17:47, 15.17it/s]"
     ]
    },
    {
     "name": "stdout",
     "output_type": "stream",
     "text": [
      "epoch 0, batch 3800, loss_all 1.9645663499832153, lr 0.0002487\n"
     ]
    },
    {
     "name": "stderr",
     "output_type": "stream",
     "text": [
      " 20%|█▉        | 3903/20000 [04:20<19:33, 13.71it/s]"
     ]
    },
    {
     "name": "stdout",
     "output_type": "stream",
     "text": [
      "epoch 0, batch 3900, loss_all 3.1252551078796387, lr 0.00024734999999999997\n"
     ]
    },
    {
     "name": "stderr",
     "output_type": "stream",
     "text": [
      " 20%|██        | 4003/20000 [04:27<18:19, 14.54it/s]"
     ]
    },
    {
     "name": "stdout",
     "output_type": "stream",
     "text": [
      "epoch 0, batch 4000, loss_all 2.64620304107666, lr 0.00024599999999999996\n"
     ]
    },
    {
     "name": "stderr",
     "output_type": "stream",
     "text": [
      " 21%|██        | 4103/20000 [04:34<17:42, 14.96it/s]"
     ]
    },
    {
     "name": "stdout",
     "output_type": "stream",
     "text": [
      "epoch 0, batch 4100, loss_all 1.7403746843338013, lr 0.00024465\n"
     ]
    },
    {
     "name": "stderr",
     "output_type": "stream",
     "text": [
      " 21%|██        | 4203/20000 [04:41<19:57, 13.19it/s]"
     ]
    },
    {
     "name": "stdout",
     "output_type": "stream",
     "text": [
      "epoch 0, batch 4200, loss_all 3.0500259399414062, lr 0.00024329999999999998\n"
     ]
    },
    {
     "name": "stderr",
     "output_type": "stream",
     "text": [
      " 22%|██▏       | 4303/20000 [04:47<17:04, 15.32it/s]"
     ]
    },
    {
     "name": "stdout",
     "output_type": "stream",
     "text": [
      "epoch 0, batch 4300, loss_all 2.8039870262145996, lr 0.00024195\n"
     ]
    },
    {
     "name": "stderr",
     "output_type": "stream",
     "text": [
      " 22%|██▏       | 4403/20000 [04:54<19:43, 13.18it/s]"
     ]
    },
    {
     "name": "stdout",
     "output_type": "stream",
     "text": [
      "epoch 0, batch 4400, loss_all 2.6634068489074707, lr 0.0002406\n"
     ]
    },
    {
     "name": "stderr",
     "output_type": "stream",
     "text": [
      " 23%|██▎       | 4501/20000 [05:01<17:45, 14.55it/s]"
     ]
    },
    {
     "name": "stdout",
     "output_type": "stream",
     "text": [
      "epoch 0, batch 4500, loss_all 2.04876446723938, lr 0.00023925\n"
     ]
    },
    {
     "name": "stderr",
     "output_type": "stream",
     "text": [
      " 23%|██▎       | 4603/20000 [05:08<17:15, 14.87it/s]"
     ]
    },
    {
     "name": "stdout",
     "output_type": "stream",
     "text": [
      "epoch 0, batch 4600, loss_all 1.8809484243392944, lr 0.00023789999999999998\n"
     ]
    },
    {
     "name": "stderr",
     "output_type": "stream",
     "text": [
      " 24%|██▎       | 4703/20000 [05:15<16:53, 15.09it/s]"
     ]
    },
    {
     "name": "stdout",
     "output_type": "stream",
     "text": [
      "epoch 0, batch 4700, loss_all 1.9459104537963867, lr 0.00023654999999999998\n"
     ]
    },
    {
     "name": "stderr",
     "output_type": "stream",
     "text": [
      " 24%|██▍       | 4803/20000 [05:21<16:58, 14.92it/s]"
     ]
    },
    {
     "name": "stdout",
     "output_type": "stream",
     "text": [
      "epoch 0, batch 4800, loss_all 1.9645875692367554, lr 0.00023519999999999997\n"
     ]
    },
    {
     "name": "stderr",
     "output_type": "stream",
     "text": [
      " 25%|██▍       | 4903/20000 [05:28<16:02, 15.68it/s]"
     ]
    },
    {
     "name": "stdout",
     "output_type": "stream",
     "text": [
      "epoch 0, batch 4900, loss_all 1.8264400959014893, lr 0.00023385\n"
     ]
    },
    {
     "name": "stderr",
     "output_type": "stream",
     "text": [
      " 25%|██▌       | 5003/20000 [05:34<16:02, 15.59it/s]"
     ]
    },
    {
     "name": "stdout",
     "output_type": "stream",
     "text": [
      "epoch 0, batch 5000, loss_all 3.05661678314209, lr 0.00023249999999999999\n"
     ]
    },
    {
     "name": "stderr",
     "output_type": "stream",
     "text": [
      " 26%|██▌       | 5103/20000 [05:41<15:50, 15.67it/s]"
     ]
    },
    {
     "name": "stdout",
     "output_type": "stream",
     "text": [
      "epoch 0, batch 5100, loss_all 2.142822265625, lr 0.00023114999999999998\n"
     ]
    },
    {
     "name": "stderr",
     "output_type": "stream",
     "text": [
      " 26%|██▌       | 5203/20000 [05:48<15:58, 15.44it/s]"
     ]
    },
    {
     "name": "stdout",
     "output_type": "stream",
     "text": [
      "epoch 0, batch 5200, loss_all 1.8048148155212402, lr 0.0002298\n"
     ]
    },
    {
     "name": "stderr",
     "output_type": "stream",
     "text": [
      " 27%|██▋       | 5303/20000 [05:54<15:35, 15.71it/s]"
     ]
    },
    {
     "name": "stdout",
     "output_type": "stream",
     "text": [
      "epoch 0, batch 5300, loss_all 2.4717702865600586, lr 0.00022845\n"
     ]
    },
    {
     "name": "stderr",
     "output_type": "stream",
     "text": [
      " 27%|██▋       | 5403/20000 [06:01<15:50, 15.36it/s]"
     ]
    },
    {
     "name": "stdout",
     "output_type": "stream",
     "text": [
      "epoch 0, batch 5400, loss_all 1.4902658462524414, lr 0.0002271\n"
     ]
    },
    {
     "name": "stderr",
     "output_type": "stream",
     "text": [
      " 28%|██▊       | 5503/20000 [06:07<15:38, 15.45it/s]"
     ]
    },
    {
     "name": "stdout",
     "output_type": "stream",
     "text": [
      "epoch 0, batch 5500, loss_all 1.6425024271011353, lr 0.00022574999999999998\n"
     ]
    },
    {
     "name": "stderr",
     "output_type": "stream",
     "text": [
      " 28%|██▊       | 5603/20000 [06:14<16:54, 14.18it/s]"
     ]
    },
    {
     "name": "stdout",
     "output_type": "stream",
     "text": [
      "epoch 0, batch 5600, loss_all 0.8860893249511719, lr 0.00022439999999999998\n"
     ]
    },
    {
     "name": "stderr",
     "output_type": "stream",
     "text": [
      " 29%|██▊       | 5703/20000 [06:21<16:21, 14.56it/s]"
     ]
    },
    {
     "name": "stdout",
     "output_type": "stream",
     "text": [
      "epoch 0, batch 5700, loss_all 1.4558809995651245, lr 0.00022305\n"
     ]
    },
    {
     "name": "stderr",
     "output_type": "stream",
     "text": [
      " 29%|██▉       | 5803/20000 [06:27<15:21, 15.41it/s]"
     ]
    },
    {
     "name": "stdout",
     "output_type": "stream",
     "text": [
      "epoch 0, batch 5800, loss_all 1.6428847312927246, lr 0.0002217\n"
     ]
    },
    {
     "name": "stderr",
     "output_type": "stream",
     "text": [
      " 30%|██▉       | 5901/20000 [06:34<15:23, 15.26it/s]"
     ]
    },
    {
     "name": "stdout",
     "output_type": "stream",
     "text": [
      "epoch 0, batch 5900, loss_all 1.2311309576034546, lr 0.00022035\n"
     ]
    },
    {
     "name": "stderr",
     "output_type": "stream",
     "text": [
      " 30%|███       | 6003/20000 [06:41<15:20, 15.21it/s]"
     ]
    },
    {
     "name": "stdout",
     "output_type": "stream",
     "text": [
      "epoch 0, batch 6000, loss_all 1.6527411937713623, lr 0.000219\n"
     ]
    },
    {
     "name": "stderr",
     "output_type": "stream",
     "text": [
      " 31%|███       | 6103/20000 [06:48<16:56, 13.67it/s]"
     ]
    },
    {
     "name": "stdout",
     "output_type": "stream",
     "text": [
      "epoch 0, batch 6100, loss_all 1.9230737686157227, lr 0.00021765\n"
     ]
    },
    {
     "name": "stderr",
     "output_type": "stream",
     "text": [
      " 31%|███       | 6203/20000 [06:54<17:00, 13.52it/s]"
     ]
    },
    {
     "name": "stdout",
     "output_type": "stream",
     "text": [
      "epoch 0, batch 6200, loss_all 1.46712327003479, lr 0.0002163\n"
     ]
    },
    {
     "name": "stderr",
     "output_type": "stream",
     "text": [
      " 32%|███▏      | 6303/20000 [07:01<14:51, 15.36it/s]"
     ]
    },
    {
     "name": "stdout",
     "output_type": "stream",
     "text": [
      "epoch 0, batch 6300, loss_all 3.1241068840026855, lr 0.00021495\n"
     ]
    },
    {
     "name": "stderr",
     "output_type": "stream",
     "text": [
      " 32%|███▏      | 6403/20000 [07:08<14:43, 15.38it/s]"
     ]
    },
    {
     "name": "stdout",
     "output_type": "stream",
     "text": [
      "epoch 0, batch 6400, loss_all 1.0990499258041382, lr 0.0002136\n"
     ]
    },
    {
     "name": "stderr",
     "output_type": "stream",
     "text": [
      " 33%|███▎      | 6503/20000 [07:14<15:42, 14.32it/s]"
     ]
    },
    {
     "name": "stdout",
     "output_type": "stream",
     "text": [
      "epoch 0, batch 6500, loss_all 2.4839587211608887, lr 0.00021224999999999998\n"
     ]
    },
    {
     "name": "stderr",
     "output_type": "stream",
     "text": [
      " 33%|███▎      | 6603/20000 [07:21<14:25, 15.49it/s]"
     ]
    },
    {
     "name": "stdout",
     "output_type": "stream",
     "text": [
      "epoch 0, batch 6600, loss_all 0.7710881233215332, lr 0.00021089999999999998\n"
     ]
    },
    {
     "name": "stderr",
     "output_type": "stream",
     "text": [
      " 34%|███▎      | 6703/20000 [07:28<14:18, 15.49it/s]"
     ]
    },
    {
     "name": "stdout",
     "output_type": "stream",
     "text": [
      "epoch 0, batch 6700, loss_all 0.9138200283050537, lr 0.00020954999999999997\n"
     ]
    },
    {
     "name": "stderr",
     "output_type": "stream",
     "text": [
      " 34%|███▍      | 6803/20000 [07:34<14:07, 15.57it/s]"
     ]
    },
    {
     "name": "stdout",
     "output_type": "stream",
     "text": [
      "epoch 0, batch 6800, loss_all 1.8745077848434448, lr 0.00020819999999999996\n"
     ]
    },
    {
     "name": "stderr",
     "output_type": "stream",
     "text": [
      " 35%|███▍      | 6903/20000 [07:41<14:07, 15.45it/s]"
     ]
    },
    {
     "name": "stdout",
     "output_type": "stream",
     "text": [
      "epoch 0, batch 6900, loss_all 2.1971802711486816, lr 0.00020685\n"
     ]
    },
    {
     "name": "stderr",
     "output_type": "stream",
     "text": [
      " 35%|███▌      | 7003/20000 [07:48<14:17, 15.15it/s]"
     ]
    },
    {
     "name": "stdout",
     "output_type": "stream",
     "text": [
      "epoch 0, batch 7000, loss_all 1.3817251920700073, lr 0.0002055\n"
     ]
    },
    {
     "name": "stderr",
     "output_type": "stream",
     "text": [
      " 36%|███▌      | 7103/20000 [07:54<13:47, 15.58it/s]"
     ]
    },
    {
     "name": "stdout",
     "output_type": "stream",
     "text": [
      "epoch 0, batch 7100, loss_all 0.8754125833511353, lr 0.00020415\n"
     ]
    },
    {
     "name": "stderr",
     "output_type": "stream",
     "text": [
      " 36%|███▌      | 7203/20000 [08:01<13:40, 15.60it/s]"
     ]
    },
    {
     "name": "stdout",
     "output_type": "stream",
     "text": [
      "epoch 0, batch 7200, loss_all 1.5108411312103271, lr 0.0002028\n"
     ]
    },
    {
     "name": "stderr",
     "output_type": "stream",
     "text": [
      " 37%|███▋      | 7303/20000 [08:08<15:04, 14.03it/s]"
     ]
    },
    {
     "name": "stdout",
     "output_type": "stream",
     "text": [
      "epoch 0, batch 7300, loss_all 1.2908724546432495, lr 0.00020145\n"
     ]
    },
    {
     "name": "stderr",
     "output_type": "stream",
     "text": [
      " 37%|███▋      | 7403/20000 [08:15<14:21, 14.62it/s]"
     ]
    },
    {
     "name": "stdout",
     "output_type": "stream",
     "text": [
      "epoch 0, batch 7400, loss_all 1.470227837562561, lr 0.00020009999999999998\n"
     ]
    },
    {
     "name": "stderr",
     "output_type": "stream",
     "text": [
      " 38%|███▊      | 7503/20000 [08:21<13:21, 15.58it/s]"
     ]
    },
    {
     "name": "stdout",
     "output_type": "stream",
     "text": [
      "epoch 0, batch 7500, loss_all 1.5737911462783813, lr 0.00019874999999999998\n"
     ]
    },
    {
     "name": "stderr",
     "output_type": "stream",
     "text": [
      " 38%|███▊      | 7603/20000 [08:28<15:35, 13.25it/s]"
     ]
    },
    {
     "name": "stdout",
     "output_type": "stream",
     "text": [
      "epoch 0, batch 7600, loss_all 1.7461750507354736, lr 0.00019739999999999997\n"
     ]
    },
    {
     "name": "stderr",
     "output_type": "stream",
     "text": [
      " 39%|███▊      | 7703/20000 [08:35<13:46, 14.88it/s]"
     ]
    },
    {
     "name": "stdout",
     "output_type": "stream",
     "text": [
      "epoch 0, batch 7700, loss_all 1.597095012664795, lr 0.00019605\n"
     ]
    },
    {
     "name": "stderr",
     "output_type": "stream",
     "text": [
      " 39%|███▉      | 7803/20000 [08:42<15:31, 13.09it/s]"
     ]
    },
    {
     "name": "stdout",
     "output_type": "stream",
     "text": [
      "epoch 0, batch 7800, loss_all 1.9963592290878296, lr 0.0001947\n"
     ]
    },
    {
     "name": "stderr",
     "output_type": "stream",
     "text": [
      " 40%|███▉      | 7901/20000 [08:48<13:16, 15.19it/s]"
     ]
    },
    {
     "name": "stdout",
     "output_type": "stream",
     "text": [
      "epoch 0, batch 7900, loss_all 0.7095988988876343, lr 0.00019334999999999998\n"
     ]
    },
    {
     "name": "stderr",
     "output_type": "stream",
     "text": [
      " 40%|████      | 8003/20000 [08:55<13:13, 15.12it/s]"
     ]
    },
    {
     "name": "stdout",
     "output_type": "stream",
     "text": [
      "epoch 0, batch 8000, loss_all 1.021114706993103, lr 0.000192\n"
     ]
    },
    {
     "name": "stderr",
     "output_type": "stream",
     "text": [
      " 41%|████      | 8103/20000 [09:02<13:04, 15.16it/s]"
     ]
    },
    {
     "name": "stdout",
     "output_type": "stream",
     "text": [
      "epoch 0, batch 8100, loss_all 1.421419620513916, lr 0.00019065\n"
     ]
    },
    {
     "name": "stderr",
     "output_type": "stream",
     "text": [
      " 41%|████      | 8203/20000 [09:09<13:42, 14.35it/s]"
     ]
    },
    {
     "name": "stdout",
     "output_type": "stream",
     "text": [
      "epoch 0, batch 8200, loss_all 2.710221290588379, lr 0.0001893\n"
     ]
    },
    {
     "name": "stderr",
     "output_type": "stream",
     "text": [
      " 42%|████▏     | 8303/20000 [09:16<13:34, 14.36it/s]"
     ]
    },
    {
     "name": "stdout",
     "output_type": "stream",
     "text": [
      "epoch 0, batch 8300, loss_all 1.627267837524414, lr 0.00018795\n"
     ]
    },
    {
     "name": "stderr",
     "output_type": "stream",
     "text": [
      " 42%|████▏     | 8403/20000 [09:22<12:26, 15.54it/s]"
     ]
    },
    {
     "name": "stdout",
     "output_type": "stream",
     "text": [
      "epoch 0, batch 8400, loss_all 0.9276753664016724, lr 0.00018659999999999998\n"
     ]
    },
    {
     "name": "stderr",
     "output_type": "stream",
     "text": [
      " 43%|████▎     | 8503/20000 [09:29<12:20, 15.52it/s]"
     ]
    },
    {
     "name": "stdout",
     "output_type": "stream",
     "text": [
      "epoch 0, batch 8500, loss_all 1.822339415550232, lr 0.00018525\n"
     ]
    },
    {
     "name": "stderr",
     "output_type": "stream",
     "text": [
      " 43%|████▎     | 8603/20000 [09:36<12:13, 15.54it/s]"
     ]
    },
    {
     "name": "stdout",
     "output_type": "stream",
     "text": [
      "epoch 0, batch 8600, loss_all 0.9959419965744019, lr 0.0001839\n"
     ]
    },
    {
     "name": "stderr",
     "output_type": "stream",
     "text": [
      " 44%|████▎     | 8703/20000 [09:42<12:05, 15.58it/s]"
     ]
    },
    {
     "name": "stdout",
     "output_type": "stream",
     "text": [
      "epoch 0, batch 8700, loss_all 0.947161078453064, lr 0.00018255\n"
     ]
    },
    {
     "name": "stderr",
     "output_type": "stream",
     "text": [
      " 44%|████▍     | 8803/20000 [09:49<11:51, 15.73it/s]"
     ]
    },
    {
     "name": "stdout",
     "output_type": "stream",
     "text": [
      "epoch 0, batch 8800, loss_all 0.8147364258766174, lr 0.0001812\n"
     ]
    },
    {
     "name": "stderr",
     "output_type": "stream",
     "text": [
      " 45%|████▍     | 8903/20000 [09:55<11:50, 15.62it/s]"
     ]
    },
    {
     "name": "stdout",
     "output_type": "stream",
     "text": [
      "epoch 0, batch 8900, loss_all 0.5939939022064209, lr 0.00017985\n"
     ]
    },
    {
     "name": "stderr",
     "output_type": "stream",
     "text": [
      " 45%|████▌     | 9003/20000 [10:02<12:52, 14.23it/s]"
     ]
    },
    {
     "name": "stdout",
     "output_type": "stream",
     "text": [
      "epoch 0, batch 9000, loss_all 0.6674109101295471, lr 0.0001785\n"
     ]
    },
    {
     "name": "stderr",
     "output_type": "stream",
     "text": [
      " 46%|████▌     | 9103/20000 [10:09<11:57, 15.20it/s]"
     ]
    },
    {
     "name": "stdout",
     "output_type": "stream",
     "text": [
      "epoch 0, batch 9100, loss_all 2.036738395690918, lr 0.00017715\n"
     ]
    },
    {
     "name": "stderr",
     "output_type": "stream",
     "text": [
      " 46%|████▌     | 9203/20000 [10:15<11:33, 15.56it/s]"
     ]
    },
    {
     "name": "stdout",
     "output_type": "stream",
     "text": [
      "epoch 0, batch 9200, loss_all 1.6268638372421265, lr 0.0001758\n"
     ]
    },
    {
     "name": "stderr",
     "output_type": "stream",
     "text": [
      " 47%|████▋     | 9301/20000 [10:22<11:46, 15.15it/s]"
     ]
    },
    {
     "name": "stdout",
     "output_type": "stream",
     "text": [
      "epoch 0, batch 9300, loss_all 0.6512250900268555, lr 0.00017444999999999998\n"
     ]
    },
    {
     "name": "stderr",
     "output_type": "stream",
     "text": [
      " 47%|████▋     | 9403/20000 [10:29<11:22, 15.53it/s]"
     ]
    },
    {
     "name": "stdout",
     "output_type": "stream",
     "text": [
      "epoch 0, batch 9400, loss_all 1.0316693782806396, lr 0.0001731\n"
     ]
    },
    {
     "name": "stderr",
     "output_type": "stream",
     "text": [
      " 48%|████▊     | 9503/20000 [10:36<12:39, 13.83it/s]"
     ]
    },
    {
     "name": "stdout",
     "output_type": "stream",
     "text": [
      "epoch 0, batch 9500, loss_all 1.8450053930282593, lr 0.00017175\n"
     ]
    },
    {
     "name": "stderr",
     "output_type": "stream",
     "text": [
      " 48%|████▊     | 9603/20000 [10:42<13:25, 12.91it/s]"
     ]
    },
    {
     "name": "stdout",
     "output_type": "stream",
     "text": [
      "epoch 0, batch 9600, loss_all 0.6122885942459106, lr 0.0001704\n"
     ]
    },
    {
     "name": "stderr",
     "output_type": "stream",
     "text": [
      " 49%|████▊     | 9703/20000 [10:49<11:13, 15.29it/s]"
     ]
    },
    {
     "name": "stdout",
     "output_type": "stream",
     "text": [
      "epoch 0, batch 9700, loss_all 1.1589906215667725, lr 0.00016905\n"
     ]
    },
    {
     "name": "stderr",
     "output_type": "stream",
     "text": [
      " 49%|████▉     | 9803/20000 [10:56<10:58, 15.48it/s]"
     ]
    },
    {
     "name": "stdout",
     "output_type": "stream",
     "text": [
      "epoch 0, batch 9800, loss_all 0.8980132937431335, lr 0.0001677\n"
     ]
    },
    {
     "name": "stderr",
     "output_type": "stream",
     "text": [
      " 50%|████▉     | 9903/20000 [11:02<11:53, 14.15it/s]"
     ]
    },
    {
     "name": "stdout",
     "output_type": "stream",
     "text": [
      "epoch 0, batch 9900, loss_all 1.2568955421447754, lr 0.00016635\n"
     ]
    },
    {
     "name": "stderr",
     "output_type": "stream",
     "text": [
      " 50%|█████     | 10003/20000 [11:09<10:56, 15.24it/s]"
     ]
    },
    {
     "name": "stdout",
     "output_type": "stream",
     "text": [
      "epoch 0, batch 10000, loss_all 0.7662498950958252, lr 0.000165\n"
     ]
    },
    {
     "name": "stderr",
     "output_type": "stream",
     "text": [
      " 51%|█████     | 10103/20000 [11:16<10:49, 15.23it/s]"
     ]
    },
    {
     "name": "stdout",
     "output_type": "stream",
     "text": [
      "epoch 0, batch 10100, loss_all 1.3047001361846924, lr 0.00016365\n"
     ]
    },
    {
     "name": "stderr",
     "output_type": "stream",
     "text": [
      " 51%|█████     | 10203/20000 [11:22<10:45, 15.18it/s]"
     ]
    },
    {
     "name": "stdout",
     "output_type": "stream",
     "text": [
      "epoch 0, batch 10200, loss_all 0.7614775896072388, lr 0.0001623\n"
     ]
    },
    {
     "name": "stderr",
     "output_type": "stream",
     "text": [
      " 52%|█████▏    | 10303/20000 [11:29<10:44, 15.06it/s]"
     ]
    },
    {
     "name": "stdout",
     "output_type": "stream",
     "text": [
      "epoch 0, batch 10300, loss_all 0.6886428594589233, lr 0.00016095\n"
     ]
    },
    {
     "name": "stderr",
     "output_type": "stream",
     "text": [
      " 52%|█████▏    | 10403/20000 [11:36<10:16, 15.56it/s]"
     ]
    },
    {
     "name": "stdout",
     "output_type": "stream",
     "text": [
      "epoch 0, batch 10400, loss_all 1.2395001649856567, lr 0.0001596\n"
     ]
    },
    {
     "name": "stderr",
     "output_type": "stream",
     "text": [
      " 53%|█████▎    | 10503/20000 [11:42<10:15, 15.43it/s]"
     ]
    },
    {
     "name": "stdout",
     "output_type": "stream",
     "text": [
      "epoch 0, batch 10500, loss_all 0.8514524698257446, lr 0.00015825\n"
     ]
    },
    {
     "name": "stderr",
     "output_type": "stream",
     "text": [
      " 53%|█████▎    | 10603/20000 [11:49<10:02, 15.60it/s]"
     ]
    },
    {
     "name": "stdout",
     "output_type": "stream",
     "text": [
      "epoch 0, batch 10600, loss_all 1.3683699369430542, lr 0.0001569\n"
     ]
    },
    {
     "name": "stderr",
     "output_type": "stream",
     "text": [
      " 54%|█████▎    | 10703/20000 [11:56<10:57, 14.14it/s]"
     ]
    },
    {
     "name": "stdout",
     "output_type": "stream",
     "text": [
      "epoch 0, batch 10700, loss_all 0.36259329319000244, lr 0.00015554999999999999\n"
     ]
    },
    {
     "name": "stderr",
     "output_type": "stream",
     "text": [
      " 54%|█████▍    | 10803/20000 [12:02<09:59, 15.34it/s]"
     ]
    },
    {
     "name": "stdout",
     "output_type": "stream",
     "text": [
      "epoch 0, batch 10800, loss_all 0.5814986228942871, lr 0.00015419999999999998\n"
     ]
    },
    {
     "name": "stderr",
     "output_type": "stream",
     "text": [
      " 55%|█████▍    | 10903/20000 [12:09<10:08, 14.94it/s]"
     ]
    },
    {
     "name": "stdout",
     "output_type": "stream",
     "text": [
      "epoch 0, batch 10900, loss_all 1.70704984664917, lr 0.00015285\n"
     ]
    },
    {
     "name": "stderr",
     "output_type": "stream",
     "text": [
      " 55%|█████▌    | 11003/20000 [12:16<11:34, 12.96it/s]"
     ]
    },
    {
     "name": "stdout",
     "output_type": "stream",
     "text": [
      "epoch 0, batch 11000, loss_all 1.4369404315948486, lr 0.0001515\n"
     ]
    },
    {
     "name": "stderr",
     "output_type": "stream",
     "text": [
      " 56%|█████▌    | 11103/20000 [12:22<09:56, 14.92it/s]"
     ]
    },
    {
     "name": "stdout",
     "output_type": "stream",
     "text": [
      "epoch 0, batch 11100, loss_all 1.6533819437026978, lr 0.00015015\n"
     ]
    },
    {
     "name": "stderr",
     "output_type": "stream",
     "text": [
      " 56%|█████▌    | 11203/20000 [12:29<10:58, 13.36it/s]"
     ]
    },
    {
     "name": "stdout",
     "output_type": "stream",
     "text": [
      "epoch 0, batch 11200, loss_all 1.3892251253128052, lr 0.00014879999999999998\n"
     ]
    },
    {
     "name": "stderr",
     "output_type": "stream",
     "text": [
      " 57%|█████▋    | 11303/20000 [12:36<11:33, 12.55it/s]"
     ]
    },
    {
     "name": "stdout",
     "output_type": "stream",
     "text": [
      "epoch 0, batch 11300, loss_all 0.4713657796382904, lr 0.00014745\n"
     ]
    },
    {
     "name": "stderr",
     "output_type": "stream",
     "text": [
      " 57%|█████▋    | 11403/20000 [12:43<09:16, 15.45it/s]"
     ]
    },
    {
     "name": "stdout",
     "output_type": "stream",
     "text": [
      "epoch 0, batch 11400, loss_all 0.40953460335731506, lr 0.00014610000000000003\n"
     ]
    },
    {
     "name": "stderr",
     "output_type": "stream",
     "text": [
      " 58%|█████▊    | 11503/20000 [12:50<09:30, 14.89it/s]"
     ]
    },
    {
     "name": "stdout",
     "output_type": "stream",
     "text": [
      "epoch 0, batch 11500, loss_all 0.45882660150527954, lr 0.00014475000000000002\n"
     ]
    },
    {
     "name": "stderr",
     "output_type": "stream",
     "text": [
      " 58%|█████▊    | 11603/20000 [12:57<09:38, 14.52it/s]"
     ]
    },
    {
     "name": "stdout",
     "output_type": "stream",
     "text": [
      "epoch 0, batch 11600, loss_all 0.8569347262382507, lr 0.00014340000000000002\n"
     ]
    },
    {
     "name": "stderr",
     "output_type": "stream",
     "text": [
      " 59%|█████▊    | 11703/20000 [13:03<08:50, 15.65it/s]"
     ]
    },
    {
     "name": "stdout",
     "output_type": "stream",
     "text": [
      "epoch 0, batch 11700, loss_all 0.6336538791656494, lr 0.00014205\n"
     ]
    },
    {
     "name": "stderr",
     "output_type": "stream",
     "text": [
      " 59%|█████▉    | 11803/20000 [13:10<09:05, 15.02it/s]"
     ]
    },
    {
     "name": "stdout",
     "output_type": "stream",
     "text": [
      "epoch 0, batch 11800, loss_all 1.3174123764038086, lr 0.0001407\n"
     ]
    },
    {
     "name": "stderr",
     "output_type": "stream",
     "text": [
      " 60%|█████▉    | 11903/20000 [13:17<08:53, 15.18it/s]"
     ]
    },
    {
     "name": "stdout",
     "output_type": "stream",
     "text": [
      "epoch 0, batch 11900, loss_all 0.8666607141494751, lr 0.00013935\n"
     ]
    },
    {
     "name": "stderr",
     "output_type": "stream",
     "text": [
      " 60%|██████    | 12003/20000 [13:23<08:32, 15.60it/s]"
     ]
    },
    {
     "name": "stdout",
     "output_type": "stream",
     "text": [
      "epoch 0, batch 12000, loss_all 1.02706778049469, lr 0.00013800000000000002\n"
     ]
    },
    {
     "name": "stderr",
     "output_type": "stream",
     "text": [
      " 61%|██████    | 12103/20000 [13:30<08:22, 15.73it/s]"
     ]
    },
    {
     "name": "stdout",
     "output_type": "stream",
     "text": [
      "epoch 0, batch 12100, loss_all 0.973487913608551, lr 0.00013665000000000001\n"
     ]
    },
    {
     "name": "stderr",
     "output_type": "stream",
     "text": [
      " 61%|██████    | 12203/20000 [13:37<08:40, 14.97it/s]"
     ]
    },
    {
     "name": "stdout",
     "output_type": "stream",
     "text": [
      "epoch 0, batch 12200, loss_all 0.37941205501556396, lr 0.0001353\n"
     ]
    },
    {
     "name": "stderr",
     "output_type": "stream",
     "text": [
      " 62%|██████▏   | 12303/20000 [13:43<08:13, 15.61it/s]"
     ]
    },
    {
     "name": "stdout",
     "output_type": "stream",
     "text": [
      "epoch 0, batch 12300, loss_all 0.8955550193786621, lr 0.00013395\n"
     ]
    },
    {
     "name": "stderr",
     "output_type": "stream",
     "text": [
      " 62%|██████▏   | 12403/20000 [13:50<08:58, 14.10it/s]"
     ]
    },
    {
     "name": "stdout",
     "output_type": "stream",
     "text": [
      "epoch 0, batch 12400, loss_all 0.2675756812095642, lr 0.0001326\n"
     ]
    },
    {
     "name": "stderr",
     "output_type": "stream",
     "text": [
      " 63%|██████▎   | 12503/20000 [13:57<08:26, 14.80it/s]"
     ]
    },
    {
     "name": "stdout",
     "output_type": "stream",
     "text": [
      "epoch 0, batch 12500, loss_all 0.9693362712860107, lr 0.00013125000000000002\n"
     ]
    },
    {
     "name": "stderr",
     "output_type": "stream",
     "text": [
      " 63%|██████▎   | 12603/20000 [14:03<08:05, 15.25it/s]"
     ]
    },
    {
     "name": "stdout",
     "output_type": "stream",
     "text": [
      "epoch 0, batch 12600, loss_all 0.9229952096939087, lr 0.0001299\n"
     ]
    },
    {
     "name": "stderr",
     "output_type": "stream",
     "text": [
      " 64%|██████▎   | 12703/20000 [14:10<09:26, 12.89it/s]"
     ]
    },
    {
     "name": "stdout",
     "output_type": "stream",
     "text": [
      "epoch 0, batch 12700, loss_all 0.5316526293754578, lr 0.00012855\n"
     ]
    },
    {
     "name": "stderr",
     "output_type": "stream",
     "text": [
      " 64%|██████▍   | 12803/20000 [14:16<07:42, 15.57it/s]"
     ]
    },
    {
     "name": "stdout",
     "output_type": "stream",
     "text": [
      "epoch 0, batch 12800, loss_all 1.017870545387268, lr 0.0001272\n"
     ]
    },
    {
     "name": "stderr",
     "output_type": "stream",
     "text": [
      " 65%|██████▍   | 12903/20000 [14:23<08:35, 13.78it/s]"
     ]
    },
    {
     "name": "stdout",
     "output_type": "stream",
     "text": [
      "epoch 0, batch 12900, loss_all 0.3388339877128601, lr 0.00012585\n"
     ]
    },
    {
     "name": "stderr",
     "output_type": "stream",
     "text": [
      " 65%|██████▌   | 13003/20000 [14:30<08:42, 13.39it/s]"
     ]
    },
    {
     "name": "stdout",
     "output_type": "stream",
     "text": [
      "epoch 0, batch 13000, loss_all 0.663387656211853, lr 0.0001245\n"
     ]
    },
    {
     "name": "stderr",
     "output_type": "stream",
     "text": [
      " 66%|██████▌   | 13103/20000 [14:37<07:24, 15.50it/s]"
     ]
    },
    {
     "name": "stdout",
     "output_type": "stream",
     "text": [
      "epoch 0, batch 13100, loss_all 0.9724024534225464, lr 0.00012315\n"
     ]
    },
    {
     "name": "stderr",
     "output_type": "stream",
     "text": [
      " 66%|██████▌   | 13203/20000 [14:43<07:21, 15.39it/s]"
     ]
    },
    {
     "name": "stdout",
     "output_type": "stream",
     "text": [
      "epoch 0, batch 13200, loss_all 2.2947139739990234, lr 0.0001218\n"
     ]
    },
    {
     "name": "stderr",
     "output_type": "stream",
     "text": [
      " 67%|██████▋   | 13303/20000 [14:50<07:46, 14.37it/s]"
     ]
    },
    {
     "name": "stdout",
     "output_type": "stream",
     "text": [
      "epoch 0, batch 13300, loss_all 1.1284669637680054, lr 0.00012045\n"
     ]
    },
    {
     "name": "stderr",
     "output_type": "stream",
     "text": [
      " 67%|██████▋   | 13403/20000 [14:57<07:11, 15.30it/s]"
     ]
    },
    {
     "name": "stdout",
     "output_type": "stream",
     "text": [
      "epoch 0, batch 13400, loss_all 1.0383144617080688, lr 0.0001191\n"
     ]
    },
    {
     "name": "stderr",
     "output_type": "stream",
     "text": [
      " 68%|██████▊   | 13503/20000 [15:03<07:13, 15.00it/s]"
     ]
    },
    {
     "name": "stdout",
     "output_type": "stream",
     "text": [
      "epoch 0, batch 13500, loss_all 0.6658515930175781, lr 0.00011774999999999999\n"
     ]
    },
    {
     "name": "stderr",
     "output_type": "stream",
     "text": [
      " 68%|██████▊   | 13603/20000 [15:10<06:54, 15.44it/s]"
     ]
    },
    {
     "name": "stdout",
     "output_type": "stream",
     "text": [
      "epoch 0, batch 13600, loss_all 0.3652117848396301, lr 0.00011639999999999998\n"
     ]
    },
    {
     "name": "stderr",
     "output_type": "stream",
     "text": [
      " 69%|██████▊   | 13703/20000 [15:17<06:55, 15.14it/s]"
     ]
    },
    {
     "name": "stdout",
     "output_type": "stream",
     "text": [
      "epoch 0, batch 13700, loss_all 0.48183831572532654, lr 0.00011505\n"
     ]
    },
    {
     "name": "stderr",
     "output_type": "stream",
     "text": [
      " 69%|██████▉   | 13803/20000 [15:23<06:41, 15.42it/s]"
     ]
    },
    {
     "name": "stdout",
     "output_type": "stream",
     "text": [
      "epoch 0, batch 13800, loss_all 0.9932729005813599, lr 0.00011370000000000003\n"
     ]
    },
    {
     "name": "stderr",
     "output_type": "stream",
     "text": [
      " 70%|██████▉   | 13903/20000 [15:30<06:31, 15.57it/s]"
     ]
    },
    {
     "name": "stdout",
     "output_type": "stream",
     "text": [
      "epoch 0, batch 13900, loss_all 0.33960145711898804, lr 0.00011235000000000002\n"
     ]
    },
    {
     "name": "stderr",
     "output_type": "stream",
     "text": [
      " 70%|███████   | 14003/20000 [15:37<06:40, 14.99it/s]"
     ]
    },
    {
     "name": "stdout",
     "output_type": "stream",
     "text": [
      "epoch 0, batch 14000, loss_all 0.7456210851669312, lr 0.00011100000000000001\n"
     ]
    },
    {
     "name": "stderr",
     "output_type": "stream",
     "text": [
      " 71%|███████   | 14103/20000 [15:43<07:01, 14.00it/s]"
     ]
    },
    {
     "name": "stdout",
     "output_type": "stream",
     "text": [
      "epoch 0, batch 14100, loss_all 1.0127100944519043, lr 0.00010965000000000001\n"
     ]
    },
    {
     "name": "stderr",
     "output_type": "stream",
     "text": [
      " 71%|███████   | 14203/20000 [15:50<06:21, 15.18it/s]"
     ]
    },
    {
     "name": "stdout",
     "output_type": "stream",
     "text": [
      "epoch 0, batch 14200, loss_all 0.9490730166435242, lr 0.00010830000000000003\n"
     ]
    },
    {
     "name": "stderr",
     "output_type": "stream",
     "text": [
      " 72%|███████▏  | 14303/20000 [15:57<06:12, 15.29it/s]"
     ]
    },
    {
     "name": "stdout",
     "output_type": "stream",
     "text": [
      "epoch 0, batch 14300, loss_all 0.884024441242218, lr 0.00010695000000000002\n"
     ]
    },
    {
     "name": "stderr",
     "output_type": "stream",
     "text": [
      " 72%|███████▏  | 14403/20000 [16:03<06:43, 13.89it/s]"
     ]
    },
    {
     "name": "stdout",
     "output_type": "stream",
     "text": [
      "epoch 0, batch 14400, loss_all 0.7208019495010376, lr 0.00010560000000000002\n"
     ]
    },
    {
     "name": "stderr",
     "output_type": "stream",
     "text": [
      " 73%|███████▎  | 14503/20000 [16:10<05:53, 15.55it/s]"
     ]
    },
    {
     "name": "stdout",
     "output_type": "stream",
     "text": [
      "epoch 0, batch 14500, loss_all 0.7922895550727844, lr 0.00010425000000000001\n"
     ]
    },
    {
     "name": "stderr",
     "output_type": "stream",
     "text": [
      " 73%|███████▎  | 14603/20000 [16:17<06:36, 13.61it/s]"
     ]
    },
    {
     "name": "stdout",
     "output_type": "stream",
     "text": [
      "epoch 0, batch 14600, loss_all 0.541762113571167, lr 0.00010290000000000001\n"
     ]
    },
    {
     "name": "stderr",
     "output_type": "stream",
     "text": [
      " 74%|███████▎  | 14701/20000 [16:23<05:59, 14.73it/s]"
     ]
    },
    {
     "name": "stdout",
     "output_type": "stream",
     "text": [
      "epoch 0, batch 14700, loss_all 0.33340010046958923, lr 0.00010155\n"
     ]
    },
    {
     "name": "stderr",
     "output_type": "stream",
     "text": [
      " 74%|███████▍  | 14803/20000 [16:30<05:44, 15.10it/s]"
     ]
    },
    {
     "name": "stdout",
     "output_type": "stream",
     "text": [
      "epoch 0, batch 14800, loss_all 0.8956236243247986, lr 0.00010020000000000002\n"
     ]
    },
    {
     "name": "stderr",
     "output_type": "stream",
     "text": [
      " 75%|███████▍  | 14903/20000 [16:37<05:38, 15.05it/s]"
     ]
    },
    {
     "name": "stdout",
     "output_type": "stream",
     "text": [
      "epoch 0, batch 14900, loss_all 1.081690788269043, lr 9.885000000000002e-05\n"
     ]
    },
    {
     "name": "stderr",
     "output_type": "stream",
     "text": [
      " 75%|███████▌  | 15003/20000 [16:44<05:54, 14.10it/s]"
     ]
    },
    {
     "name": "stdout",
     "output_type": "stream",
     "text": [
      "epoch 0, batch 15000, loss_all 1.799436092376709, lr 9.750000000000001e-05\n"
     ]
    },
    {
     "name": "stderr",
     "output_type": "stream",
     "text": [
      " 76%|███████▌  | 15103/20000 [16:51<05:20, 15.26it/s]"
     ]
    },
    {
     "name": "stdout",
     "output_type": "stream",
     "text": [
      "epoch 0, batch 15100, loss_all 0.7330101728439331, lr 9.615e-05\n"
     ]
    },
    {
     "name": "stderr",
     "output_type": "stream",
     "text": [
      " 76%|███████▌  | 15203/20000 [16:57<05:14, 15.24it/s]"
     ]
    },
    {
     "name": "stdout",
     "output_type": "stream",
     "text": [
      "epoch 0, batch 15200, loss_all 0.5583142042160034, lr 9.48e-05\n"
     ]
    },
    {
     "name": "stderr",
     "output_type": "stream",
     "text": [
      " 77%|███████▋  | 15303/20000 [17:04<05:07, 15.28it/s]"
     ]
    },
    {
     "name": "stdout",
     "output_type": "stream",
     "text": [
      "epoch 0, batch 15300, loss_all 0.4103832244873047, lr 9.345000000000002e-05\n"
     ]
    },
    {
     "name": "stderr",
     "output_type": "stream",
     "text": [
      " 77%|███████▋  | 15403/20000 [17:11<05:13, 14.66it/s]"
     ]
    },
    {
     "name": "stdout",
     "output_type": "stream",
     "text": [
      "epoch 0, batch 15400, loss_all 1.0690420866012573, lr 9.210000000000002e-05\n"
     ]
    },
    {
     "name": "stderr",
     "output_type": "stream",
     "text": [
      " 78%|███████▊  | 15503/20000 [17:18<04:55, 15.22it/s]"
     ]
    },
    {
     "name": "stdout",
     "output_type": "stream",
     "text": [
      "epoch 0, batch 15500, loss_all 0.3063921332359314, lr 9.075000000000001e-05\n"
     ]
    },
    {
     "name": "stderr",
     "output_type": "stream",
     "text": [
      " 78%|███████▊  | 15603/20000 [17:24<04:44, 15.43it/s]"
     ]
    },
    {
     "name": "stdout",
     "output_type": "stream",
     "text": [
      "epoch 0, batch 15600, loss_all 0.8095006346702576, lr 8.94e-05\n"
     ]
    },
    {
     "name": "stderr",
     "output_type": "stream",
     "text": [
      " 79%|███████▊  | 15703/20000 [17:31<04:33, 15.70it/s]"
     ]
    },
    {
     "name": "stdout",
     "output_type": "stream",
     "text": [
      "epoch 0, batch 15700, loss_all 0.717697262763977, lr 8.805e-05\n"
     ]
    },
    {
     "name": "stderr",
     "output_type": "stream",
     "text": [
      " 79%|███████▉  | 15803/20000 [17:38<04:56, 14.14it/s]"
     ]
    },
    {
     "name": "stdout",
     "output_type": "stream",
     "text": [
      "epoch 0, batch 15800, loss_all 0.5438926219940186, lr 8.669999999999999e-05\n"
     ]
    },
    {
     "name": "stderr",
     "output_type": "stream",
     "text": [
      " 80%|███████▉  | 15903/20000 [17:44<04:34, 14.90it/s]"
     ]
    },
    {
     "name": "stdout",
     "output_type": "stream",
     "text": [
      "epoch 0, batch 15900, loss_all 0.7082644104957581, lr 8.535000000000001e-05\n"
     ]
    },
    {
     "name": "stderr",
     "output_type": "stream",
     "text": [
      " 80%|████████  | 16003/20000 [17:51<04:14, 15.71it/s]"
     ]
    },
    {
     "name": "stdout",
     "output_type": "stream",
     "text": [
      "epoch 0, batch 16000, loss_all 1.2084178924560547, lr 8.400000000000001e-05\n"
     ]
    },
    {
     "name": "stderr",
     "output_type": "stream",
     "text": [
      " 81%|████████  | 16101/20000 [17:57<04:14, 15.32it/s]"
     ]
    },
    {
     "name": "stdout",
     "output_type": "stream",
     "text": [
      "epoch 0, batch 16100, loss_all 0.4871601462364197, lr 8.265e-05\n"
     ]
    },
    {
     "name": "stderr",
     "output_type": "stream",
     "text": [
      " 81%|████████  | 16203/20000 [18:04<04:02, 15.67it/s]"
     ]
    },
    {
     "name": "stdout",
     "output_type": "stream",
     "text": [
      "epoch 0, batch 16200, loss_all 1.4417346715927124, lr 8.13e-05\n"
     ]
    },
    {
     "name": "stderr",
     "output_type": "stream",
     "text": [
      " 82%|████████▏ | 16303/20000 [18:11<04:23, 14.04it/s]"
     ]
    },
    {
     "name": "stdout",
     "output_type": "stream",
     "text": [
      "epoch 0, batch 16300, loss_all 0.30774813890457153, lr 7.995000000000002e-05\n"
     ]
    },
    {
     "name": "stderr",
     "output_type": "stream",
     "text": [
      " 82%|████████▏ | 16403/20000 [18:17<04:26, 13.52it/s]"
     ]
    },
    {
     "name": "stdout",
     "output_type": "stream",
     "text": [
      "epoch 0, batch 16400, loss_all 1.0277488231658936, lr 7.860000000000004e-05\n"
     ]
    },
    {
     "name": "stderr",
     "output_type": "stream",
     "text": [
      " 83%|████████▎ | 16503/20000 [18:24<03:45, 15.49it/s]"
     ]
    },
    {
     "name": "stdout",
     "output_type": "stream",
     "text": [
      "epoch 0, batch 16500, loss_all 0.5081692934036255, lr 7.725000000000003e-05\n"
     ]
    },
    {
     "name": "stderr",
     "output_type": "stream",
     "text": [
      " 83%|████████▎ | 16603/20000 [18:31<03:45, 15.08it/s]"
     ]
    },
    {
     "name": "stdout",
     "output_type": "stream",
     "text": [
      "epoch 0, batch 16600, loss_all 1.0226261615753174, lr 7.590000000000003e-05\n"
     ]
    },
    {
     "name": "stderr",
     "output_type": "stream",
     "text": [
      " 84%|████████▎ | 16703/20000 [18:37<03:50, 14.29it/s]"
     ]
    },
    {
     "name": "stdout",
     "output_type": "stream",
     "text": [
      "epoch 0, batch 16700, loss_all 0.9945287704467773, lr 7.455000000000002e-05\n"
     ]
    },
    {
     "name": "stderr",
     "output_type": "stream",
     "text": [
      " 84%|████████▍ | 16803/20000 [18:44<03:28, 15.34it/s]"
     ]
    },
    {
     "name": "stdout",
     "output_type": "stream",
     "text": [
      "epoch 0, batch 16800, loss_all 0.5336685180664062, lr 7.320000000000002e-05\n"
     ]
    },
    {
     "name": "stderr",
     "output_type": "stream",
     "text": [
      " 85%|████████▍ | 16903/20000 [18:51<03:21, 15.36it/s]"
     ]
    },
    {
     "name": "stdout",
     "output_type": "stream",
     "text": [
      "epoch 0, batch 16900, loss_all 0.9595420956611633, lr 7.185000000000001e-05\n"
     ]
    },
    {
     "name": "stderr",
     "output_type": "stream",
     "text": [
      " 85%|████████▌ | 17003/20000 [18:58<03:15, 15.34it/s]"
     ]
    },
    {
     "name": "stdout",
     "output_type": "stream",
     "text": [
      "epoch 0, batch 17000, loss_all 1.132947564125061, lr 7.050000000000003e-05\n"
     ]
    },
    {
     "name": "stderr",
     "output_type": "stream",
     "text": [
      " 86%|████████▌ | 17103/20000 [19:04<03:09, 15.25it/s]"
     ]
    },
    {
     "name": "stdout",
     "output_type": "stream",
     "text": [
      "epoch 0, batch 17100, loss_all 1.2189967632293701, lr 6.915000000000003e-05\n"
     ]
    },
    {
     "name": "stderr",
     "output_type": "stream",
     "text": [
      " 86%|████████▌ | 17203/20000 [19:11<03:05, 15.07it/s]"
     ]
    },
    {
     "name": "stdout",
     "output_type": "stream",
     "text": [
      "epoch 0, batch 17200, loss_all 0.6085817813873291, lr 6.780000000000002e-05\n"
     ]
    },
    {
     "name": "stderr",
     "output_type": "stream",
     "text": [
      " 87%|████████▋ | 17303/20000 [19:18<02:55, 15.35it/s]"
     ]
    },
    {
     "name": "stdout",
     "output_type": "stream",
     "text": [
      "epoch 0, batch 17300, loss_all 0.6469183564186096, lr 6.645000000000002e-05\n"
     ]
    },
    {
     "name": "stderr",
     "output_type": "stream",
     "text": [
      " 87%|████████▋ | 17403/20000 [19:25<02:46, 15.63it/s]"
     ]
    },
    {
     "name": "stdout",
     "output_type": "stream",
     "text": [
      "epoch 0, batch 17400, loss_all 0.6766905784606934, lr 6.510000000000001e-05\n"
     ]
    },
    {
     "name": "stderr",
     "output_type": "stream",
     "text": [
      " 88%|████████▊ | 17503/20000 [19:31<03:02, 13.67it/s]"
     ]
    },
    {
     "name": "stdout",
     "output_type": "stream",
     "text": [
      "epoch 0, batch 17500, loss_all 0.695872962474823, lr 6.375e-05\n"
     ]
    },
    {
     "name": "stderr",
     "output_type": "stream",
     "text": [
      " 88%|████████▊ | 17603/20000 [19:38<02:44, 14.54it/s]"
     ]
    },
    {
     "name": "stdout",
     "output_type": "stream",
     "text": [
      "epoch 0, batch 17600, loss_all 1.3298465013504028, lr 6.240000000000003e-05\n"
     ]
    },
    {
     "name": "stderr",
     "output_type": "stream",
     "text": [
      " 89%|████████▊ | 17703/20000 [19:45<02:30, 15.25it/s]"
     ]
    },
    {
     "name": "stdout",
     "output_type": "stream",
     "text": [
      "epoch 0, batch 17700, loss_all 1.0345172882080078, lr 6.105000000000002e-05\n"
     ]
    },
    {
     "name": "stderr",
     "output_type": "stream",
     "text": [
      " 89%|████████▉ | 17803/20000 [19:51<02:39, 13.81it/s]"
     ]
    },
    {
     "name": "stdout",
     "output_type": "stream",
     "text": [
      "epoch 0, batch 17800, loss_all 0.5267506837844849, lr 5.9700000000000015e-05\n"
     ]
    },
    {
     "name": "stderr",
     "output_type": "stream",
     "text": [
      " 90%|████████▉ | 17903/20000 [19:58<02:18, 15.15it/s]"
     ]
    },
    {
     "name": "stdout",
     "output_type": "stream",
     "text": [
      "epoch 0, batch 17900, loss_all 0.607802152633667, lr 5.835000000000001e-05\n"
     ]
    },
    {
     "name": "stderr",
     "output_type": "stream",
     "text": [
      " 90%|█████████ | 18003/20000 [20:05<02:32, 13.06it/s]"
     ]
    },
    {
     "name": "stdout",
     "output_type": "stream",
     "text": [
      "epoch 0, batch 18000, loss_all 0.6531288027763367, lr 5.7e-05\n"
     ]
    },
    {
     "name": "stderr",
     "output_type": "stream",
     "text": [
      " 91%|█████████ | 18101/20000 [20:12<02:04, 15.21it/s]"
     ]
    },
    {
     "name": "stdout",
     "output_type": "stream",
     "text": [
      "epoch 0, batch 18100, loss_all 0.9153743386268616, lr 5.5650000000000025e-05\n"
     ]
    },
    {
     "name": "stderr",
     "output_type": "stream",
     "text": [
      " 91%|█████████ | 18203/20000 [20:19<01:58, 15.12it/s]"
     ]
    },
    {
     "name": "stdout",
     "output_type": "stream",
     "text": [
      "epoch 0, batch 18200, loss_all 0.2812153697013855, lr 5.430000000000002e-05\n"
     ]
    },
    {
     "name": "stderr",
     "output_type": "stream",
     "text": [
      " 92%|█████████▏| 18303/20000 [20:26<01:53, 14.92it/s]"
     ]
    },
    {
     "name": "stdout",
     "output_type": "stream",
     "text": [
      "epoch 0, batch 18300, loss_all 0.685197114944458, lr 5.295000000000001e-05\n"
     ]
    },
    {
     "name": "stderr",
     "output_type": "stream",
     "text": [
      " 92%|█████████▏| 18403/20000 [20:33<01:55, 13.84it/s]"
     ]
    },
    {
     "name": "stdout",
     "output_type": "stream",
     "text": [
      "epoch 0, batch 18400, loss_all 1.0280444622039795, lr 5.160000000000001e-05\n"
     ]
    },
    {
     "name": "stderr",
     "output_type": "stream",
     "text": [
      " 93%|█████████▎| 18503/20000 [20:40<01:42, 14.54it/s]"
     ]
    },
    {
     "name": "stdout",
     "output_type": "stream",
     "text": [
      "epoch 0, batch 18500, loss_all 0.5112134218215942, lr 5.025e-05\n"
     ]
    },
    {
     "name": "stderr",
     "output_type": "stream",
     "text": [
      " 93%|█████████▎| 18603/20000 [20:47<01:34, 14.85it/s]"
     ]
    },
    {
     "name": "stdout",
     "output_type": "stream",
     "text": [
      "epoch 0, batch 18600, loss_all 0.2705147862434387, lr 4.8899999999999996e-05\n"
     ]
    },
    {
     "name": "stderr",
     "output_type": "stream",
     "text": [
      " 94%|█████████▎| 18703/20000 [20:53<01:25, 15.15it/s]"
     ]
    },
    {
     "name": "stdout",
     "output_type": "stream",
     "text": [
      "epoch 0, batch 18700, loss_all 0.344494104385376, lr 4.754999999999999e-05\n"
     ]
    },
    {
     "name": "stderr",
     "output_type": "stream",
     "text": [
      " 94%|█████████▍| 18803/20000 [21:00<01:20, 14.79it/s]"
     ]
    },
    {
     "name": "stdout",
     "output_type": "stream",
     "text": [
      "epoch 0, batch 18800, loss_all 0.6420243978500366, lr 4.620000000000004e-05\n"
     ]
    },
    {
     "name": "stderr",
     "output_type": "stream",
     "text": [
      " 95%|█████████▍| 18903/20000 [21:07<01:12, 15.21it/s]"
     ]
    },
    {
     "name": "stdout",
     "output_type": "stream",
     "text": [
      "epoch 0, batch 18900, loss_all 0.34526413679122925, lr 4.485000000000003e-05\n"
     ]
    },
    {
     "name": "stderr",
     "output_type": "stream",
     "text": [
      " 95%|█████████▌| 19003/20000 [21:14<01:07, 14.84it/s]"
     ]
    },
    {
     "name": "stdout",
     "output_type": "stream",
     "text": [
      "epoch 0, batch 19000, loss_all 0.9271214008331299, lr 4.350000000000003e-05\n"
     ]
    },
    {
     "name": "stderr",
     "output_type": "stream",
     "text": [
      " 96%|█████████▌| 19103/20000 [21:21<00:57, 15.56it/s]"
     ]
    },
    {
     "name": "stdout",
     "output_type": "stream",
     "text": [
      "epoch 0, batch 19100, loss_all 0.9430785775184631, lr 4.215000000000002e-05\n"
     ]
    },
    {
     "name": "stderr",
     "output_type": "stream",
     "text": [
      " 96%|█████████▌| 19203/20000 [21:28<00:56, 14.10it/s]"
     ]
    },
    {
     "name": "stdout",
     "output_type": "stream",
     "text": [
      "epoch 0, batch 19200, loss_all 0.6611028909683228, lr 4.0800000000000016e-05\n"
     ]
    },
    {
     "name": "stderr",
     "output_type": "stream",
     "text": [
      " 97%|█████████▋| 19303/20000 [21:34<00:46, 15.13it/s]"
     ]
    },
    {
     "name": "stdout",
     "output_type": "stream",
     "text": [
      "epoch 0, batch 19300, loss_all 0.5225394368171692, lr 3.945000000000001e-05\n"
     ]
    },
    {
     "name": "stderr",
     "output_type": "stream",
     "text": [
      " 97%|█████████▋| 19403/20000 [21:41<00:37, 15.72it/s]"
     ]
    },
    {
     "name": "stdout",
     "output_type": "stream",
     "text": [
      "epoch 0, batch 19400, loss_all 0.6024231314659119, lr 3.8100000000000005e-05\n"
     ]
    },
    {
     "name": "stderr",
     "output_type": "stream",
     "text": [
      " 98%|█████████▊| 19503/20000 [21:48<00:38, 12.96it/s]"
     ]
    },
    {
     "name": "stdout",
     "output_type": "stream",
     "text": [
      "epoch 0, batch 19500, loss_all 0.47505396604537964, lr 3.675000000000005e-05\n"
     ]
    },
    {
     "name": "stderr",
     "output_type": "stream",
     "text": [
      " 98%|█████████▊| 19603/20000 [21:54<00:26, 15.20it/s]"
     ]
    },
    {
     "name": "stdout",
     "output_type": "stream",
     "text": [
      "epoch 0, batch 19600, loss_all 0.7482178211212158, lr 3.540000000000005e-05\n"
     ]
    },
    {
     "name": "stderr",
     "output_type": "stream",
     "text": [
      " 99%|█████████▊| 19703/20000 [22:01<00:21, 14.06it/s]"
     ]
    },
    {
     "name": "stdout",
     "output_type": "stream",
     "text": [
      "epoch 0, batch 19700, loss_all 0.47726088762283325, lr 3.405000000000004e-05\n"
     ]
    },
    {
     "name": "stderr",
     "output_type": "stream",
     "text": [
      " 99%|█████████▉| 19803/20000 [22:08<00:14, 13.39it/s]"
     ]
    },
    {
     "name": "stdout",
     "output_type": "stream",
     "text": [
      "epoch 0, batch 19800, loss_all 2.0436995029449463, lr 3.2700000000000036e-05\n"
     ]
    },
    {
     "name": "stderr",
     "output_type": "stream",
     "text": [
      "100%|█████████▉| 19903/20000 [22:14<00:06, 15.22it/s]"
     ]
    },
    {
     "name": "stdout",
     "output_type": "stream",
     "text": [
      "epoch 0, batch 19900, loss_all 0.8077115416526794, lr 3.135000000000003e-05\n"
     ]
    },
    {
     "name": "stderr",
     "output_type": "stream",
     "text": [
      "100%|██████████| 20000/20000 [22:21<00:00, 14.91it/s]\n"
     ]
    }
   ],
   "source": [
    "linear_probe = torch.randn(\n",
    "    modes, model.cfg.d_model, rows, cols, options, requires_grad=False, device=device\n",
    ")/np.sqrt(model.cfg.d_model)\n",
    "linear_probe.requires_grad = True\n",
    "print(linear_probe.shape)\n",
    "optimiser = torch.optim.AdamW([linear_probe], lr=lr, betas=(0.9, 0.99), weight_decay=wd)\n",
    "\n",
    "print(dots_indices.shape)\n",
    "# mask = dots_indices < 245\n",
    "# dots_indices = dots_indices[mask]\n",
    "\n",
    "# print(dots_indices.shape)\n",
    "\n",
    "lr = 3e-4\n",
    "max_lr = 3e-4\n",
    "min_lr = lr / 10\n",
    "max_iters = num_games * num_epochs\n",
    "decay_lr = True\n",
    "\n",
    "def get_lr(current_iter: int, max_iters: int, lr: float, min_lr: float) -> float:\n",
    "    \"\"\"\n",
    "    Calculate the learning rate using linear decay.\n",
    "\n",
    "    Args:\n",
    "    - current_iter (int): The current iteration.\n",
    "    - max_iters (int): The total number of iterations for decay.\n",
    "    - lr (float): The initial learning rate.\n",
    "    - min_lr (float): The minimum learning rate after decay.\n",
    "\n",
    "    Returns:\n",
    "    - float: The calculated learning rate.\n",
    "    \"\"\"\n",
    "    # Ensure current_iter does not exceed max_iters\n",
    "    current_iter = min(current_iter, max_iters)\n",
    "\n",
    "    # Calculate the linearly decayed learning rate\n",
    "    decayed_lr = lr - (lr - min_lr) * (current_iter / max_iters)\n",
    "\n",
    "    return decayed_lr\n",
    "current_iter = 0\n",
    "for epoch in range(num_epochs):\n",
    "    full_train_indices = torch.randperm(num_games)\n",
    "    for i in tqdm(range(0, num_games, batch_size)):\n",
    "\n",
    "        lr = get_lr(current_iter, max_iters, max_lr, min_lr) if decay_lr else lr\n",
    "        for param_group in optimiser.param_groups:\n",
    "            param_group['lr'] = lr\n",
    "        \n",
    "        indices = full_train_indices[i:i+batch_size]\n",
    "        list_of_indices = indices.tolist() # For indexing into the board_seqs_string list of strings\n",
    "        # print(list_of_indices)\n",
    "        games_int = board_seqs_int[indices]\n",
    "        games_int = games_int[:, :input_length]\n",
    "        # print(games_int.shape)\n",
    "        games_str = [board_seqs_string[idx] for idx in list_of_indices]\n",
    "        games_str = [s[:input_length] for s in games_str]\n",
    "        games_dots = dots_indices[indices]\n",
    "        games_dots = games_dots[:, 5:]\n",
    "        # print(games_dots.shape)\n",
    "        state_stack = chess_utils.create_state_stacks(games_str, custom_function)\n",
    "        # state_stack = state_stack[:, pos_start:pos_end, :, :]\n",
    "        # print(state_stack.shape)\n",
    "        # Initialize a list to hold the indexed state stacks\n",
    "        indexed_state_stacks = []\n",
    "\n",
    "        for batch_idx in range(state_stack.size(0)):\n",
    "            # Get the indices for the current batch\n",
    "            dots_indices_for_batch = games_dots[batch_idx]\n",
    "\n",
    "            # Index the state_stack for the current batch\n",
    "            indexed_state_stack = state_stack[batch_idx, dots_indices_for_batch, :, :]\n",
    "\n",
    "            # Append the result to the list\n",
    "            indexed_state_stacks.append(indexed_state_stack)\n",
    "\n",
    "        # Stack the indexed state stacks along the first dimension\n",
    "        # This results in a tensor of shape [2, 61, 8, 8] (assuming all batches have 61 indices)\n",
    "        state_stack = torch.stack(indexed_state_stacks)\n",
    "        # print(\"after indexing state stack shape\", state_stack.shape)\n",
    "\n",
    "        state_stack_one_hot = chess_utils.state_stack_to_one_hot(modes, rows, cols, options, device, state_stack).to(device)\n",
    "        with torch.inference_mode():\n",
    "            _, cache = model.run_with_cache(games_int.to(device)[:, :-1], return_type=None)\n",
    "            resid_post = cache[\"resid_post\", layer][:, :]\n",
    "        # Initialize a list to hold the indexed state stacks\n",
    "        indexed_resid_posts = []\n",
    "\n",
    "        for batch_idx in range(games_dots.size(0)):\n",
    "            # Get the indices for the current batch\n",
    "            dots_indices_for_batch = games_dots[batch_idx]\n",
    "\n",
    "            # Index the state_stack for the current batch\n",
    "            indexed_resid_post = resid_post[batch_idx, dots_indices_for_batch]\n",
    "\n",
    "            # Append the result to the list\n",
    "            indexed_resid_posts.append(indexed_resid_post)\n",
    "\n",
    "        # Stack the indexed state stacks along the first dimension\n",
    "        # This results in a tensor of shape [2, 61, 8, 8] (assuming all batches have 61 indices)\n",
    "        resid_post = torch.stack(indexed_resid_posts)\n",
    "        # print(\"Resid post\", resid_post.shape)\n",
    "        probe_out = einsum(\n",
    "            \"batch pos d_model, modes d_model rows cols options -> modes batch pos rows cols options\",\n",
    "            resid_post,\n",
    "            linear_probe,\n",
    "        )\n",
    "        # print(probe_out.shape)\n",
    "\n",
    "        # acc_blank = (probe_out[0].argmax(-1) == state_stack_one_hot[0].argmax(-1)).float().mean()\n",
    "        # acc_color = ((probe_out[1].argmax(-1) == state_stack_one_hot[1].argmax(-1)) * state_stack_one_hot[1].sum(-1)).float().sum()/(state_stack_one_hot[1]).float().sum()\n",
    "\n",
    "        \n",
    "\n",
    "        probe_log_probs = probe_out.log_softmax(-1)\n",
    "        probe_correct_log_probs = einops.reduce(\n",
    "            probe_log_probs * state_stack_one_hot,\n",
    "            \"modes batch pos rows cols options -> modes pos rows cols\",\n",
    "            \"mean\"\n",
    "        ) * options # Multiply to correct for the mean over options\n",
    "        # loss_even = -probe_correct_log_probs[0, 0::2].mean(0).sum() # note that \"even\" means odd in the game framing, since we offset by 5 moves lol\n",
    "        # loss_odd = -probe_correct_log_probs[1, 1::2].mean(0).sum()\n",
    "        loss_all = -probe_correct_log_probs[0, :].mean(0).sum()\n",
    "\n",
    "        # if i % 1000 == 0:\n",
    "        #     print(f\"epoch {epoch}, batch {i}, acc_blank {acc_blank}, acc_color {acc_color}, loss_even {loss_even}, loss_odd {loss_odd}, loss_all {loss_all}\")\n",
    "        if i % 100 == 0:\n",
    "            print(f\"epoch {epoch}, batch {i}, loss_all {loss_all}, lr {lr}\")\n",
    "        # loss = loss_even + loss_odd + loss_all\n",
    "        loss = loss_all\n",
    "        loss.backward() # it's important to do a single backward pass for mysterious PyTorch reasons, so we add up the losses - it's per mode and per square.\n",
    "\n",
    "        optimiser.step()\n",
    "        optimiser.zero_grad()\n",
    "        current_iter += batch_size\n",
    "torch.save(linear_probe, f\"{probe_name}.pth\")"
   ]
  },
  {
   "cell_type": "code",
   "execution_count": null,
   "metadata": {},
   "outputs": [],
   "source": []
  }
 ],
 "metadata": {
  "kernelspec": {
   "display_name": "Python 3 (ipykernel)",
   "language": "python",
   "name": "python3"
  },
  "language_info": {
   "codemirror_mode": {
    "name": "ipython",
    "version": 3
   },
   "file_extension": ".py",
   "mimetype": "text/x-python",
   "name": "python",
   "nbconvert_exporter": "python",
   "pygments_lexer": "ipython3",
   "version": "3.10.13"
  }
 },
 "nbformat": 4,
 "nbformat_minor": 4
}
