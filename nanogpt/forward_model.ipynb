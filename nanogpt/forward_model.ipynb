{
 "cells": [
  {
   "cell_type": "code",
   "execution_count": 1,
   "metadata": {},
   "outputs": [
    {
     "ename": "ValueError",
     "evalue": "Unknown config key: ip",
     "output_type": "error",
     "traceback": [
      "\u001b[1;31m---------------------------------------------------------------------------\u001b[0m",
      "\u001b[1;31mValueError\u001b[0m                                Traceback (most recent call last)",
      "Cell \u001b[1;32mIn[1], line 3\u001b[0m\n\u001b[0;32m      1\u001b[0m \u001b[39mfrom\u001b[39;00m \u001b[39mnanogpt\u001b[39;00m\u001b[39m.\u001b[39;00m\u001b[39mnanogpt_module\u001b[39;00m \u001b[39mimport\u001b[39;00m NanoGptPlayer\n\u001b[0;32m      2\u001b[0m \u001b[39mimport\u001b[39;00m \u001b[39mtorch\u001b[39;00m\n\u001b[1;32m----> 3\u001b[0m player \u001b[39m=\u001b[39m NanoGptPlayer(model_name\u001b[39m=\u001b[39;49m\u001b[39m\"\u001b[39;49m\u001b[39mnanogpt\u001b[39;49m\u001b[39m\"\u001b[39;49m)\n",
      "File \u001b[1;32mc:\\Users\\adamk\\chess_interpretability\\mechanistic_interpretability\\nanogpt\\nanogpt_module.py:35\u001b[0m, in \u001b[0;36mNanoGptPlayer.__init__\u001b[1;34m(self, model_name)\u001b[0m\n\u001b[0;32m     33\u001b[0m \u001b[39mcompile\u001b[39m \u001b[39m=\u001b[39m \u001b[39mFalse\u001b[39;00m  \u001b[39m# use PyTorch 2.0 to compile the model to be faster\u001b[39;00m\n\u001b[0;32m     34\u001b[0m configurator_path \u001b[39m=\u001b[39m os\u001b[39m.\u001b[39mpath\u001b[39m.\u001b[39mjoin(BASE_DIR, \u001b[39m\"\u001b[39m\u001b[39mconfigurator.py\u001b[39m\u001b[39m\"\u001b[39m)\n\u001b[1;32m---> 35\u001b[0m exec(\n\u001b[0;32m     36\u001b[0m     \u001b[39mopen\u001b[39;49m(configurator_path)\u001b[39m.\u001b[39;49mread()\n\u001b[0;32m     37\u001b[0m )  \u001b[39m# overrides from command line or config file\u001b[39;00m\n\u001b[0;32m     38\u001b[0m \u001b[39m# -----------------------------------------------------------------------------\u001b[39;00m\n\u001b[0;32m     40\u001b[0m torch\u001b[39m.\u001b[39mmanual_seed(seed)\n",
      "File \u001b[1;32m<string>:47\u001b[0m\n",
      "\u001b[1;31mValueError\u001b[0m: Unknown config key: ip"
     ]
    }
   ],
   "source": [
    "from nanogpt.nanogpt_module import NanoGptPlayer\n",
    "import torch\n",
    "torch.set_grad_enabled(False)\n",
    "player = NanoGptPlayer(model_name=\"nanogpt\")\n",
    "sample_input = torch.tensor([[15, 6, 4, 27, 9, 0, 25, 10, 0, 7, 4, 19]]).to(\"cuda\")\n",
    "# print(player.model(sample_input))\n",
    "print(player.model(sample_input)[0].argmax(dim=-1))"
   ]
  }
 ],
 "metadata": {
  "kernelspec": {
   "display_name": "interp",
   "language": "python",
   "name": "python3"
  },
  "language_info": {
   "codemirror_mode": {
    "name": "ipython",
    "version": 3
   },
   "file_extension": ".py",
   "mimetype": "text/x-python",
   "name": "python",
   "nbconvert_exporter": "python",
   "pygments_lexer": "ipython3",
   "version": "3.10.13"
  },
  "orig_nbformat": 4
 },
 "nbformat": 4,
 "nbformat_minor": 2
}
