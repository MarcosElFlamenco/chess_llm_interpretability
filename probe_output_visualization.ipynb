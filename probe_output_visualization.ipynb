{
 "cells": [
  {
   "cell_type": "code",
   "execution_count": 1,
   "metadata": {},
   "outputs": [
    {
     "name": "stderr",
     "output_type": "stream",
     "text": [
      "2024-10-29 17:43:22,284 - train_test_chess - INFO - Using device: cpu\n",
      "2024-10-29 17:43:22,285 - train_test_chess - INFO - {'vocab_size': 32, 'itos': {0: ' ', 1: '#', 2: '+', 3: '-', 4: '.', 5: '0', 6: '1', 7: '2', 8: '3', 9: '4', 10: '5', 11: '6', 12: '7', 13: '8', 14: '9', 15: ';', 16: '=', 17: 'B', 18: 'K', 19: 'N', 20: 'O', 21: 'Q', 22: 'R', 23: 'a', 24: 'b', 25: 'c', 26: 'd', 27: 'e', 28: 'f', 29: 'g', 30: 'h', 31: 'x'}, 'stoi': {' ': 0, '#': 1, '+': 2, '-': 3, '.': 4, '0': 5, '1': 6, '2': 7, '3': 8, '4': 9, '5': 10, '6': 11, '7': 12, '8': 13, '9': 14, ';': 15, '=': 16, 'B': 17, 'K': 18, 'N': 19, 'O': 20, 'Q': 21, 'R': 22, 'a': 23, 'b': 24, 'c': 25, 'd': 26, 'e': 27, 'f': 28, 'g': 29, 'h': 30, 'x': 31}}\n",
      "2024-10-29 17:43:22,285 - train_test_chess - INFO - [6, 4, 27, 9, 0, 27, 11, 0, 7, 4, 19, 28, 8]\n",
      "2024-10-29 17:43:22,286 - train_test_chess - INFO - Performing round trip test on meta\n"
     ]
    }
   ],
   "source": [
    "import torch\n",
    "import numpy as np\n",
    "from fancy_einsum import einsum\n",
    "import chess\n",
    "import numpy as np\n",
    "import pickle\n",
    "import logging\n",
    "import plotly.graph_objects as go\n",
    "from functools import partial\n",
    "\n",
    "import chess_utils\n",
    "import train_test_chess"
   ]
  },
  {
   "cell_type": "markdown",
   "metadata": {},
   "source": [
    "There's a bunch of setup below to get some data in some tensors that we can feed to our model."
   ]
  },
  {
   "cell_type": "code",
   "execution_count": 2,
   "metadata": {},
   "outputs": [
    {
     "data": {
      "text/plain": [
       "<torch.autograd.grad_mode.set_grad_enabled at 0x77fc3c100aa0>"
      ]
     },
     "execution_count": 2,
     "metadata": {},
     "output_type": "execute_result"
    }
   ],
   "source": [
    "torch.set_grad_enabled(False)"
   ]
  },
  {
   "cell_type": "code",
   "execution_count": 3,
   "metadata": {},
   "outputs": [],
   "source": [
    "# Flags to control logging\n",
    "debug_mode = False\n",
    "info_mode = True\n",
    "\n",
    "if debug_mode:\n",
    "    log_level = logging.DEBUG\n",
    "elif info_mode:\n",
    "    log_level = logging.INFO\n",
    "else:\n",
    "    log_level = logging.WARNING\n",
    "\n",
    "# Configure logging\n",
    "logging.basicConfig(level=log_level)\n",
    "logger = logging.getLogger(__name__)"
   ]
  },
  {
   "cell_type": "markdown",
   "metadata": {},
   "source": [
    "Here you can select which probe and model to use. By default, the model_setup.py downloads a lichess 8 layer model. We can then select a probe from saved_probes/. Ideally, this should also be a lichess probe. Then this code should auto populate parameters according to the probe's state dict.\n",
    "\n",
    "To reproduce paper / blog post figures, set USE_16_LAYER to True and run model_setup.py on the lichess 16 layer model."
   ]
  },
  {
   "cell_type": "code",
   "execution_count": 4,
   "metadata": {},
   "outputs": [
    {
     "name": "stderr",
     "output_type": "stream",
     "text": [
      "INFO:__main__:Using device: cpu\n"
     ]
    },
    {
     "name": "stdout",
     "output_type": "stream",
     "text": [
      "dict_keys(['linear_probe', 'final_loss', 'iters', 'epochs', 'acc', 'linear_probe_name', 'layer', 'indexing_function_name', 'batch_size', 'lr', 'wd', 'pos_start', 'num_epochs', 'modes', 'wandb_project', 'config_name', 'column_name', 'levels_of_interest', 'split', 'dataset_prefix', 'model_name', 'n_layers', 'wandb_run_name', 'num_games'])\n",
      "final_loss tensor(0.9204, requires_grad=True)\n",
      "iters 100000\n",
      "epochs 4\n",
      "acc tensor(0.9957)\n",
      "linear_probe_name chess_piece_probe\n",
      "layer 5\n",
      "indexing_function_name find_dots_indices\n",
      "batch_size 2\n",
      "lr 0.001\n",
      "wd 0.01\n",
      "pos_start 0\n",
      "num_epochs 5\n",
      "modes 1\n",
      "wandb_project chess_linear_probes\n",
      "config_name chess_piece_probe\n",
      "column_name None\n",
      "levels_of_interest None\n",
      "split train\n",
      "dataset_prefix lichess_\n",
      "model_name tf_lens_lichess_8layers_ckpt_no_optimizer\n",
      "n_layers 8\n",
      "wandb_run_name chess_piece_probe_tf_lens_lichess_8layers_ckpt_no_optimizer_layer_5_indexing_find_dots_indices_max_games_20000\n",
      "num_games 21000\n"
     ]
    }
   ],
   "source": [
    "MODEL_DIR = \"models/\"\n",
    "DATA_DIR = \"data/\"\n",
    "PROBE_DIR = \"linear_probes/\"\n",
    "SAVED_PROBE_DIR = \"linear_probes/saved_probes/\"\n",
    "SPLIT = \"test\"\n",
    "\n",
    "DEVICE = \"cpu\"\n",
    "logger.info(f\"Using device: {DEVICE}\")\n",
    "LAYER = 5\n",
    "base_probe_name = \"tf_lens_lichess_8layers_ckpt_no_optimizer_chess_piece_probe_layer_0.pth\"\n",
    "\n",
    "\n",
    "USE_16_LAYER = False\n",
    "\n",
    "if USE_16_LAYER:\n",
    "    LAYER = 11\n",
    "    base_probe_name = \"tf_lens_lichess_16layers_ckpt_no_optimizer_chess_piece_probe_layer_0.pth\"\n",
    "\n",
    "probe_to_test = base_probe_name.replace(\"layer_0\", f\"layer_{LAYER}\")\n",
    "\n",
    "num_games = 10\n",
    "sample_size = 1\n",
    "modes = 1\n",
    "\n",
    "probe_file_location = f\"{SAVED_PROBE_DIR}{probe_to_test}\"\n",
    "with open(probe_file_location, \"rb\") as f:\n",
    "    state_dict = torch.load(f, map_location=torch.device(DEVICE))\n",
    "    print(state_dict.keys())\n",
    "    for key in state_dict.keys():\n",
    "        if key != \"linear_probe\":\n",
    "            print(key, state_dict[key])\n",
    "\n",
    "    config = chess_utils.find_config_by_name(state_dict[\"config_name\"])\n",
    "    layer = state_dict[\"layer\"]\n",
    "    model_name = state_dict[\"model_name\"]\n",
    "    dataset_prefix = state_dict[\"dataset_prefix\"]\n",
    "    column_name = state_dict[\"column_name\"]\n",
    "    config.pos_start = state_dict[\"pos_start\"]\n",
    "    levels_of_interest = None\n",
    "    if \"levels_of_interest\" in state_dict.keys():\n",
    "        levels_of_interest = state_dict[\"levels_of_interest\"]\n",
    "    config.levels_of_interest = levels_of_interest\n",
    "    indexing_function_name = state_dict[\"indexing_function_name\"]\n",
    "    n_layers = state_dict[\"n_layers\"]\n",
    "    \n",
    "\n",
    "    split = SPLIT\n",
    "    input_dataframe_file = f\"{DATA_DIR}{dataset_prefix}{split}.csv\"\n",
    "    config = chess_utils.set_config_min_max_vals_and_column_name(\n",
    "        config, input_dataframe_file, dataset_prefix\n",
    "    )\n",
    "    misc_logging_dict = {\n",
    "        \"split\": split,\n",
    "        \"dataset_prefix\": dataset_prefix,\n",
    "        \"model_name\": model_name,\n",
    "        \"n_layers\": n_layers,\n",
    "    }"
   ]
  },
  {
   "cell_type": "markdown",
   "metadata": {},
   "source": [
    "At the end of the below cell, we index at select 1 of the num_games. The reason we do this is that with a large number of games, storing all the resid_posts and state_stacks quickly grows to many gigabytes of VRAM."
   ]
  },
  {
   "cell_type": "code",
   "execution_count": 5,
   "metadata": {},
   "outputs": [
    {
     "name": "stdout",
     "output_type": "stream",
     "text": [
      "Moving model to device:  cpu\n"
     ]
    },
    {
     "name": "stderr",
     "output_type": "stream",
     "text": [
      "2024-10-29 17:54:12,684 - train_test_chess - INFO - Number of games: 10,length of a game in chars: 365\n",
      "INFO:train_test_chess:Number of games: 10,length of a game in chars: 365\n",
      "2024-10-29 17:54:12,685 - train_test_chess - INFO - 0    [15, 6, 4, 27, 9, 0, 26, 10, 0, 7, 4, 19, 25, ...\n",
      "1    [15, 6, 4, 26, 9, 0, 26, 10, 0, 7, 4, 25, 9, 0...\n",
      "2    [15, 6, 4, 27, 9, 0, 25, 10, 0, 7, 4, 19, 28, ...\n",
      "3    [15, 6, 4, 27, 9, 0, 25, 11, 0, 7, 4, 26, 9, 0...\n",
      "4    [15, 6, 4, 27, 9, 0, 27, 10, 0, 7, 4, 19, 28, ...\n",
      "Name: transcript, dtype: object\n",
      "INFO:train_test_chess:0    [15, 6, 4, 27, 9, 0, 26, 10, 0, 7, 4, 19, 25, ...\n",
      "1    [15, 6, 4, 26, 9, 0, 26, 10, 0, 7, 4, 25, 9, 0...\n",
      "2    [15, 6, 4, 27, 9, 0, 25, 10, 0, 7, 4, 19, 28, ...\n",
      "3    [15, 6, 4, 27, 9, 0, 25, 11, 0, 7, 4, 26, 9, 0...\n",
      "4    [15, 6, 4, 27, 9, 0, 27, 10, 0, 7, 4, 19, 28, ...\n",
      "Name: transcript, dtype: object\n",
      "2024-10-29 17:54:12,691 - train_test_chess - INFO - board_seqs_int shape: torch.Size([10, 365])\n",
      "INFO:train_test_chess:board_seqs_int shape: torch.Size([10, 365])\n",
      "INFO:__main__:state_stack shape: torch.Size([1, 10, 365, 8, 8])\n"
     ]
    },
    {
     "name": "stdout",
     "output_type": "stream",
     "text": [
      "Shortest length: 33\n",
      "Moving model to device:  cpu\n",
      "torch.Size([10, 33])\n",
      "\n",
      "Selecting the game of interest\n",
      "torch.Size([10, 365])\n",
      "torch.Size([1, 10, 365, 8, 8])\n",
      "torch.Size([10, 33])\n",
      "10 365\n",
      "torch.Size([1, 365])\n",
      "torch.Size([1, 1, 365, 8, 8])\n",
      "torch.Size([1, 33])\n",
      "1 365\n"
     ]
    }
   ],
   "source": [
    "probe_data = train_test_chess.construct_linear_probe_data(\n",
    "    input_dataframe_file,\n",
    "    dataset_prefix,\n",
    "    n_layers,\n",
    "    model_name,\n",
    "    config,\n",
    "    num_games,\n",
    "    DEVICE,\n",
    ")\n",
    "if DEVICE == \"cpu\":\n",
    "    probe_data.model.cpu()\n",
    "\n",
    "game_of_interest = 3\n",
    "\n",
    "game_length_in_chars = len(probe_data.board_seqs_string[0])\n",
    "\n",
    "\n",
    "state_stacks_all_chars_MBlRR = chess_utils.create_state_stacks(probe_data.board_seqs_string[:num_games], config.custom_board_state_function)\n",
    "logger.info(f\"state_stack shape: {state_stacks_all_chars_MBlRR.shape}\")\n",
    "assert(state_stacks_all_chars_MBlRR.shape) == (modes, num_games, game_length_in_chars, config.num_rows, config.num_cols)\n",
    "white_move_indices_BL = probe_data.custom_indices[:num_games]\n",
    "print(white_move_indices_BL.shape)\n",
    "num_white_moves = white_move_indices_BL.shape[1]\n",
    "assert(white_move_indices_BL.shape) == (num_games, num_white_moves)\n",
    "\n",
    "\n",
    "print(\"\\nSelecting the game of interest\")\n",
    "print(probe_data.board_seqs_int.shape)\n",
    "print(state_stacks_all_chars_MBlRR.shape)\n",
    "print(white_move_indices_BL.shape)\n",
    "print(len(probe_data.board_seqs_string), len(probe_data.board_seqs_string[0]))\n",
    "\n",
    "probe_data.board_seqs_int = probe_data.board_seqs_int[game_of_interest].unsqueeze(0)\n",
    "probe_data.board_seqs_string = [probe_data.board_seqs_string[game_of_interest]]\n",
    "probe_data.custom_indices = white_move_indices_BL[game_of_interest].unsqueeze(0)\n",
    "state_stacks_all_chars_MBlRR = state_stacks_all_chars_MBlRR[:, game_of_interest, :, :, :].unsqueeze(1)\n",
    "white_move_indices_BL = white_move_indices_BL[game_of_interest].unsqueeze(0)\n",
    "\n",
    "print(probe_data.board_seqs_int.shape)\n",
    "print(state_stacks_all_chars_MBlRR.shape)\n",
    "print(white_move_indices_BL.shape)\n",
    "print(len(probe_data.board_seqs_string), len(probe_data.board_seqs_string[0]))"
   ]
  },
  {
   "cell_type": "markdown",
   "metadata": {},
   "source": [
    "Here is an explanation of all the data we just generated:"
   ]
  },
  {
   "cell_type": "code",
   "execution_count": 6,
   "metadata": {},
   "outputs": [
    {
     "name": "stdout",
     "output_type": "stream",
     "text": [
      "All pgn strings are of length 365\n",
      "For game 3, the pgn string is ;1.e4 c6 2.d4 d5 3.e5 Bf5 4.Bd3 Bxd3 5.Qxd3 Nd7 6.h3 e6 7.Nf3 c5 8.c3 Ne7 9.Be3 Nf5 10.Na3 Qb6 11.Rb1 cxd4 12.cxd4 Nxe3 13.fxe3 Bb4+ 14.Nd2 Qa5 15.Rd1 Rc8 16.O-O O-O 17.Nf3 Bxa3 18.bxa3 h6 19.Rc1 Nb6 20.Rc2 Rxc2 21.Qxc2 Qxa3 22.Qb3 Qxb3 23.axb3 Rc8 24.Ra1 a6 25.Rb1 Rc3 26.Kf2 Nd7 27.Nd2 Rc2 28.Ke2 Kh7 29.Kd3 Rc6 30.b4 f6 31.exf6 Nxf6 32.Nb3 Ne4 33.Nc5 Nxc5+ 34.bx\n",
      "Using our encode functions, it's represented as ints that are fed as input to the GPT model with shape torch.Size([1, 365])\n",
      "The first 30 characters of board_seqs_ints looks like this: tensor([[15,  6,  4, 27,  9,  0, 25, 11,  0,  7,  4, 26,  9,  0, 26, 10,  0,  8,\n",
      "          4, 27, 10,  0, 17, 28, 10,  0,  9,  4, 17, 26]])\n",
      "state_stacks_all_chars contains the board state at every char index in the pgn string with shape torch.Size([1, 1, 365, 8, 8])\n",
      "white_move_indices contains the index of every white move in the pgn string with shape torch.Size([1, 33])\n",
      "That means there are 33 white moves in the game\n",
      "For example, in ;1.e4 c6 2.d4 , the white move indices are tensor([[ 2, 10]], dtype=torch.int32) (the indices of each period)\n"
     ]
    }
   ],
   "source": [
    "print(f\"All pgn strings are of length {game_length_in_chars}\")\n",
    "print(f\"For game {game_of_interest}, the pgn string is {probe_data.board_seqs_string[0]}\")\n",
    "print(f\"Using our encode functions, it's represented as ints that are fed as input to the GPT model with shape {probe_data.board_seqs_int.shape}\")\n",
    "print(f\"The first 30 characters of board_seqs_ints looks like this: {probe_data.board_seqs_int[:, :30]}\")\n",
    "print(f\"state_stacks_all_chars contains the board state at every char index in the pgn string with shape {state_stacks_all_chars_MBlRR.shape}\")\n",
    "print(f\"white_move_indices contains the index of every white move in the pgn string with shape {white_move_indices_BL.shape}\")\n",
    "print(f\"That means there are {num_white_moves} white moves in the game\")\n",
    "print(f\"For example, in {probe_data.board_seqs_string[0][:14]}, the white move indices are {white_move_indices_BL[:, :2]} (the indices of each period)\")\n",
    "\n"
   ]
  },
  {
   "cell_type": "markdown",
   "metadata": {},
   "source": [
    "Important note: At the bottom of the below cell, I currently am using softmax to view probe output probabilities. You can comment that out to view raw logits instead.\n",
    "\n",
    "In this cell, we input the board_seqs_int to the GPT to obtain resid_post, the intermediate activations after our layer of interest. We index into resid_post using white_move_indices. These indexed resid_posts are then input to the linear probe, which outputs probe_out, a probability distribution for the state of every square on the board."
   ]
  },
  {
   "cell_type": "code",
   "execution_count": 7,
   "metadata": {},
   "outputs": [
    {
     "name": "stdout",
     "output_type": "stream",
     "text": [
      "torch.Size([1, 512, 8, 8, 13])\n",
      "state stack shapes\n",
      "torch.Size([1, 1, 33, 8, 8])\n",
      "torch.Size([1, 1, 365, 8, 8])\n",
      "Resid post torch.Size([1, 33, 512])\n",
      "Probe out shape: torch.Size([1, 1, 33, 8, 8, 13])\n"
     ]
    }
   ],
   "source": [
    "checkpoint = torch.load(probe_file_location, map_location=torch.device(DEVICE))\n",
    "linear_probe_MDRRC = checkpoint[\"linear_probe\"]\n",
    "print(linear_probe_MDRRC.shape)\n",
    "\n",
    "\n",
    "one_hot_range = config.max_val - config.min_val + 1\n",
    "\n",
    "board_seqs_int_BL = probe_data.board_seqs_int[:].to(DEVICE)\n",
    "assert(board_seqs_int_BL.shape) == (1, game_length_in_chars)\n",
    "\n",
    "indexed_state_stacks_MBLRR = []\n",
    "\n",
    "for batch_idx in range(sample_size):\n",
    "    # Get the indices for the current batch\n",
    "    dots_indices_for_batch_L = white_move_indices_BL[batch_idx]\n",
    "\n",
    "    # Index the state_stack for the current batch. Adding an unsqueeze operation to maintain the batch dimension.\n",
    "    indexed_state_stack_MLRR = state_stacks_all_chars_MBlRR[:, batch_idx:batch_idx+1, dots_indices_for_batch_L, :, :]\n",
    "\n",
    "    # Append the result to the list\n",
    "    indexed_state_stacks_MBLRR.append(indexed_state_stack_MLRR)\n",
    "\n",
    "# Concatenate the indexed state stacks along the second dimension (batch dimension)\n",
    "# Since we're maintaining the batch dimension during indexing, we don't need to add it back in.\n",
    "state_stack_white_moves_MBLRR = torch.cat(indexed_state_stacks_MBLRR, dim=1)\n",
    "\n",
    "print(\"state stack shapes\")\n",
    "print(state_stack_white_moves_MBLRR.shape)\n",
    "print(state_stacks_all_chars_MBlRR.shape)\n",
    "\n",
    "with torch.inference_mode():\n",
    "    _, cache = probe_data.model.run_with_cache(board_seqs_int_BL[:, :-1], return_type=None)\n",
    "    resid_post_BlD = cache[\"resid_post\", layer][:, :]\n",
    "\n",
    "# print(resid_post.shape)\n",
    "assert(resid_post_BlD.shape) == (sample_size, game_length_in_chars - 1, linear_probe_MDRRC.shape[1])\n",
    "\n",
    "# Initialize a list to hold the indexed state stacks\n",
    "indexed_resid_posts_BLD = []\n",
    "\n",
    "for batch_idx in range(sample_size):\n",
    "    # Get the indices for the current batch\n",
    "    dots_indices_for_batch_L = white_move_indices_BL[batch_idx]\n",
    "\n",
    "    # Index the state_stack for the current batch\n",
    "    indexed_resid_post_LD = resid_post_BlD[batch_idx, dots_indices_for_batch_L]\n",
    "\n",
    "    # Append the result to the list\n",
    "    indexed_resid_posts_BLD.append(indexed_resid_post_LD)\n",
    "\n",
    "# Stack the indexed state stacks along the first dimension\n",
    "# This results in a tensor of shape [2, 61, 8, 8] (assuming all batches have 61 indices)\n",
    "resid_post_BLD = torch.stack(indexed_resid_posts_BLD)\n",
    "resid_post_BLD = resid_post_BLD.to(DEVICE)\n",
    "print(\"Resid post\", resid_post_BLD.shape)\n",
    "probe_out_MBLRRC = einsum(\n",
    "    \"batch pos d_model, modes d_model rows cols options -> modes batch pos rows cols options\",\n",
    "    resid_post_BLD,\n",
    "    linear_probe_MDRRC,\n",
    ")\n",
    "probe_out_MBLRRC = probe_out_MBLRRC.log_softmax(-1)\n",
    "print(f\"Probe out shape: {probe_out_MBLRRC.shape}\")\n",
    "assert(probe_out_MBLRRC.shape) == (modes, sample_size, white_move_indices_BL.shape[1], config.num_rows, config.num_cols, one_hot_range)"
   ]
  },
  {
   "cell_type": "markdown",
   "metadata": {},
   "source": [
    "Here you can select which move you want to visualize (move_of_interest)."
   ]
  },
  {
   "cell_type": "code",
   "execution_count": 8,
   "metadata": {},
   "outputs": [
    {
     "name": "stdout",
     "output_type": "stream",
     "text": [
      "torch.Size([8, 8])\n",
      "tensor([[ 0,  4,  0,  0,  6,  0,  0,  4],\n",
      "        [ 1,  1,  0,  0,  0,  1,  1,  0],\n",
      "        [ 2,  0,  1,  5,  3,  2,  0,  1],\n",
      "        [ 0,  0,  0, -1,  0,  0,  0,  0],\n",
      "        [ 0,  0,  0, -1,  1, -2,  0,  0],\n",
      "        [ 0, -5,  0,  0, -1,  0,  0,  0],\n",
      "        [-1, -1,  0, -2,  0, -1, -1, -1],\n",
      "        [-4,  0,  0,  0, -6, -3,  0, -4]], dtype=torch.int8)\n"
     ]
    }
   ],
   "source": [
    "move_of_interest = 11\n",
    "GAME_IDX = 0 # After refactoring to discard unused games, this is always 0\n",
    "move_of_interest_index = white_move_indices_BL[GAME_IDX][move_of_interest] # Used to select pgn strings\n",
    "move_of_interest_state_RR = state_stack_white_moves_MBLRR[0][GAME_IDX][move_of_interest]\n",
    "print(move_of_interest_state_RR.shape)\n",
    "print(move_of_interest_state_RR)"
   ]
  },
  {
   "cell_type": "markdown",
   "metadata": {},
   "source": [
    "Now we one hot encode our move_of_interest and store it in move_of_interest_state_one_hot."
   ]
  },
  {
   "cell_type": "code",
   "execution_count": 9,
   "metadata": {},
   "outputs": [
    {
     "name": "stdout",
     "output_type": "stream",
     "text": [
      "torch.Size([1, 1, 33, 8, 8, 13])\n",
      "torch.Size([8, 8, 13])\n"
     ]
    }
   ],
   "source": [
    "state_stacks_one_hot_MBLRRC = chess_utils.state_stack_to_one_hot(modes, config.num_rows, config.num_cols, config.min_val, config.max_val, DEVICE, state_stack_white_moves_MBLRR)\n",
    "print(state_stacks_one_hot_MBLRRC.shape)\n",
    "assert(state_stacks_one_hot_MBLRRC.shape) == (modes, sample_size, num_white_moves, config.num_rows, config.num_cols, one_hot_range)\n",
    "move_of_interest_state_one_hot_RRC = state_stacks_one_hot_MBLRRC[0][GAME_IDX][move_of_interest]\n",
    "print(move_of_interest_state_one_hot_RRC.shape)"
   ]
  },
  {
   "cell_type": "markdown",
   "metadata": {},
   "source": [
    "We get the argmax of each square's probe probability distribution and store it in state_stacks_probe_outputs for easy graphing."
   ]
  },
  {
   "cell_type": "code",
   "execution_count": 10,
   "metadata": {},
   "outputs": [
    {
     "name": "stdout",
     "output_type": "stream",
     "text": [
      "torch.Size([8, 8, 13])\n",
      "torch.Size([1, 1, 33, 8, 8, 13])\n",
      "torch.Size([1, 1, 33, 8, 8])\n",
      "tensor([[ 0,  0,  0,  0,  6,  0,  0,  4],\n",
      "        [ 1,  1,  0,  0,  0,  1,  1,  0],\n",
      "        [ 2,  0,  1,  5,  3,  2,  0,  1],\n",
      "        [ 0,  0,  0, -1,  0,  0,  0,  0],\n",
      "        [ 0,  0,  0, -1,  1, -2,  0,  0],\n",
      "        [ 0, -5,  0,  0, -1,  0,  0,  0],\n",
      "        [-1, -1,  0, -2,  0, -1, -1, -1],\n",
      "        [-4,  0,  0,  0, -6, -3,  0, -4]])\n"
     ]
    },
    {
     "name": "stderr",
     "output_type": "stream",
     "text": [
      "/tmp/ipykernel_5087/1390504110.py:4: UserWarning: To copy construct from a tensor, it is recommended to use sourceTensor.clone().detach() or sourceTensor.clone().detach().requires_grad_(True), rather than torch.tensor(sourceTensor).\n",
      "  state_stacks_probe_outputs_MBLRR = torch.tensor(state_stacks_probe_outputs_MBLRR)\n"
     ]
    }
   ],
   "source": [
    "print(move_of_interest_state_one_hot_RRC.shape)\n",
    "print(state_stacks_one_hot_MBLRRC.shape)\n",
    "state_stacks_probe_outputs_MBLRR = chess_utils.one_hot_to_state_stack(probe_out_MBLRRC, config.min_val)\n",
    "state_stacks_probe_outputs_MBLRR = torch.tensor(state_stacks_probe_outputs_MBLRR)\n",
    "print(state_stacks_probe_outputs_MBLRR.shape)\n",
    "assert(state_stacks_probe_outputs_MBLRR.shape) == (modes, sample_size, num_white_moves, config.num_rows, config.num_cols)\n",
    "print(state_stacks_probe_outputs_MBLRR[0][GAME_IDX][move_of_interest])"
   ]
  },
  {
   "cell_type": "markdown",
   "metadata": {},
   "source": [
    "Change blank_index, king_index, or pawn_index if you want to visualize the probe's view of other pieces. For example, if I want to see the black queen, I could set blank_index = -5 (refer to INT_TO_CHAR for the mapping)"
   ]
  },
  {
   "cell_type": "code",
   "execution_count": 11,
   "metadata": {},
   "outputs": [
    {
     "name": "stdout",
     "output_type": "stream",
     "text": [
      "tensor([[0, 0, 0, 0, 0, 0, 0, 0],\n",
      "        [1, 1, 0, 0, 0, 1, 1, 0],\n",
      "        [0, 0, 1, 0, 0, 0, 0, 1],\n",
      "        [0, 0, 0, 0, 0, 0, 0, 0],\n",
      "        [0, 0, 0, 0, 1, 0, 0, 0],\n",
      "        [0, 0, 0, 0, 0, 0, 0, 0],\n",
      "        [0, 0, 0, 0, 0, 0, 0, 0],\n",
      "        [0, 0, 0, 0, 0, 0, 0, 0]], dtype=torch.int8)\n",
      "torch.Size([8, 8, 13])\n"
     ]
    },
    {
     "data": {
      "application/vnd.plotly.v1+json": {
       "config": {
        "plotlyServerURL": "https://plot.ly"
       },
       "data": [
        {
         "colorscale": [
          [
           0,
           "rgb(0, 0, 0)"
          ],
          [
           0.09090909090909091,
           "rgb(16, 16, 16)"
          ],
          [
           0.18181818181818182,
           "rgb(38, 38, 38)"
          ],
          [
           0.2727272727272727,
           "rgb(59, 59, 59)"
          ],
          [
           0.36363636363636365,
           "rgb(81, 80, 80)"
          ],
          [
           0.45454545454545453,
           "rgb(102, 101, 101)"
          ],
          [
           0.5454545454545454,
           "rgb(124, 123, 122)"
          ],
          [
           0.6363636363636364,
           "rgb(146, 146, 145)"
          ],
          [
           0.7272727272727273,
           "rgb(171, 171, 170)"
          ],
          [
           0.8181818181818182,
           "rgb(197, 197, 195)"
          ],
          [
           0.9090909090909091,
           "rgb(224, 224, 223)"
          ],
          [
           1,
           "rgb(254, 254, 253)"
          ]
         ],
         "showscale": true,
         "type": "heatmap",
         "z": [
          [
           -19.26125144958496,
           -19.38117218017578,
           -20.151668548583984,
           -22.923480987548828,
           -29.243804931640625,
           -22.741575241088867,
           -24.562652587890625,
           -25.952484130859375
          ],
          [
           -0.002508233767002821,
           -5.960462772236497e-7,
           -16.938058853149414,
           -21.703411102294922,
           -17.121322631835938,
           -0.00006353653589030728,
           -0.00001549708758830093,
           -4.981609344482422
          ],
          [
           -6.924721717834473,
           -16.73996353149414,
           -0.000031470757676288486,
           -20.62518310546875,
           -9.283698081970215,
           -24.484928131103516,
           -15.333521842956543,
           -0.027124058455228806
          ],
          [
           -9.46078109741211,
           -15.771828651428223,
           -21.967912673950195,
           -20.41132354736328,
           -15.577985763549805,
           -15.32177734375,
           -15.735530853271484,
           -6.281662464141846
          ],
          [
           -12.352341651916504,
           -16.449914932250977,
           -21.150440216064453,
           -19.383434295654297,
           -0.0000011920922133867862,
           -16.886150360107422,
           -10.39670181274414,
           -9.401823043823242
          ],
          [
           -11.788759231567383,
           -16.07928466796875,
           -17.248945236206055,
           -17.692567825317383,
           -19.280895233154297,
           -14.912649154663086,
           -10.951659202575684,
           -10.760985374450684
          ],
          [
           -14.917123794555664,
           -12.12962818145752,
           -16.256967544555664,
           -17.8416805267334,
           -16.381738662719727,
           -18.55277442932129,
           -14.923151969909668,
           -10.791557312011719
          ],
          [
           -22.856889724731445,
           -19.891908645629883,
           -23.865726470947266,
           -25.213722229003906,
           -26.178342819213867,
           -25.501617431640625,
           -20.67241668701172,
           -22.93648338317871
          ]
         ]
        }
       ],
       "layout": {
        "autosize": false,
        "height": 600,
        "template": {
         "data": {
          "bar": [
           {
            "error_x": {
             "color": "#2a3f5f"
            },
            "error_y": {
             "color": "#2a3f5f"
            },
            "marker": {
             "line": {
              "color": "#E5ECF6",
              "width": 0.5
             },
             "pattern": {
              "fillmode": "overlay",
              "size": 10,
              "solidity": 0.2
             }
            },
            "type": "bar"
           }
          ],
          "barpolar": [
           {
            "marker": {
             "line": {
              "color": "#E5ECF6",
              "width": 0.5
             },
             "pattern": {
              "fillmode": "overlay",
              "size": 10,
              "solidity": 0.2
             }
            },
            "type": "barpolar"
           }
          ],
          "carpet": [
           {
            "aaxis": {
             "endlinecolor": "#2a3f5f",
             "gridcolor": "white",
             "linecolor": "white",
             "minorgridcolor": "white",
             "startlinecolor": "#2a3f5f"
            },
            "baxis": {
             "endlinecolor": "#2a3f5f",
             "gridcolor": "white",
             "linecolor": "white",
             "minorgridcolor": "white",
             "startlinecolor": "#2a3f5f"
            },
            "type": "carpet"
           }
          ],
          "choropleth": [
           {
            "colorbar": {
             "outlinewidth": 0,
             "ticks": ""
            },
            "type": "choropleth"
           }
          ],
          "contour": [
           {
            "colorbar": {
             "outlinewidth": 0,
             "ticks": ""
            },
            "colorscale": [
             [
              0,
              "#0d0887"
             ],
             [
              0.1111111111111111,
              "#46039f"
             ],
             [
              0.2222222222222222,
              "#7201a8"
             ],
             [
              0.3333333333333333,
              "#9c179e"
             ],
             [
              0.4444444444444444,
              "#bd3786"
             ],
             [
              0.5555555555555556,
              "#d8576b"
             ],
             [
              0.6666666666666666,
              "#ed7953"
             ],
             [
              0.7777777777777778,
              "#fb9f3a"
             ],
             [
              0.8888888888888888,
              "#fdca26"
             ],
             [
              1,
              "#f0f921"
             ]
            ],
            "type": "contour"
           }
          ],
          "contourcarpet": [
           {
            "colorbar": {
             "outlinewidth": 0,
             "ticks": ""
            },
            "type": "contourcarpet"
           }
          ],
          "heatmap": [
           {
            "colorbar": {
             "outlinewidth": 0,
             "ticks": ""
            },
            "colorscale": [
             [
              0,
              "#0d0887"
             ],
             [
              0.1111111111111111,
              "#46039f"
             ],
             [
              0.2222222222222222,
              "#7201a8"
             ],
             [
              0.3333333333333333,
              "#9c179e"
             ],
             [
              0.4444444444444444,
              "#bd3786"
             ],
             [
              0.5555555555555556,
              "#d8576b"
             ],
             [
              0.6666666666666666,
              "#ed7953"
             ],
             [
              0.7777777777777778,
              "#fb9f3a"
             ],
             [
              0.8888888888888888,
              "#fdca26"
             ],
             [
              1,
              "#f0f921"
             ]
            ],
            "type": "heatmap"
           }
          ],
          "heatmapgl": [
           {
            "colorbar": {
             "outlinewidth": 0,
             "ticks": ""
            },
            "colorscale": [
             [
              0,
              "#0d0887"
             ],
             [
              0.1111111111111111,
              "#46039f"
             ],
             [
              0.2222222222222222,
              "#7201a8"
             ],
             [
              0.3333333333333333,
              "#9c179e"
             ],
             [
              0.4444444444444444,
              "#bd3786"
             ],
             [
              0.5555555555555556,
              "#d8576b"
             ],
             [
              0.6666666666666666,
              "#ed7953"
             ],
             [
              0.7777777777777778,
              "#fb9f3a"
             ],
             [
              0.8888888888888888,
              "#fdca26"
             ],
             [
              1,
              "#f0f921"
             ]
            ],
            "type": "heatmapgl"
           }
          ],
          "histogram": [
           {
            "marker": {
             "pattern": {
              "fillmode": "overlay",
              "size": 10,
              "solidity": 0.2
             }
            },
            "type": "histogram"
           }
          ],
          "histogram2d": [
           {
            "colorbar": {
             "outlinewidth": 0,
             "ticks": ""
            },
            "colorscale": [
             [
              0,
              "#0d0887"
             ],
             [
              0.1111111111111111,
              "#46039f"
             ],
             [
              0.2222222222222222,
              "#7201a8"
             ],
             [
              0.3333333333333333,
              "#9c179e"
             ],
             [
              0.4444444444444444,
              "#bd3786"
             ],
             [
              0.5555555555555556,
              "#d8576b"
             ],
             [
              0.6666666666666666,
              "#ed7953"
             ],
             [
              0.7777777777777778,
              "#fb9f3a"
             ],
             [
              0.8888888888888888,
              "#fdca26"
             ],
             [
              1,
              "#f0f921"
             ]
            ],
            "type": "histogram2d"
           }
          ],
          "histogram2dcontour": [
           {
            "colorbar": {
             "outlinewidth": 0,
             "ticks": ""
            },
            "colorscale": [
             [
              0,
              "#0d0887"
             ],
             [
              0.1111111111111111,
              "#46039f"
             ],
             [
              0.2222222222222222,
              "#7201a8"
             ],
             [
              0.3333333333333333,
              "#9c179e"
             ],
             [
              0.4444444444444444,
              "#bd3786"
             ],
             [
              0.5555555555555556,
              "#d8576b"
             ],
             [
              0.6666666666666666,
              "#ed7953"
             ],
             [
              0.7777777777777778,
              "#fb9f3a"
             ],
             [
              0.8888888888888888,
              "#fdca26"
             ],
             [
              1,
              "#f0f921"
             ]
            ],
            "type": "histogram2dcontour"
           }
          ],
          "mesh3d": [
           {
            "colorbar": {
             "outlinewidth": 0,
             "ticks": ""
            },
            "type": "mesh3d"
           }
          ],
          "parcoords": [
           {
            "line": {
             "colorbar": {
              "outlinewidth": 0,
              "ticks": ""
             }
            },
            "type": "parcoords"
           }
          ],
          "pie": [
           {
            "automargin": true,
            "type": "pie"
           }
          ],
          "scatter": [
           {
            "fillpattern": {
             "fillmode": "overlay",
             "size": 10,
             "solidity": 0.2
            },
            "type": "scatter"
           }
          ],
          "scatter3d": [
           {
            "line": {
             "colorbar": {
              "outlinewidth": 0,
              "ticks": ""
             }
            },
            "marker": {
             "colorbar": {
              "outlinewidth": 0,
              "ticks": ""
             }
            },
            "type": "scatter3d"
           }
          ],
          "scattercarpet": [
           {
            "marker": {
             "colorbar": {
              "outlinewidth": 0,
              "ticks": ""
             }
            },
            "type": "scattercarpet"
           }
          ],
          "scattergeo": [
           {
            "marker": {
             "colorbar": {
              "outlinewidth": 0,
              "ticks": ""
             }
            },
            "type": "scattergeo"
           }
          ],
          "scattergl": [
           {
            "marker": {
             "colorbar": {
              "outlinewidth": 0,
              "ticks": ""
             }
            },
            "type": "scattergl"
           }
          ],
          "scattermapbox": [
           {
            "marker": {
             "colorbar": {
              "outlinewidth": 0,
              "ticks": ""
             }
            },
            "type": "scattermapbox"
           }
          ],
          "scatterpolar": [
           {
            "marker": {
             "colorbar": {
              "outlinewidth": 0,
              "ticks": ""
             }
            },
            "type": "scatterpolar"
           }
          ],
          "scatterpolargl": [
           {
            "marker": {
             "colorbar": {
              "outlinewidth": 0,
              "ticks": ""
             }
            },
            "type": "scatterpolargl"
           }
          ],
          "scatterternary": [
           {
            "marker": {
             "colorbar": {
              "outlinewidth": 0,
              "ticks": ""
             }
            },
            "type": "scatterternary"
           }
          ],
          "surface": [
           {
            "colorbar": {
             "outlinewidth": 0,
             "ticks": ""
            },
            "colorscale": [
             [
              0,
              "#0d0887"
             ],
             [
              0.1111111111111111,
              "#46039f"
             ],
             [
              0.2222222222222222,
              "#7201a8"
             ],
             [
              0.3333333333333333,
              "#9c179e"
             ],
             [
              0.4444444444444444,
              "#bd3786"
             ],
             [
              0.5555555555555556,
              "#d8576b"
             ],
             [
              0.6666666666666666,
              "#ed7953"
             ],
             [
              0.7777777777777778,
              "#fb9f3a"
             ],
             [
              0.8888888888888888,
              "#fdca26"
             ],
             [
              1,
              "#f0f921"
             ]
            ],
            "type": "surface"
           }
          ],
          "table": [
           {
            "cells": {
             "fill": {
              "color": "#EBF0F8"
             },
             "line": {
              "color": "white"
             }
            },
            "header": {
             "fill": {
              "color": "#C8D4E3"
             },
             "line": {
              "color": "white"
             }
            },
            "type": "table"
           }
          ]
         },
         "layout": {
          "annotationdefaults": {
           "arrowcolor": "#2a3f5f",
           "arrowhead": 0,
           "arrowwidth": 1
          },
          "autotypenumbers": "strict",
          "coloraxis": {
           "colorbar": {
            "outlinewidth": 0,
            "ticks": ""
           }
          },
          "colorscale": {
           "diverging": [
            [
             0,
             "#8e0152"
            ],
            [
             0.1,
             "#c51b7d"
            ],
            [
             0.2,
             "#de77ae"
            ],
            [
             0.3,
             "#f1b6da"
            ],
            [
             0.4,
             "#fde0ef"
            ],
            [
             0.5,
             "#f7f7f7"
            ],
            [
             0.6,
             "#e6f5d0"
            ],
            [
             0.7,
             "#b8e186"
            ],
            [
             0.8,
             "#7fbc41"
            ],
            [
             0.9,
             "#4d9221"
            ],
            [
             1,
             "#276419"
            ]
           ],
           "sequential": [
            [
             0,
             "#0d0887"
            ],
            [
             0.1111111111111111,
             "#46039f"
            ],
            [
             0.2222222222222222,
             "#7201a8"
            ],
            [
             0.3333333333333333,
             "#9c179e"
            ],
            [
             0.4444444444444444,
             "#bd3786"
            ],
            [
             0.5555555555555556,
             "#d8576b"
            ],
            [
             0.6666666666666666,
             "#ed7953"
            ],
            [
             0.7777777777777778,
             "#fb9f3a"
            ],
            [
             0.8888888888888888,
             "#fdca26"
            ],
            [
             1,
             "#f0f921"
            ]
           ],
           "sequentialminus": [
            [
             0,
             "#0d0887"
            ],
            [
             0.1111111111111111,
             "#46039f"
            ],
            [
             0.2222222222222222,
             "#7201a8"
            ],
            [
             0.3333333333333333,
             "#9c179e"
            ],
            [
             0.4444444444444444,
             "#bd3786"
            ],
            [
             0.5555555555555556,
             "#d8576b"
            ],
            [
             0.6666666666666666,
             "#ed7953"
            ],
            [
             0.7777777777777778,
             "#fb9f3a"
            ],
            [
             0.8888888888888888,
             "#fdca26"
            ],
            [
             1,
             "#f0f921"
            ]
           ]
          },
          "colorway": [
           "#636efa",
           "#EF553B",
           "#00cc96",
           "#ab63fa",
           "#FFA15A",
           "#19d3f3",
           "#FF6692",
           "#B6E880",
           "#FF97FF",
           "#FECB52"
          ],
          "font": {
           "color": "#2a3f5f"
          },
          "geo": {
           "bgcolor": "white",
           "lakecolor": "white",
           "landcolor": "#E5ECF6",
           "showlakes": true,
           "showland": true,
           "subunitcolor": "white"
          },
          "hoverlabel": {
           "align": "left"
          },
          "hovermode": "closest",
          "mapbox": {
           "style": "light"
          },
          "paper_bgcolor": "white",
          "plot_bgcolor": "#E5ECF6",
          "polar": {
           "angularaxis": {
            "gridcolor": "white",
            "linecolor": "white",
            "ticks": ""
           },
           "bgcolor": "#E5ECF6",
           "radialaxis": {
            "gridcolor": "white",
            "linecolor": "white",
            "ticks": ""
           }
          },
          "scene": {
           "xaxis": {
            "backgroundcolor": "#E5ECF6",
            "gridcolor": "white",
            "gridwidth": 2,
            "linecolor": "white",
            "showbackground": true,
            "ticks": "",
            "zerolinecolor": "white"
           },
           "yaxis": {
            "backgroundcolor": "#E5ECF6",
            "gridcolor": "white",
            "gridwidth": 2,
            "linecolor": "white",
            "showbackground": true,
            "ticks": "",
            "zerolinecolor": "white"
           },
           "zaxis": {
            "backgroundcolor": "#E5ECF6",
            "gridcolor": "white",
            "gridwidth": 2,
            "linecolor": "white",
            "showbackground": true,
            "ticks": "",
            "zerolinecolor": "white"
           }
          },
          "shapedefaults": {
           "line": {
            "color": "#2a3f5f"
           }
          },
          "ternary": {
           "aaxis": {
            "gridcolor": "white",
            "linecolor": "white",
            "ticks": ""
           },
           "baxis": {
            "gridcolor": "white",
            "linecolor": "white",
            "ticks": ""
           },
           "bgcolor": "#E5ECF6",
           "caxis": {
            "gridcolor": "white",
            "linecolor": "white",
            "ticks": ""
           }
          },
          "title": {
           "x": 0.05
          },
          "xaxis": {
           "automargin": true,
           "gridcolor": "white",
           "linecolor": "white",
           "ticks": "",
           "title": {
            "standoff": 15
           },
           "zerolinecolor": "white",
           "zerolinewidth": 2
          },
          "yaxis": {
           "automargin": true,
           "gridcolor": "white",
           "linecolor": "white",
           "ticks": "",
           "title": {
            "standoff": 15
           },
           "zerolinecolor": "white",
           "zerolinewidth": 2
          }
         }
        },
        "title": {
         "text": "Chess board white pawns"
        },
        "width": 600,
        "xaxis": {
         "nticks": 8,
         "ticks": ""
        },
        "yaxis": {
         "nticks": 8,
         "ticks": ""
        }
       }
      }
     },
     "metadata": {},
     "output_type": "display_data"
    }
   ],
   "source": [
    "\n",
    "INT_TO_CHAR = {\n",
    "    -6: \"\\u265a\",\n",
    "    -5: \"\\u265b\",\n",
    "    -4: \"\\u265c\",\n",
    "    -3: \"\\u265d\",\n",
    "    -2: \"\\u265e\",\n",
    "    -1: \"\\u265f\",\n",
    "    0: \".\",\n",
    "    1: \"\\u2659\",\n",
    "    2: \"\\u2658\",\n",
    "    3: \"\\u2657\",\n",
    "    4: \"\\u2656\",\n",
    "    5: \"\\u2655\",\n",
    "    6: \"\\u2654\",\n",
    "}\n",
    "\n",
    "# Mapping of integers to chess pieces\n",
    "# I'm duplicating this from chess_utils.py for easy reference\n",
    "PIECE_TO_ONE_HOT_MAPPING = {\n",
    "    -6: 0,\n",
    "    -5: 1,\n",
    "    -4: 2,\n",
    "    -3: 3,\n",
    "    -2: 4,\n",
    "    -1: 5,\n",
    "    0: 6,\n",
    "    1: 7,\n",
    "    2: 8,\n",
    "    3: 9,\n",
    "    4: 10,\n",
    "    5: 11,\n",
    "    6: 12,\n",
    "}\n",
    "\n",
    "# Mapping of chess pieces to integers\n",
    "PIECE_TO_INT = {\n",
    "    chess.PAWN: 1,\n",
    "    chess.KNIGHT: 2,\n",
    "    chess.BISHOP: 3,\n",
    "    chess.ROOK: 4,\n",
    "    chess.QUEEN: 5,\n",
    "    chess.KING: 6,\n",
    "}\n",
    "\n",
    "INT_TO_PIECE = {value: key for key, value in PIECE_TO_INT.items()}\n",
    "\n",
    "BLANK_INDEX = PIECE_TO_ONE_HOT_MAPPING[0]\n",
    "white_pawn_index = PIECE_TO_ONE_HOT_MAPPING[1]\n",
    "black_king_index = PIECE_TO_ONE_HOT_MAPPING[-6]\n",
    "\n",
    "def plot_board_state(board_state: torch.Tensor, clip_size: int = 200, show_scale: bool = False):\n",
    "    # color scale: Black for -1, Gray for 0, White for 1\n",
    "    # colorscale = [[0.0, 'black'], [0.5, 'gray'], [1.0, 'white']]\n",
    "    colorscale = 'gray'\n",
    "    if board_state.is_cuda:\n",
    "        board_state = board_state.cpu()\n",
    "    board_state = np.clip(board_state.numpy(), -clip_size, clip_size)\n",
    "\n",
    "    # Create heatmap\n",
    "    heatmap = go.Heatmap(z=board_state, colorscale=colorscale, showscale=show_scale)\n",
    "    return heatmap\n",
    "\n",
    "print(move_of_interest_state_one_hot_RRC[:, :, white_pawn_index])\n",
    "# heatmap = plot_board_state(move_of_interest_state_one_hot[:, :, white_pawn_index], show_scale=True)\n",
    "\n",
    "move_of_interest_probe_out = probe_out_MBLRRC[0][0][move_of_interest]\n",
    "print(move_of_interest_probe_out.shape)\n",
    "\n",
    "heatmap = plot_board_state(move_of_interest_probe_out[:, :, white_pawn_index], show_scale=True)\n",
    "\n",
    "# Define the layout\n",
    "layout = go.Layout(\n",
    "    title=\"Chess board white pawns\",\n",
    "    xaxis=dict(ticks='', nticks=8),\n",
    "    yaxis=dict(ticks='', nticks=8),\n",
    "    autosize=False,\n",
    "    width=600,\n",
    "    height=600\n",
    ")\n",
    "\n",
    "# Create figure and plot\n",
    "fig = go.Figure(data=[heatmap], layout=layout)\n",
    "fig.show()"
   ]
  },
  {
   "cell_type": "code",
   "execution_count": 12,
   "metadata": {},
   "outputs": [
    {
     "data": {
      "application/vnd.plotly.v1+json": {
       "config": {
        "plotlyServerURL": "https://plot.ly"
       },
       "data": [
        {
         "colorscale": [
          [
           0,
           "white"
          ],
          [
           0.49,
           "white"
          ],
          [
           0.5,
           "grey"
          ],
          [
           0.51,
           "white"
          ],
          [
           1,
           "white"
          ]
         ],
         "showscale": false,
         "text": [
          [
           ".",
           "♖",
           ".",
           ".",
           "♔",
           ".",
           ".",
           "♖"
          ],
          [
           "♙",
           "♙",
           ".",
           ".",
           ".",
           "♙",
           "♙",
           "."
          ],
          [
           "♘",
           ".",
           "♙",
           "♕",
           "♗",
           "♘",
           ".",
           "♙"
          ],
          [
           ".",
           ".",
           ".",
           "♟",
           ".",
           ".",
           ".",
           "."
          ],
          [
           ".",
           ".",
           ".",
           "♟",
           "♙",
           "♞",
           ".",
           "."
          ],
          [
           ".",
           "♛",
           ".",
           ".",
           "♟",
           ".",
           ".",
           "."
          ],
          [
           "♟",
           "♟",
           ".",
           "♞",
           ".",
           "♟",
           "♟",
           "♟"
          ],
          [
           "♜",
           ".",
           ".",
           ".",
           "♚",
           "♝",
           ".",
           "♜"
          ]
         ],
         "textfont": {
          "size": 48
         },
         "texttemplate": "%{text}",
         "type": "heatmap",
         "z": [
          [
           0,
           4,
           0,
           0,
           6,
           0,
           0,
           4
          ],
          [
           1,
           1,
           0,
           0,
           0,
           1,
           1,
           0
          ],
          [
           2,
           0,
           1,
           5,
           3,
           2,
           0,
           1
          ],
          [
           0,
           0,
           0,
           -1,
           0,
           0,
           0,
           0
          ],
          [
           0,
           0,
           0,
           -1,
           1,
           -2,
           0,
           0
          ],
          [
           0,
           -5,
           0,
           0,
           -1,
           0,
           0,
           0
          ],
          [
           -1,
           -1,
           0,
           -2,
           0,
           -1,
           -1,
           -1
          ],
          [
           -4,
           0,
           0,
           0,
           -6,
           -3,
           0,
           -4
          ]
         ]
        }
       ],
       "layout": {
        "autosize": false,
        "height": 600,
        "template": {
         "data": {
          "bar": [
           {
            "error_x": {
             "color": "#2a3f5f"
            },
            "error_y": {
             "color": "#2a3f5f"
            },
            "marker": {
             "line": {
              "color": "#E5ECF6",
              "width": 0.5
             },
             "pattern": {
              "fillmode": "overlay",
              "size": 10,
              "solidity": 0.2
             }
            },
            "type": "bar"
           }
          ],
          "barpolar": [
           {
            "marker": {
             "line": {
              "color": "#E5ECF6",
              "width": 0.5
             },
             "pattern": {
              "fillmode": "overlay",
              "size": 10,
              "solidity": 0.2
             }
            },
            "type": "barpolar"
           }
          ],
          "carpet": [
           {
            "aaxis": {
             "endlinecolor": "#2a3f5f",
             "gridcolor": "white",
             "linecolor": "white",
             "minorgridcolor": "white",
             "startlinecolor": "#2a3f5f"
            },
            "baxis": {
             "endlinecolor": "#2a3f5f",
             "gridcolor": "white",
             "linecolor": "white",
             "minorgridcolor": "white",
             "startlinecolor": "#2a3f5f"
            },
            "type": "carpet"
           }
          ],
          "choropleth": [
           {
            "colorbar": {
             "outlinewidth": 0,
             "ticks": ""
            },
            "type": "choropleth"
           }
          ],
          "contour": [
           {
            "colorbar": {
             "outlinewidth": 0,
             "ticks": ""
            },
            "colorscale": [
             [
              0,
              "#0d0887"
             ],
             [
              0.1111111111111111,
              "#46039f"
             ],
             [
              0.2222222222222222,
              "#7201a8"
             ],
             [
              0.3333333333333333,
              "#9c179e"
             ],
             [
              0.4444444444444444,
              "#bd3786"
             ],
             [
              0.5555555555555556,
              "#d8576b"
             ],
             [
              0.6666666666666666,
              "#ed7953"
             ],
             [
              0.7777777777777778,
              "#fb9f3a"
             ],
             [
              0.8888888888888888,
              "#fdca26"
             ],
             [
              1,
              "#f0f921"
             ]
            ],
            "type": "contour"
           }
          ],
          "contourcarpet": [
           {
            "colorbar": {
             "outlinewidth": 0,
             "ticks": ""
            },
            "type": "contourcarpet"
           }
          ],
          "heatmap": [
           {
            "colorbar": {
             "outlinewidth": 0,
             "ticks": ""
            },
            "colorscale": [
             [
              0,
              "#0d0887"
             ],
             [
              0.1111111111111111,
              "#46039f"
             ],
             [
              0.2222222222222222,
              "#7201a8"
             ],
             [
              0.3333333333333333,
              "#9c179e"
             ],
             [
              0.4444444444444444,
              "#bd3786"
             ],
             [
              0.5555555555555556,
              "#d8576b"
             ],
             [
              0.6666666666666666,
              "#ed7953"
             ],
             [
              0.7777777777777778,
              "#fb9f3a"
             ],
             [
              0.8888888888888888,
              "#fdca26"
             ],
             [
              1,
              "#f0f921"
             ]
            ],
            "type": "heatmap"
           }
          ],
          "heatmapgl": [
           {
            "colorbar": {
             "outlinewidth": 0,
             "ticks": ""
            },
            "colorscale": [
             [
              0,
              "#0d0887"
             ],
             [
              0.1111111111111111,
              "#46039f"
             ],
             [
              0.2222222222222222,
              "#7201a8"
             ],
             [
              0.3333333333333333,
              "#9c179e"
             ],
             [
              0.4444444444444444,
              "#bd3786"
             ],
             [
              0.5555555555555556,
              "#d8576b"
             ],
             [
              0.6666666666666666,
              "#ed7953"
             ],
             [
              0.7777777777777778,
              "#fb9f3a"
             ],
             [
              0.8888888888888888,
              "#fdca26"
             ],
             [
              1,
              "#f0f921"
             ]
            ],
            "type": "heatmapgl"
           }
          ],
          "histogram": [
           {
            "marker": {
             "pattern": {
              "fillmode": "overlay",
              "size": 10,
              "solidity": 0.2
             }
            },
            "type": "histogram"
           }
          ],
          "histogram2d": [
           {
            "colorbar": {
             "outlinewidth": 0,
             "ticks": ""
            },
            "colorscale": [
             [
              0,
              "#0d0887"
             ],
             [
              0.1111111111111111,
              "#46039f"
             ],
             [
              0.2222222222222222,
              "#7201a8"
             ],
             [
              0.3333333333333333,
              "#9c179e"
             ],
             [
              0.4444444444444444,
              "#bd3786"
             ],
             [
              0.5555555555555556,
              "#d8576b"
             ],
             [
              0.6666666666666666,
              "#ed7953"
             ],
             [
              0.7777777777777778,
              "#fb9f3a"
             ],
             [
              0.8888888888888888,
              "#fdca26"
             ],
             [
              1,
              "#f0f921"
             ]
            ],
            "type": "histogram2d"
           }
          ],
          "histogram2dcontour": [
           {
            "colorbar": {
             "outlinewidth": 0,
             "ticks": ""
            },
            "colorscale": [
             [
              0,
              "#0d0887"
             ],
             [
              0.1111111111111111,
              "#46039f"
             ],
             [
              0.2222222222222222,
              "#7201a8"
             ],
             [
              0.3333333333333333,
              "#9c179e"
             ],
             [
              0.4444444444444444,
              "#bd3786"
             ],
             [
              0.5555555555555556,
              "#d8576b"
             ],
             [
              0.6666666666666666,
              "#ed7953"
             ],
             [
              0.7777777777777778,
              "#fb9f3a"
             ],
             [
              0.8888888888888888,
              "#fdca26"
             ],
             [
              1,
              "#f0f921"
             ]
            ],
            "type": "histogram2dcontour"
           }
          ],
          "mesh3d": [
           {
            "colorbar": {
             "outlinewidth": 0,
             "ticks": ""
            },
            "type": "mesh3d"
           }
          ],
          "parcoords": [
           {
            "line": {
             "colorbar": {
              "outlinewidth": 0,
              "ticks": ""
             }
            },
            "type": "parcoords"
           }
          ],
          "pie": [
           {
            "automargin": true,
            "type": "pie"
           }
          ],
          "scatter": [
           {
            "fillpattern": {
             "fillmode": "overlay",
             "size": 10,
             "solidity": 0.2
            },
            "type": "scatter"
           }
          ],
          "scatter3d": [
           {
            "line": {
             "colorbar": {
              "outlinewidth": 0,
              "ticks": ""
             }
            },
            "marker": {
             "colorbar": {
              "outlinewidth": 0,
              "ticks": ""
             }
            },
            "type": "scatter3d"
           }
          ],
          "scattercarpet": [
           {
            "marker": {
             "colorbar": {
              "outlinewidth": 0,
              "ticks": ""
             }
            },
            "type": "scattercarpet"
           }
          ],
          "scattergeo": [
           {
            "marker": {
             "colorbar": {
              "outlinewidth": 0,
              "ticks": ""
             }
            },
            "type": "scattergeo"
           }
          ],
          "scattergl": [
           {
            "marker": {
             "colorbar": {
              "outlinewidth": 0,
              "ticks": ""
             }
            },
            "type": "scattergl"
           }
          ],
          "scattermapbox": [
           {
            "marker": {
             "colorbar": {
              "outlinewidth": 0,
              "ticks": ""
             }
            },
            "type": "scattermapbox"
           }
          ],
          "scatterpolar": [
           {
            "marker": {
             "colorbar": {
              "outlinewidth": 0,
              "ticks": ""
             }
            },
            "type": "scatterpolar"
           }
          ],
          "scatterpolargl": [
           {
            "marker": {
             "colorbar": {
              "outlinewidth": 0,
              "ticks": ""
             }
            },
            "type": "scatterpolargl"
           }
          ],
          "scatterternary": [
           {
            "marker": {
             "colorbar": {
              "outlinewidth": 0,
              "ticks": ""
             }
            },
            "type": "scatterternary"
           }
          ],
          "surface": [
           {
            "colorbar": {
             "outlinewidth": 0,
             "ticks": ""
            },
            "colorscale": [
             [
              0,
              "#0d0887"
             ],
             [
              0.1111111111111111,
              "#46039f"
             ],
             [
              0.2222222222222222,
              "#7201a8"
             ],
             [
              0.3333333333333333,
              "#9c179e"
             ],
             [
              0.4444444444444444,
              "#bd3786"
             ],
             [
              0.5555555555555556,
              "#d8576b"
             ],
             [
              0.6666666666666666,
              "#ed7953"
             ],
             [
              0.7777777777777778,
              "#fb9f3a"
             ],
             [
              0.8888888888888888,
              "#fdca26"
             ],
             [
              1,
              "#f0f921"
             ]
            ],
            "type": "surface"
           }
          ],
          "table": [
           {
            "cells": {
             "fill": {
              "color": "#EBF0F8"
             },
             "line": {
              "color": "white"
             }
            },
            "header": {
             "fill": {
              "color": "#C8D4E3"
             },
             "line": {
              "color": "white"
             }
            },
            "type": "table"
           }
          ]
         },
         "layout": {
          "annotationdefaults": {
           "arrowcolor": "#2a3f5f",
           "arrowhead": 0,
           "arrowwidth": 1
          },
          "autotypenumbers": "strict",
          "coloraxis": {
           "colorbar": {
            "outlinewidth": 0,
            "ticks": ""
           }
          },
          "colorscale": {
           "diverging": [
            [
             0,
             "#8e0152"
            ],
            [
             0.1,
             "#c51b7d"
            ],
            [
             0.2,
             "#de77ae"
            ],
            [
             0.3,
             "#f1b6da"
            ],
            [
             0.4,
             "#fde0ef"
            ],
            [
             0.5,
             "#f7f7f7"
            ],
            [
             0.6,
             "#e6f5d0"
            ],
            [
             0.7,
             "#b8e186"
            ],
            [
             0.8,
             "#7fbc41"
            ],
            [
             0.9,
             "#4d9221"
            ],
            [
             1,
             "#276419"
            ]
           ],
           "sequential": [
            [
             0,
             "#0d0887"
            ],
            [
             0.1111111111111111,
             "#46039f"
            ],
            [
             0.2222222222222222,
             "#7201a8"
            ],
            [
             0.3333333333333333,
             "#9c179e"
            ],
            [
             0.4444444444444444,
             "#bd3786"
            ],
            [
             0.5555555555555556,
             "#d8576b"
            ],
            [
             0.6666666666666666,
             "#ed7953"
            ],
            [
             0.7777777777777778,
             "#fb9f3a"
            ],
            [
             0.8888888888888888,
             "#fdca26"
            ],
            [
             1,
             "#f0f921"
            ]
           ],
           "sequentialminus": [
            [
             0,
             "#0d0887"
            ],
            [
             0.1111111111111111,
             "#46039f"
            ],
            [
             0.2222222222222222,
             "#7201a8"
            ],
            [
             0.3333333333333333,
             "#9c179e"
            ],
            [
             0.4444444444444444,
             "#bd3786"
            ],
            [
             0.5555555555555556,
             "#d8576b"
            ],
            [
             0.6666666666666666,
             "#ed7953"
            ],
            [
             0.7777777777777778,
             "#fb9f3a"
            ],
            [
             0.8888888888888888,
             "#fdca26"
            ],
            [
             1,
             "#f0f921"
            ]
           ]
          },
          "colorway": [
           "#636efa",
           "#EF553B",
           "#00cc96",
           "#ab63fa",
           "#FFA15A",
           "#19d3f3",
           "#FF6692",
           "#B6E880",
           "#FF97FF",
           "#FECB52"
          ],
          "font": {
           "color": "#2a3f5f"
          },
          "geo": {
           "bgcolor": "white",
           "lakecolor": "white",
           "landcolor": "#E5ECF6",
           "showlakes": true,
           "showland": true,
           "subunitcolor": "white"
          },
          "hoverlabel": {
           "align": "left"
          },
          "hovermode": "closest",
          "mapbox": {
           "style": "light"
          },
          "paper_bgcolor": "white",
          "plot_bgcolor": "#E5ECF6",
          "polar": {
           "angularaxis": {
            "gridcolor": "white",
            "linecolor": "white",
            "ticks": ""
           },
           "bgcolor": "#E5ECF6",
           "radialaxis": {
            "gridcolor": "white",
            "linecolor": "white",
            "ticks": ""
           }
          },
          "scene": {
           "xaxis": {
            "backgroundcolor": "#E5ECF6",
            "gridcolor": "white",
            "gridwidth": 2,
            "linecolor": "white",
            "showbackground": true,
            "ticks": "",
            "zerolinecolor": "white"
           },
           "yaxis": {
            "backgroundcolor": "#E5ECF6",
            "gridcolor": "white",
            "gridwidth": 2,
            "linecolor": "white",
            "showbackground": true,
            "ticks": "",
            "zerolinecolor": "white"
           },
           "zaxis": {
            "backgroundcolor": "#E5ECF6",
            "gridcolor": "white",
            "gridwidth": 2,
            "linecolor": "white",
            "showbackground": true,
            "ticks": "",
            "zerolinecolor": "white"
           }
          },
          "shapedefaults": {
           "line": {
            "color": "#2a3f5f"
           }
          },
          "ternary": {
           "aaxis": {
            "gridcolor": "white",
            "linecolor": "white",
            "ticks": ""
           },
           "baxis": {
            "gridcolor": "white",
            "linecolor": "white",
            "ticks": ""
           },
           "bgcolor": "#E5ECF6",
           "caxis": {
            "gridcolor": "white",
            "linecolor": "white",
            "ticks": ""
           }
          },
          "title": {
           "x": 0.05
          },
          "xaxis": {
           "automargin": true,
           "gridcolor": "white",
           "linecolor": "white",
           "ticks": "",
           "title": {
            "standoff": 15
           },
           "zerolinecolor": "white",
           "zerolinewidth": 2
          },
          "yaxis": {
           "automargin": true,
           "gridcolor": "white",
           "linecolor": "white",
           "ticks": "",
           "title": {
            "standoff": 15
           },
           "zerolinecolor": "white",
           "zerolinewidth": 2
          }
         }
        },
        "title": {
         "text": "Chess board state with text"
        },
        "width": 600,
        "xaxis": {
         "nticks": 8,
         "ticks": ""
        },
        "yaxis": {
         "nticks": 8,
         "ticks": ""
        }
       }
      }
     },
     "metadata": {},
     "output_type": "display_data"
    }
   ],
   "source": [
    "def tensor_to_text(board_state: torch.Tensor) -> np.ndarray:\n",
    "    # Create a mapping from numbers to characters\n",
    "    # Update this mapping according to your requirements\n",
    "\n",
    "    # Convert the tensor to numpy array for easier processing\n",
    "    board_array = board_state.numpy()\n",
    "\n",
    "    # Create an empty array with the same shape for text\n",
    "    text_array = np.empty(board_array.shape, dtype=str)\n",
    "\n",
    "    # Fill the text array with corresponding characters\n",
    "    for i in range(board_array.shape[0]):\n",
    "        for j in range(board_array.shape[1]):\n",
    "            text_array[i, j] = INT_TO_CHAR.get(board_array[i, j], str(board_array[i, j]))\n",
    "\n",
    "    return text_array\n",
    "\n",
    "def plot_board_state_with_text(board_state: torch.Tensor):\n",
    "    # Convert the tensor to a text matrix\n",
    "    text_matrix = tensor_to_text(board_state)\n",
    "\n",
    "    # Define the custom colorscale\n",
    "    colorscale = [\n",
    "        [0, 'white'],   # Negative values\n",
    "        [0.49, 'white'],\n",
    "        [0.5, 'grey'],  # Zero\n",
    "        [0.51, 'white'],\n",
    "        [1, 'white']    # Positive values\n",
    "    ]\n",
    "\n",
    "\n",
    "    # Create heatmap with text and custom colorscale\n",
    "    heatmap = go.Heatmap(\n",
    "        z=board_state.numpy(), \n",
    "        text=text_matrix, \n",
    "        showscale=False, \n",
    "        colorscale=colorscale,\n",
    "        texttemplate=\"%{text}\",\n",
    "        textfont=dict(size=48) \n",
    "    )\n",
    "\n",
    "    return heatmap\n",
    "heatmap = plot_board_state_with_text(move_of_interest_state_RR)\n",
    "\n",
    "# Define the layout\n",
    "layout = go.Layout(\n",
    "    title=\"Chess board state with text\",\n",
    "    xaxis=dict(ticks='', nticks=8),\n",
    "    yaxis=dict(ticks='', nticks=8),\n",
    "    autosize=False,\n",
    "    width=600,\n",
    "    height=600\n",
    ")\n",
    "\n",
    "# Create figure and plot\n",
    "fig = go.Figure(data=[heatmap], layout=layout)\n",
    "fig.show()"
   ]
  },
  {
   "cell_type": "markdown",
   "metadata": {},
   "source": []
  },
  {
   "cell_type": "code",
   "execution_count": 13,
   "metadata": {},
   "outputs": [
    {
     "name": "stdout",
     "output_type": "stream",
     "text": [
      "torch.Size([8, 8, 13])\n"
     ]
    },
    {
     "data": {
      "application/vnd.plotly.v1+json": {
       "config": {
        "plotlyServerURL": "https://plot.ly"
       },
       "data": [
        {
         "colorscale": [
          [
           0,
           "rgb(0, 0, 0)"
          ],
          [
           0.09090909090909091,
           "rgb(16, 16, 16)"
          ],
          [
           0.18181818181818182,
           "rgb(38, 38, 38)"
          ],
          [
           0.2727272727272727,
           "rgb(59, 59, 59)"
          ],
          [
           0.36363636363636365,
           "rgb(81, 80, 80)"
          ],
          [
           0.45454545454545453,
           "rgb(102, 101, 101)"
          ],
          [
           0.5454545454545454,
           "rgb(124, 123, 122)"
          ],
          [
           0.6363636363636364,
           "rgb(146, 146, 145)"
          ],
          [
           0.7272727272727273,
           "rgb(171, 171, 170)"
          ],
          [
           0.8181818181818182,
           "rgb(197, 197, 195)"
          ],
          [
           0.9090909090909091,
           "rgb(224, 224, 223)"
          ],
          [
           1,
           "rgb(254, 254, 253)"
          ]
         ],
         "showscale": false,
         "type": "heatmap",
         "xaxis": "x",
         "yaxis": "y",
         "z": [
          [
           1,
           0,
           1,
           1,
           0,
           1,
           1,
           0
          ],
          [
           0,
           0,
           1,
           1,
           1,
           0,
           0,
           1
          ],
          [
           0,
           1,
           0,
           0,
           0,
           0,
           1,
           0
          ],
          [
           1,
           1,
           1,
           0,
           1,
           1,
           1,
           1
          ],
          [
           1,
           1,
           1,
           0,
           0,
           0,
           1,
           1
          ],
          [
           1,
           0,
           1,
           1,
           0,
           1,
           1,
           1
          ],
          [
           0,
           0,
           1,
           0,
           1,
           0,
           0,
           0
          ],
          [
           0,
           1,
           1,
           1,
           0,
           0,
           1,
           0
          ]
         ]
        },
        {
         "colorscale": [
          [
           0,
           "rgb(0, 0, 0)"
          ],
          [
           0.09090909090909091,
           "rgb(16, 16, 16)"
          ],
          [
           0.18181818181818182,
           "rgb(38, 38, 38)"
          ],
          [
           0.2727272727272727,
           "rgb(59, 59, 59)"
          ],
          [
           0.36363636363636365,
           "rgb(81, 80, 80)"
          ],
          [
           0.45454545454545453,
           "rgb(102, 101, 101)"
          ],
          [
           0.5454545454545454,
           "rgb(124, 123, 122)"
          ],
          [
           0.6363636363636364,
           "rgb(146, 146, 145)"
          ],
          [
           0.7272727272727273,
           "rgb(171, 171, 170)"
          ],
          [
           0.8181818181818182,
           "rgb(197, 197, 195)"
          ],
          [
           0.9090909090909091,
           "rgb(224, 224, 223)"
          ],
          [
           1,
           "rgb(254, 254, 253)"
          ]
         ],
         "showscale": false,
         "type": "heatmap",
         "xaxis": "x2",
         "yaxis": "y2",
         "z": [
          [
           -0.12236931920051575,
           -0.3490271270275116,
           -0.018840055912733078,
           -0.00021050144277978688,
           -2,
           -0.00008737658936297521,
           -0.0003997480380348861,
           -2
          ],
          [
           -2,
           -2,
           -0.00008618460560683161,
           -0.000009059865078597795,
           -0.000012159273865108844,
           -2,
           -2,
           -0.024917375296354294
          ],
          [
           -2,
           -0.0000648477507638745,
           -2,
           -2,
           -2,
           -2,
           -0.0000019073468138230965,
           -2
          ],
          [
           -0.0019507441902533174,
           -0.00015853578224778175,
           0,
           -2,
           -0.000010490362910786644,
           -0.00005817244164063595,
           -3.576278118089249e-7,
           -0.0020582936704158783
          ],
          [
           -0.014531846158206463,
           -0.000028490614567999728,
           -0.0000016689286894688848,
           -2,
           -2,
           -2,
           -0.00014578233822248876,
           -0.04501337185502052
          ],
          [
           -0.0746135488152504,
           -2,
           -0.000013589766240329482,
           -0.00004935142715112306,
           -2,
           -0.00005447716102935374,
           -0.0037222879473119974,
           -0.05669855698943138
          ],
          [
           -2,
           -2,
           -0.00005435795901576057,
           -2,
           -0.00029059001826681197,
           -2,
           -2,
           -0.8404961824417114
          ],
          [
           -2,
           -0.01504749245941639,
           -0.00011967896716669202,
           -0.000030874729418428615,
           -2,
           -2,
           -0.019539261236786842,
           -2
          ]
         ]
        },
        {
         "colorscale": [
          [
           0,
           "rgb(0, 0, 0)"
          ],
          [
           0.09090909090909091,
           "rgb(16, 16, 16)"
          ],
          [
           0.18181818181818182,
           "rgb(38, 38, 38)"
          ],
          [
           0.2727272727272727,
           "rgb(59, 59, 59)"
          ],
          [
           0.36363636363636365,
           "rgb(81, 80, 80)"
          ],
          [
           0.45454545454545453,
           "rgb(102, 101, 101)"
          ],
          [
           0.5454545454545454,
           "rgb(124, 123, 122)"
          ],
          [
           0.6363636363636364,
           "rgb(146, 146, 145)"
          ],
          [
           0.7272727272727273,
           "rgb(171, 171, 170)"
          ],
          [
           0.8181818181818182,
           "rgb(197, 197, 195)"
          ],
          [
           0.9090909090909091,
           "rgb(224, 224, 223)"
          ],
          [
           1,
           "rgb(254, 254, 253)"
          ]
         ],
         "showscale": false,
         "type": "heatmap",
         "xaxis": "x3",
         "yaxis": "y3",
         "z": [
          [
           -0.12236931920051575,
           -0.3490271270275116,
           -0.018840055912733078,
           -0.00021050144277978688,
           -13.010516166687012,
           -0.00008737658936297521,
           -0.0003997480380348861,
           -9.529376983642578
          ],
          [
           -6.366580009460449,
           -19.52068519592285,
           -0.00008618460560683161,
           -0.000009059865078597795,
           -0.000012159273865108844,
           -13.92057991027832,
           -11.711395263671875,
           -0.024917375296354294
          ],
          [
           -9.7459135055542,
           -0.0000648477507638745,
           -15.703500747680664,
           -11.471753120422363,
           -9.621284484863281,
           -22.772306442260742,
           -0.0000019073468138230965,
           -3.684890031814575
          ],
          [
           -0.0019507441902533174,
           -0.00015853578224778175,
           0,
           -17.415964126586914,
           -0.000010490362910786644,
           -0.00005817244164063595,
           -3.576278118089249e-7,
           -0.0020582936704158783
          ],
          [
           -0.014531846158206463,
           -0.000028490614567999728,
           -0.0000016689286894688848,
           -13.515098571777344,
           -17.095136642456055,
           -14.932380676269531,
           -0.00014578233822248876,
           -0.04501337185502052
          ],
          [
           -0.0746135488152504,
           -9.421164512634277,
           -0.000013589766240329482,
           -0.00004935142715112306,
           -15.897527694702148,
           -0.00005447716102935374,
           -0.0037222879473119974,
           -0.05669855698943138
          ],
          [
           -2.240196466445923,
           -8.08388614654541,
           -0.00005435795901576057,
           -11.088942527770996,
           -0.00029059001826681197,
           -12.040251731872559,
           -6.715142250061035,
           -0.8404961824417114
          ],
          [
           -6.356353759765625,
           -0.01504749245941639,
           -0.00011967896716669202,
           -0.000030874729418428615,
           -7.029529094696045,
           -10.998210906982422,
           -0.019539261236786842,
           -5.712301731109619
          ]
         ]
        },
        {
         "colorscale": [
          [
           0,
           "rgb(0, 0, 0)"
          ],
          [
           0.09090909090909091,
           "rgb(16, 16, 16)"
          ],
          [
           0.18181818181818182,
           "rgb(38, 38, 38)"
          ],
          [
           0.2727272727272727,
           "rgb(59, 59, 59)"
          ],
          [
           0.36363636363636365,
           "rgb(81, 80, 80)"
          ],
          [
           0.45454545454545453,
           "rgb(102, 101, 101)"
          ],
          [
           0.5454545454545454,
           "rgb(124, 123, 122)"
          ],
          [
           0.6363636363636364,
           "rgb(146, 146, 145)"
          ],
          [
           0.7272727272727273,
           "rgb(171, 171, 170)"
          ],
          [
           0.8181818181818182,
           "rgb(197, 197, 195)"
          ],
          [
           0.9090909090909091,
           "rgb(224, 224, 223)"
          ],
          [
           1,
           "rgb(254, 254, 253)"
          ]
         ],
         "showscale": false,
         "type": "heatmap",
         "xaxis": "x4",
         "yaxis": "y4",
         "z": [
          [
           0,
           0,
           0,
           0,
           0,
           0,
           0,
           0
          ],
          [
           1,
           1,
           0,
           0,
           0,
           1,
           1,
           0
          ],
          [
           0,
           0,
           1,
           0,
           0,
           0,
           0,
           1
          ],
          [
           0,
           0,
           0,
           0,
           0,
           0,
           0,
           0
          ],
          [
           0,
           0,
           0,
           0,
           1,
           0,
           0,
           0
          ],
          [
           0,
           0,
           0,
           0,
           0,
           0,
           0,
           0
          ],
          [
           0,
           0,
           0,
           0,
           0,
           0,
           0,
           0
          ],
          [
           0,
           0,
           0,
           0,
           0,
           0,
           0,
           0
          ]
         ]
        },
        {
         "colorscale": [
          [
           0,
           "rgb(0, 0, 0)"
          ],
          [
           0.09090909090909091,
           "rgb(16, 16, 16)"
          ],
          [
           0.18181818181818182,
           "rgb(38, 38, 38)"
          ],
          [
           0.2727272727272727,
           "rgb(59, 59, 59)"
          ],
          [
           0.36363636363636365,
           "rgb(81, 80, 80)"
          ],
          [
           0.45454545454545453,
           "rgb(102, 101, 101)"
          ],
          [
           0.5454545454545454,
           "rgb(124, 123, 122)"
          ],
          [
           0.6363636363636364,
           "rgb(146, 146, 145)"
          ],
          [
           0.7272727272727273,
           "rgb(171, 171, 170)"
          ],
          [
           0.8181818181818182,
           "rgb(197, 197, 195)"
          ],
          [
           0.9090909090909091,
           "rgb(224, 224, 223)"
          ],
          [
           1,
           "rgb(254, 254, 253)"
          ]
         ],
         "showscale": false,
         "type": "heatmap",
         "xaxis": "x5",
         "yaxis": "y5",
         "z": [
          [
           -2,
           -2,
           -2,
           -2,
           -2,
           -2,
           -2,
           -2
          ],
          [
           -0.002508233767002821,
           -5.960462772236497e-7,
           -2,
           -2,
           -2,
           -0.00006353653589030728,
           -0.00001549708758830093,
           -2
          ],
          [
           -2,
           -2,
           -0.000031470757676288486,
           -2,
           -2,
           -2,
           -2,
           -0.027124058455228806
          ],
          [
           -2,
           -2,
           -2,
           -2,
           -2,
           -2,
           -2,
           -2
          ],
          [
           -2,
           -2,
           -2,
           -2,
           -0.0000011920922133867862,
           -2,
           -2,
           -2
          ],
          [
           -2,
           -2,
           -2,
           -2,
           -2,
           -2,
           -2,
           -2
          ],
          [
           -2,
           -2,
           -2,
           -2,
           -2,
           -2,
           -2,
           -2
          ],
          [
           -2,
           -2,
           -2,
           -2,
           -2,
           -2,
           -2,
           -2
          ]
         ]
        },
        {
         "colorscale": [
          [
           0,
           "rgb(0, 0, 0)"
          ],
          [
           0.09090909090909091,
           "rgb(16, 16, 16)"
          ],
          [
           0.18181818181818182,
           "rgb(38, 38, 38)"
          ],
          [
           0.2727272727272727,
           "rgb(59, 59, 59)"
          ],
          [
           0.36363636363636365,
           "rgb(81, 80, 80)"
          ],
          [
           0.45454545454545453,
           "rgb(102, 101, 101)"
          ],
          [
           0.5454545454545454,
           "rgb(124, 123, 122)"
          ],
          [
           0.6363636363636364,
           "rgb(146, 146, 145)"
          ],
          [
           0.7272727272727273,
           "rgb(171, 171, 170)"
          ],
          [
           0.8181818181818182,
           "rgb(197, 197, 195)"
          ],
          [
           0.9090909090909091,
           "rgb(224, 224, 223)"
          ],
          [
           1,
           "rgb(254, 254, 253)"
          ]
         ],
         "showscale": true,
         "type": "heatmap",
         "xaxis": "x6",
         "yaxis": "y6",
         "z": [
          [
           -19.26125144958496,
           -19.38117218017578,
           -20.151668548583984,
           -22.923480987548828,
           -29.243804931640625,
           -22.741575241088867,
           -24.562652587890625,
           -25.952484130859375
          ],
          [
           -0.002508233767002821,
           -5.960462772236497e-7,
           -16.938058853149414,
           -21.703411102294922,
           -17.121322631835938,
           -0.00006353653589030728,
           -0.00001549708758830093,
           -4.981609344482422
          ],
          [
           -6.924721717834473,
           -16.73996353149414,
           -0.000031470757676288486,
           -20.62518310546875,
           -9.283698081970215,
           -24.484928131103516,
           -15.333521842956543,
           -0.027124058455228806
          ],
          [
           -9.46078109741211,
           -15.771828651428223,
           -21.967912673950195,
           -20.41132354736328,
           -15.577985763549805,
           -15.32177734375,
           -15.735530853271484,
           -6.281662464141846
          ],
          [
           -12.352341651916504,
           -16.449914932250977,
           -21.150440216064453,
           -19.383434295654297,
           -0.0000011920922133867862,
           -16.886150360107422,
           -10.39670181274414,
           -9.401823043823242
          ],
          [
           -11.788759231567383,
           -16.07928466796875,
           -17.248945236206055,
           -17.692567825317383,
           -19.280895233154297,
           -14.912649154663086,
           -10.951659202575684,
           -10.760985374450684
          ],
          [
           -14.917123794555664,
           -12.12962818145752,
           -16.256967544555664,
           -17.8416805267334,
           -16.381738662719727,
           -18.55277442932129,
           -14.923151969909668,
           -10.791557312011719
          ],
          [
           -22.856889724731445,
           -19.891908645629883,
           -23.865726470947266,
           -25.213722229003906,
           -26.178342819213867,
           -25.501617431640625,
           -20.67241668701172,
           -22.93648338317871
          ]
         ]
        },
        {
         "colorscale": [
          [
           0,
           "rgb(0, 0, 0)"
          ],
          [
           0.09090909090909091,
           "rgb(16, 16, 16)"
          ],
          [
           0.18181818181818182,
           "rgb(38, 38, 38)"
          ],
          [
           0.2727272727272727,
           "rgb(59, 59, 59)"
          ],
          [
           0.36363636363636365,
           "rgb(81, 80, 80)"
          ],
          [
           0.45454545454545453,
           "rgb(102, 101, 101)"
          ],
          [
           0.5454545454545454,
           "rgb(124, 123, 122)"
          ],
          [
           0.6363636363636364,
           "rgb(146, 146, 145)"
          ],
          [
           0.7272727272727273,
           "rgb(171, 171, 170)"
          ],
          [
           0.8181818181818182,
           "rgb(197, 197, 195)"
          ],
          [
           0.9090909090909091,
           "rgb(224, 224, 223)"
          ],
          [
           1,
           "rgb(254, 254, 253)"
          ]
         ],
         "showscale": false,
         "type": "heatmap",
         "xaxis": "x7",
         "yaxis": "y7",
         "z": [
          [
           0,
           0,
           0,
           0,
           0,
           0,
           0,
           0
          ],
          [
           0,
           0,
           0,
           0,
           0,
           0,
           0,
           0
          ],
          [
           0,
           0,
           0,
           0,
           0,
           0,
           0,
           0
          ],
          [
           0,
           0,
           0,
           0,
           0,
           0,
           0,
           0
          ],
          [
           0,
           0,
           0,
           0,
           0,
           0,
           0,
           0
          ],
          [
           0,
           0,
           0,
           0,
           0,
           0,
           0,
           0
          ],
          [
           0,
           0,
           0,
           0,
           0,
           0,
           0,
           0
          ],
          [
           0,
           0,
           0,
           0,
           1,
           0,
           0,
           0
          ]
         ]
        },
        {
         "colorscale": [
          [
           0,
           "rgb(0, 0, 0)"
          ],
          [
           0.09090909090909091,
           "rgb(16, 16, 16)"
          ],
          [
           0.18181818181818182,
           "rgb(38, 38, 38)"
          ],
          [
           0.2727272727272727,
           "rgb(59, 59, 59)"
          ],
          [
           0.36363636363636365,
           "rgb(81, 80, 80)"
          ],
          [
           0.45454545454545453,
           "rgb(102, 101, 101)"
          ],
          [
           0.5454545454545454,
           "rgb(124, 123, 122)"
          ],
          [
           0.6363636363636364,
           "rgb(146, 146, 145)"
          ],
          [
           0.7272727272727273,
           "rgb(171, 171, 170)"
          ],
          [
           0.8181818181818182,
           "rgb(197, 197, 195)"
          ],
          [
           0.9090909090909091,
           "rgb(224, 224, 223)"
          ],
          [
           1,
           "rgb(254, 254, 253)"
          ]
         ],
         "showscale": false,
         "type": "heatmap",
         "xaxis": "x8",
         "yaxis": "y8",
         "z": [
          [
           -2,
           -2,
           -2,
           -2,
           -2,
           -2,
           -2,
           -2
          ],
          [
           -2,
           -2,
           -2,
           -2,
           -2,
           -2,
           -2,
           -2
          ],
          [
           -2,
           -2,
           -2,
           -2,
           -2,
           -2,
           -2,
           -2
          ],
          [
           -2,
           -2,
           -2,
           -2,
           -2,
           -2,
           -2,
           -2
          ],
          [
           -2,
           -2,
           -2,
           -2,
           -2,
           -2,
           -2,
           -2
          ],
          [
           -2,
           -2,
           -2,
           -2,
           -2,
           -2,
           -2,
           -2
          ],
          [
           -2,
           -2,
           -2,
           -2,
           -2,
           -2,
           -2,
           -2
          ],
          [
           -2,
           -2,
           -2,
           -2,
           -0.0008906926377676427,
           -2,
           -2,
           -2
          ]
         ]
        },
        {
         "colorscale": [
          [
           0,
           "rgb(0, 0, 0)"
          ],
          [
           0.09090909090909091,
           "rgb(16, 16, 16)"
          ],
          [
           0.18181818181818182,
           "rgb(38, 38, 38)"
          ],
          [
           0.2727272727272727,
           "rgb(59, 59, 59)"
          ],
          [
           0.36363636363636365,
           "rgb(81, 80, 80)"
          ],
          [
           0.45454545454545453,
           "rgb(102, 101, 101)"
          ],
          [
           0.5454545454545454,
           "rgb(124, 123, 122)"
          ],
          [
           0.6363636363636364,
           "rgb(146, 146, 145)"
          ],
          [
           0.7272727272727273,
           "rgb(171, 171, 170)"
          ],
          [
           0.8181818181818182,
           "rgb(197, 197, 195)"
          ],
          [
           0.9090909090909091,
           "rgb(224, 224, 223)"
          ],
          [
           1,
           "rgb(254, 254, 253)"
          ]
         ],
         "showscale": false,
         "type": "heatmap",
         "xaxis": "x9",
         "yaxis": "y9",
         "z": [
          [
           -19.344858169555664,
           -19.297834396362305,
           -20.30699920654297,
           -22.709991455078125,
           -29.338836669921875,
           -22.90601921081543,
           -25.005126953125,
           -25.928016662597656
          ],
          [
           -21.979631423950195,
           -29.207618713378906,
           -20.22715950012207,
           -25.705276489257812,
           -24.769187927246094,
           -27.171167373657227,
           -28.850019454956055,
           -19.11711883544922
          ],
          [
           -22.883991241455078,
           -20.21649932861328,
           -26.089092254638672,
           -24.639522552490234,
           -21.438880920410156,
           -31.68842315673828,
           -25.718379974365234,
           -22.757862091064453
          ],
          [
           -14.472792625427246,
           -16.710981369018555,
           -25.474998474121094,
           -19.658750534057617,
           -20.637290954589844,
           -20.38763999938965,
           -20.508256912231445,
           -18.319921493530273
          ],
          [
           -20.77606773376465,
           -16.382482528686523,
           -22.147966384887695,
           -21.5109920501709,
           -23.800596237182617,
           -20.769317626953125,
           -19.100372314453125,
           -16.273645401000977
          ],
          [
           -11.582453727722168,
           -11.924793243408203,
           -12.783219337463379,
           -17.31475067138672,
           -18.501741409301758,
           -17.763423919677734,
           -8.247761726379395,
           -13.496472358703613
          ],
          [
           -13.180830001831055,
           -10.302130699157715,
           -14.070109367370605,
           -10.830500602722168,
           -15.900653839111328,
           -16.03084945678711,
           -14.7579927444458,
           -11.342720031738281
          ],
          [
           -10.887910842895508,
           -5.417709827423096,
           -13.603607177734375,
           -16.743741989135742,
           -0.0008906926377676427,
           -15.277734756469727,
           -5.2852864265441895,
           -15.963144302368164
          ]
         ]
        },
        {
         "colorscale": [
          [
           0,
           "white"
          ],
          [
           0.49,
           "white"
          ],
          [
           0.5,
           "grey"
          ],
          [
           0.51,
           "white"
          ],
          [
           1,
           "white"
          ]
         ],
         "showscale": false,
         "text": [
          [
           ".",
           "♖",
           ".",
           ".",
           "♔",
           ".",
           ".",
           "♖"
          ],
          [
           "♙",
           "♙",
           ".",
           ".",
           ".",
           "♙",
           "♙",
           "."
          ],
          [
           "♘",
           ".",
           "♙",
           "♕",
           "♗",
           "♘",
           ".",
           "♙"
          ],
          [
           ".",
           ".",
           ".",
           "♟",
           ".",
           ".",
           ".",
           "."
          ],
          [
           ".",
           ".",
           ".",
           "♟",
           "♙",
           "♞",
           ".",
           "."
          ],
          [
           ".",
           "♛",
           ".",
           ".",
           "♟",
           ".",
           ".",
           "."
          ],
          [
           "♟",
           "♟",
           ".",
           "♞",
           ".",
           "♟",
           "♟",
           "♟"
          ],
          [
           "♜",
           ".",
           ".",
           ".",
           "♚",
           "♝",
           ".",
           "♜"
          ]
         ],
         "textfont": {
          "size": 48
         },
         "texttemplate": "%{text}",
         "type": "heatmap",
         "xaxis": "x10",
         "yaxis": "y10",
         "z": [
          [
           0,
           4,
           0,
           0,
           6,
           0,
           0,
           4
          ],
          [
           1,
           1,
           0,
           0,
           0,
           1,
           1,
           0
          ],
          [
           2,
           0,
           1,
           5,
           3,
           2,
           0,
           1
          ],
          [
           0,
           0,
           0,
           -1,
           0,
           0,
           0,
           0
          ],
          [
           0,
           0,
           0,
           -1,
           1,
           -2,
           0,
           0
          ],
          [
           0,
           -5,
           0,
           0,
           -1,
           0,
           0,
           0
          ],
          [
           -1,
           -1,
           0,
           -2,
           0,
           -1,
           -1,
           -1
          ],
          [
           -4,
           0,
           0,
           0,
           -6,
           -3,
           0,
           -4
          ]
         ]
        },
        {
         "colorscale": [
          [
           0,
           "white"
          ],
          [
           0.49,
           "white"
          ],
          [
           0.5,
           "grey"
          ],
          [
           0.51,
           "white"
          ],
          [
           1,
           "white"
          ]
         ],
         "showscale": false,
         "text": [
          [
           ".",
           ".",
           ".",
           ".",
           "♔",
           ".",
           ".",
           "♖"
          ],
          [
           "♙",
           "♙",
           ".",
           ".",
           ".",
           "♙",
           "♙",
           "."
          ],
          [
           "♘",
           ".",
           "♙",
           "♕",
           "♗",
           "♘",
           ".",
           "♙"
          ],
          [
           ".",
           ".",
           ".",
           "♟",
           ".",
           ".",
           ".",
           "."
          ],
          [
           ".",
           ".",
           ".",
           "♟",
           "♙",
           "♞",
           ".",
           "."
          ],
          [
           ".",
           "♛",
           ".",
           ".",
           "♟",
           ".",
           ".",
           "."
          ],
          [
           "♟",
           "♟",
           ".",
           "♞",
           ".",
           "♟",
           "♟",
           "♟"
          ],
          [
           "♜",
           ".",
           ".",
           ".",
           "♚",
           "♝",
           ".",
           "♜"
          ]
         ],
         "textfont": {
          "size": 48
         },
         "texttemplate": "%{text}",
         "type": "heatmap",
         "xaxis": "x11",
         "yaxis": "y11",
         "z": [
          [
           0,
           0,
           0,
           0,
           6,
           0,
           0,
           4
          ],
          [
           1,
           1,
           0,
           0,
           0,
           1,
           1,
           0
          ],
          [
           2,
           0,
           1,
           5,
           3,
           2,
           0,
           1
          ],
          [
           0,
           0,
           0,
           -1,
           0,
           0,
           0,
           0
          ],
          [
           0,
           0,
           0,
           -1,
           1,
           -2,
           0,
           0
          ],
          [
           0,
           -5,
           0,
           0,
           -1,
           0,
           0,
           0
          ],
          [
           -1,
           -1,
           0,
           -2,
           0,
           -1,
           -1,
           -1
          ],
          [
           -4,
           0,
           0,
           0,
           -6,
           -3,
           0,
           -4
          ]
         ]
        },
        {
         "colorscale": [
          [
           0,
           "white"
          ],
          [
           0.49,
           "white"
          ],
          [
           0.5,
           "grey"
          ],
          [
           0.51,
           "white"
          ],
          [
           1,
           "white"
          ]
         ],
         "showscale": false,
         "text": [
          [
           ".",
           ".",
           ".",
           ".",
           "♔",
           ".",
           ".",
           "♖"
          ],
          [
           "♙",
           "♙",
           ".",
           ".",
           ".",
           "♙",
           "♙",
           "."
          ],
          [
           "♘",
           ".",
           "♙",
           "♕",
           "♗",
           "♘",
           ".",
           "♙"
          ],
          [
           ".",
           ".",
           ".",
           "♟",
           ".",
           ".",
           ".",
           "."
          ],
          [
           ".",
           ".",
           ".",
           "♟",
           "♙",
           "♞",
           ".",
           "."
          ],
          [
           ".",
           "♛",
           ".",
           ".",
           "♟",
           ".",
           ".",
           "."
          ],
          [
           "♟",
           "♟",
           ".",
           "♞",
           ".",
           "♟",
           "♟",
           "♟"
          ],
          [
           "♜",
           ".",
           ".",
           ".",
           "♚",
           "♝",
           ".",
           "♜"
          ]
         ],
         "textfont": {
          "size": 48
         },
         "texttemplate": "%{text}",
         "type": "heatmap",
         "xaxis": "x11",
         "yaxis": "y11",
         "z": [
          [
           0,
           0,
           0,
           0,
           6,
           0,
           0,
           4
          ],
          [
           1,
           1,
           0,
           0,
           0,
           1,
           1,
           0
          ],
          [
           2,
           0,
           1,
           5,
           3,
           2,
           0,
           1
          ],
          [
           0,
           0,
           0,
           -1,
           0,
           0,
           0,
           0
          ],
          [
           0,
           0,
           0,
           -1,
           1,
           -2,
           0,
           0
          ],
          [
           0,
           -5,
           0,
           0,
           -1,
           0,
           0,
           0
          ],
          [
           -1,
           -1,
           0,
           -2,
           0,
           -1,
           -1,
           -1
          ],
          [
           -4,
           0,
           0,
           0,
           -6,
           -3,
           0,
           -4
          ]
         ]
        }
       ],
       "layout": {
        "annotations": [
         {
          "font": {
           "size": 18
          },
          "showarrow": false,
          "text": "Ground truth blank squares",
          "x": 0.14444444444444446,
          "xanchor": "center",
          "xref": "paper",
          "y": 1,
          "yanchor": "bottom",
          "yref": "paper"
         },
         {
          "font": {
           "size": 18
          },
          "showarrow": false,
          "text": "Predicted blank squares",
          "x": 0.5,
          "xanchor": "center",
          "xref": "paper",
          "y": 1,
          "yanchor": "bottom",
          "yref": "paper"
         },
         {
          "font": {
           "size": 18
          },
          "showarrow": false,
          "text": "Confidence gradient blank squares",
          "x": 0.8555555555555556,
          "xanchor": "center",
          "xref": "paper",
          "y": 1,
          "yanchor": "bottom",
          "yref": "paper"
         },
         {
          "font": {
           "size": 18
          },
          "showarrow": false,
          "text": "Ground truth white pawn positions",
          "x": 0.14444444444444446,
          "xanchor": "center",
          "xref": "paper",
          "y": 0.71875,
          "yanchor": "bottom",
          "yref": "paper"
         },
         {
          "font": {
           "size": 18
          },
          "showarrow": false,
          "text": "Predicted white pawn positions",
          "x": 0.5,
          "xanchor": "center",
          "xref": "paper",
          "y": 0.71875,
          "yanchor": "bottom",
          "yref": "paper"
         },
         {
          "font": {
           "size": 18
          },
          "showarrow": false,
          "text": "Confidence gradient white pawn positions",
          "x": 0.8555555555555556,
          "xanchor": "center",
          "xref": "paper",
          "y": 0.71875,
          "yanchor": "bottom",
          "yref": "paper"
         },
         {
          "font": {
           "size": 18
          },
          "showarrow": false,
          "text": "Ground truth black king position",
          "x": 0.14444444444444446,
          "xanchor": "center",
          "xref": "paper",
          "y": 0.4375,
          "yanchor": "bottom",
          "yref": "paper"
         },
         {
          "font": {
           "size": 18
          },
          "showarrow": false,
          "text": "Predicted black king position",
          "x": 0.5,
          "xanchor": "center",
          "xref": "paper",
          "y": 0.4375,
          "yanchor": "bottom",
          "yref": "paper"
         },
         {
          "font": {
           "size": 18
          },
          "showarrow": false,
          "text": "Confidence gradient black king position",
          "x": 0.8555555555555556,
          "xanchor": "center",
          "xref": "paper",
          "y": 0.4375,
          "yanchor": "bottom",
          "yref": "paper"
         },
         {
          "font": {
           "size": 18
          },
          "showarrow": false,
          "text": "Ground truth state",
          "x": 0.14444444444444446,
          "xanchor": "center",
          "xref": "paper",
          "y": 0.15625,
          "yanchor": "bottom",
          "yref": "paper"
         },
         {
          "font": {
           "size": 18
          },
          "showarrow": false,
          "text": "Predicted board state",
          "x": 0.5,
          "xanchor": "center",
          "xref": "paper",
          "y": 0.15625,
          "yanchor": "bottom",
          "yref": "paper"
         },
         {
          "font": {
           "size": 18
          },
          "showarrow": false,
          "text": "Redundant probe output board state",
          "x": 0.8555555555555556,
          "xanchor": "center",
          "xref": "paper",
          "y": 0.15625,
          "yanchor": "bottom",
          "yref": "paper"
         }
        ],
        "height": 2080,
        "template": {
         "data": {
          "bar": [
           {
            "error_x": {
             "color": "#2a3f5f"
            },
            "error_y": {
             "color": "#2a3f5f"
            },
            "marker": {
             "line": {
              "color": "#E5ECF6",
              "width": 0.5
             },
             "pattern": {
              "fillmode": "overlay",
              "size": 10,
              "solidity": 0.2
             }
            },
            "type": "bar"
           }
          ],
          "barpolar": [
           {
            "marker": {
             "line": {
              "color": "#E5ECF6",
              "width": 0.5
             },
             "pattern": {
              "fillmode": "overlay",
              "size": 10,
              "solidity": 0.2
             }
            },
            "type": "barpolar"
           }
          ],
          "carpet": [
           {
            "aaxis": {
             "endlinecolor": "#2a3f5f",
             "gridcolor": "white",
             "linecolor": "white",
             "minorgridcolor": "white",
             "startlinecolor": "#2a3f5f"
            },
            "baxis": {
             "endlinecolor": "#2a3f5f",
             "gridcolor": "white",
             "linecolor": "white",
             "minorgridcolor": "white",
             "startlinecolor": "#2a3f5f"
            },
            "type": "carpet"
           }
          ],
          "choropleth": [
           {
            "colorbar": {
             "outlinewidth": 0,
             "ticks": ""
            },
            "type": "choropleth"
           }
          ],
          "contour": [
           {
            "colorbar": {
             "outlinewidth": 0,
             "ticks": ""
            },
            "colorscale": [
             [
              0,
              "#0d0887"
             ],
             [
              0.1111111111111111,
              "#46039f"
             ],
             [
              0.2222222222222222,
              "#7201a8"
             ],
             [
              0.3333333333333333,
              "#9c179e"
             ],
             [
              0.4444444444444444,
              "#bd3786"
             ],
             [
              0.5555555555555556,
              "#d8576b"
             ],
             [
              0.6666666666666666,
              "#ed7953"
             ],
             [
              0.7777777777777778,
              "#fb9f3a"
             ],
             [
              0.8888888888888888,
              "#fdca26"
             ],
             [
              1,
              "#f0f921"
             ]
            ],
            "type": "contour"
           }
          ],
          "contourcarpet": [
           {
            "colorbar": {
             "outlinewidth": 0,
             "ticks": ""
            },
            "type": "contourcarpet"
           }
          ],
          "heatmap": [
           {
            "colorbar": {
             "outlinewidth": 0,
             "ticks": ""
            },
            "colorscale": [
             [
              0,
              "#0d0887"
             ],
             [
              0.1111111111111111,
              "#46039f"
             ],
             [
              0.2222222222222222,
              "#7201a8"
             ],
             [
              0.3333333333333333,
              "#9c179e"
             ],
             [
              0.4444444444444444,
              "#bd3786"
             ],
             [
              0.5555555555555556,
              "#d8576b"
             ],
             [
              0.6666666666666666,
              "#ed7953"
             ],
             [
              0.7777777777777778,
              "#fb9f3a"
             ],
             [
              0.8888888888888888,
              "#fdca26"
             ],
             [
              1,
              "#f0f921"
             ]
            ],
            "type": "heatmap"
           }
          ],
          "heatmapgl": [
           {
            "colorbar": {
             "outlinewidth": 0,
             "ticks": ""
            },
            "colorscale": [
             [
              0,
              "#0d0887"
             ],
             [
              0.1111111111111111,
              "#46039f"
             ],
             [
              0.2222222222222222,
              "#7201a8"
             ],
             [
              0.3333333333333333,
              "#9c179e"
             ],
             [
              0.4444444444444444,
              "#bd3786"
             ],
             [
              0.5555555555555556,
              "#d8576b"
             ],
             [
              0.6666666666666666,
              "#ed7953"
             ],
             [
              0.7777777777777778,
              "#fb9f3a"
             ],
             [
              0.8888888888888888,
              "#fdca26"
             ],
             [
              1,
              "#f0f921"
             ]
            ],
            "type": "heatmapgl"
           }
          ],
          "histogram": [
           {
            "marker": {
             "pattern": {
              "fillmode": "overlay",
              "size": 10,
              "solidity": 0.2
             }
            },
            "type": "histogram"
           }
          ],
          "histogram2d": [
           {
            "colorbar": {
             "outlinewidth": 0,
             "ticks": ""
            },
            "colorscale": [
             [
              0,
              "#0d0887"
             ],
             [
              0.1111111111111111,
              "#46039f"
             ],
             [
              0.2222222222222222,
              "#7201a8"
             ],
             [
              0.3333333333333333,
              "#9c179e"
             ],
             [
              0.4444444444444444,
              "#bd3786"
             ],
             [
              0.5555555555555556,
              "#d8576b"
             ],
             [
              0.6666666666666666,
              "#ed7953"
             ],
             [
              0.7777777777777778,
              "#fb9f3a"
             ],
             [
              0.8888888888888888,
              "#fdca26"
             ],
             [
              1,
              "#f0f921"
             ]
            ],
            "type": "histogram2d"
           }
          ],
          "histogram2dcontour": [
           {
            "colorbar": {
             "outlinewidth": 0,
             "ticks": ""
            },
            "colorscale": [
             [
              0,
              "#0d0887"
             ],
             [
              0.1111111111111111,
              "#46039f"
             ],
             [
              0.2222222222222222,
              "#7201a8"
             ],
             [
              0.3333333333333333,
              "#9c179e"
             ],
             [
              0.4444444444444444,
              "#bd3786"
             ],
             [
              0.5555555555555556,
              "#d8576b"
             ],
             [
              0.6666666666666666,
              "#ed7953"
             ],
             [
              0.7777777777777778,
              "#fb9f3a"
             ],
             [
              0.8888888888888888,
              "#fdca26"
             ],
             [
              1,
              "#f0f921"
             ]
            ],
            "type": "histogram2dcontour"
           }
          ],
          "mesh3d": [
           {
            "colorbar": {
             "outlinewidth": 0,
             "ticks": ""
            },
            "type": "mesh3d"
           }
          ],
          "parcoords": [
           {
            "line": {
             "colorbar": {
              "outlinewidth": 0,
              "ticks": ""
             }
            },
            "type": "parcoords"
           }
          ],
          "pie": [
           {
            "automargin": true,
            "type": "pie"
           }
          ],
          "scatter": [
           {
            "fillpattern": {
             "fillmode": "overlay",
             "size": 10,
             "solidity": 0.2
            },
            "type": "scatter"
           }
          ],
          "scatter3d": [
           {
            "line": {
             "colorbar": {
              "outlinewidth": 0,
              "ticks": ""
             }
            },
            "marker": {
             "colorbar": {
              "outlinewidth": 0,
              "ticks": ""
             }
            },
            "type": "scatter3d"
           }
          ],
          "scattercarpet": [
           {
            "marker": {
             "colorbar": {
              "outlinewidth": 0,
              "ticks": ""
             }
            },
            "type": "scattercarpet"
           }
          ],
          "scattergeo": [
           {
            "marker": {
             "colorbar": {
              "outlinewidth": 0,
              "ticks": ""
             }
            },
            "type": "scattergeo"
           }
          ],
          "scattergl": [
           {
            "marker": {
             "colorbar": {
              "outlinewidth": 0,
              "ticks": ""
             }
            },
            "type": "scattergl"
           }
          ],
          "scattermapbox": [
           {
            "marker": {
             "colorbar": {
              "outlinewidth": 0,
              "ticks": ""
             }
            },
            "type": "scattermapbox"
           }
          ],
          "scatterpolar": [
           {
            "marker": {
             "colorbar": {
              "outlinewidth": 0,
              "ticks": ""
             }
            },
            "type": "scatterpolar"
           }
          ],
          "scatterpolargl": [
           {
            "marker": {
             "colorbar": {
              "outlinewidth": 0,
              "ticks": ""
             }
            },
            "type": "scatterpolargl"
           }
          ],
          "scatterternary": [
           {
            "marker": {
             "colorbar": {
              "outlinewidth": 0,
              "ticks": ""
             }
            },
            "type": "scatterternary"
           }
          ],
          "surface": [
           {
            "colorbar": {
             "outlinewidth": 0,
             "ticks": ""
            },
            "colorscale": [
             [
              0,
              "#0d0887"
             ],
             [
              0.1111111111111111,
              "#46039f"
             ],
             [
              0.2222222222222222,
              "#7201a8"
             ],
             [
              0.3333333333333333,
              "#9c179e"
             ],
             [
              0.4444444444444444,
              "#bd3786"
             ],
             [
              0.5555555555555556,
              "#d8576b"
             ],
             [
              0.6666666666666666,
              "#ed7953"
             ],
             [
              0.7777777777777778,
              "#fb9f3a"
             ],
             [
              0.8888888888888888,
              "#fdca26"
             ],
             [
              1,
              "#f0f921"
             ]
            ],
            "type": "surface"
           }
          ],
          "table": [
           {
            "cells": {
             "fill": {
              "color": "#EBF0F8"
             },
             "line": {
              "color": "white"
             }
            },
            "header": {
             "fill": {
              "color": "#C8D4E3"
             },
             "line": {
              "color": "white"
             }
            },
            "type": "table"
           }
          ]
         },
         "layout": {
          "annotationdefaults": {
           "arrowcolor": "#2a3f5f",
           "arrowhead": 0,
           "arrowwidth": 1
          },
          "autotypenumbers": "strict",
          "coloraxis": {
           "colorbar": {
            "outlinewidth": 0,
            "ticks": ""
           }
          },
          "colorscale": {
           "diverging": [
            [
             0,
             "#8e0152"
            ],
            [
             0.1,
             "#c51b7d"
            ],
            [
             0.2,
             "#de77ae"
            ],
            [
             0.3,
             "#f1b6da"
            ],
            [
             0.4,
             "#fde0ef"
            ],
            [
             0.5,
             "#f7f7f7"
            ],
            [
             0.6,
             "#e6f5d0"
            ],
            [
             0.7,
             "#b8e186"
            ],
            [
             0.8,
             "#7fbc41"
            ],
            [
             0.9,
             "#4d9221"
            ],
            [
             1,
             "#276419"
            ]
           ],
           "sequential": [
            [
             0,
             "#0d0887"
            ],
            [
             0.1111111111111111,
             "#46039f"
            ],
            [
             0.2222222222222222,
             "#7201a8"
            ],
            [
             0.3333333333333333,
             "#9c179e"
            ],
            [
             0.4444444444444444,
             "#bd3786"
            ],
            [
             0.5555555555555556,
             "#d8576b"
            ],
            [
             0.6666666666666666,
             "#ed7953"
            ],
            [
             0.7777777777777778,
             "#fb9f3a"
            ],
            [
             0.8888888888888888,
             "#fdca26"
            ],
            [
             1,
             "#f0f921"
            ]
           ],
           "sequentialminus": [
            [
             0,
             "#0d0887"
            ],
            [
             0.1111111111111111,
             "#46039f"
            ],
            [
             0.2222222222222222,
             "#7201a8"
            ],
            [
             0.3333333333333333,
             "#9c179e"
            ],
            [
             0.4444444444444444,
             "#bd3786"
            ],
            [
             0.5555555555555556,
             "#d8576b"
            ],
            [
             0.6666666666666666,
             "#ed7953"
            ],
            [
             0.7777777777777778,
             "#fb9f3a"
            ],
            [
             0.8888888888888888,
             "#fdca26"
            ],
            [
             1,
             "#f0f921"
            ]
           ]
          },
          "colorway": [
           "#636efa",
           "#EF553B",
           "#00cc96",
           "#ab63fa",
           "#FFA15A",
           "#19d3f3",
           "#FF6692",
           "#B6E880",
           "#FF97FF",
           "#FECB52"
          ],
          "font": {
           "color": "#2a3f5f"
          },
          "geo": {
           "bgcolor": "white",
           "lakecolor": "white",
           "landcolor": "#E5ECF6",
           "showlakes": true,
           "showland": true,
           "subunitcolor": "white"
          },
          "hoverlabel": {
           "align": "left"
          },
          "hovermode": "closest",
          "mapbox": {
           "style": "light"
          },
          "paper_bgcolor": "white",
          "plot_bgcolor": "#E5ECF6",
          "polar": {
           "angularaxis": {
            "gridcolor": "white",
            "linecolor": "white",
            "ticks": ""
           },
           "bgcolor": "#E5ECF6",
           "radialaxis": {
            "gridcolor": "white",
            "linecolor": "white",
            "ticks": ""
           }
          },
          "scene": {
           "xaxis": {
            "backgroundcolor": "#E5ECF6",
            "gridcolor": "white",
            "gridwidth": 2,
            "linecolor": "white",
            "showbackground": true,
            "ticks": "",
            "zerolinecolor": "white"
           },
           "yaxis": {
            "backgroundcolor": "#E5ECF6",
            "gridcolor": "white",
            "gridwidth": 2,
            "linecolor": "white",
            "showbackground": true,
            "ticks": "",
            "zerolinecolor": "white"
           },
           "zaxis": {
            "backgroundcolor": "#E5ECF6",
            "gridcolor": "white",
            "gridwidth": 2,
            "linecolor": "white",
            "showbackground": true,
            "ticks": "",
            "zerolinecolor": "white"
           }
          },
          "shapedefaults": {
           "line": {
            "color": "#2a3f5f"
           }
          },
          "ternary": {
           "aaxis": {
            "gridcolor": "white",
            "linecolor": "white",
            "ticks": ""
           },
           "baxis": {
            "gridcolor": "white",
            "linecolor": "white",
            "ticks": ""
           },
           "bgcolor": "#E5ECF6",
           "caxis": {
            "gridcolor": "white",
            "linecolor": "white",
            "ticks": ""
           }
          },
          "title": {
           "x": 0.05
          },
          "xaxis": {
           "automargin": true,
           "gridcolor": "white",
           "linecolor": "white",
           "ticks": "",
           "title": {
            "standoff": 15
           },
           "zerolinecolor": "white",
           "zerolinewidth": 2
          },
          "yaxis": {
           "automargin": true,
           "gridcolor": "white",
           "linecolor": "white",
           "ticks": "",
           "title": {
            "standoff": 15
           },
           "zerolinecolor": "white",
           "zerolinewidth": 2
          }
         }
        },
        "width": 1200,
        "xaxis": {
         "anchor": "y",
         "domain": [
          0,
          0.2888888888888889
         ]
        },
        "xaxis10": {
         "anchor": "y10",
         "domain": [
          0,
          0.2888888888888889
         ]
        },
        "xaxis11": {
         "anchor": "y11",
         "domain": [
          0.35555555555555557,
          0.6444444444444445
         ]
        },
        "xaxis12": {
         "anchor": "y12",
         "domain": [
          0.7111111111111111,
          1
         ]
        },
        "xaxis2": {
         "anchor": "y2",
         "domain": [
          0.35555555555555557,
          0.6444444444444445
         ]
        },
        "xaxis3": {
         "anchor": "y3",
         "domain": [
          0.7111111111111111,
          1
         ]
        },
        "xaxis4": {
         "anchor": "y4",
         "domain": [
          0,
          0.2888888888888889
         ]
        },
        "xaxis5": {
         "anchor": "y5",
         "domain": [
          0.35555555555555557,
          0.6444444444444445
         ]
        },
        "xaxis6": {
         "anchor": "y6",
         "domain": [
          0.7111111111111111,
          1
         ]
        },
        "xaxis7": {
         "anchor": "y7",
         "domain": [
          0,
          0.2888888888888889
         ]
        },
        "xaxis8": {
         "anchor": "y8",
         "domain": [
          0.35555555555555557,
          0.6444444444444445
         ]
        },
        "xaxis9": {
         "anchor": "y9",
         "domain": [
          0.7111111111111111,
          1
         ]
        },
        "yaxis": {
         "anchor": "x",
         "domain": [
          0.84375,
          1
         ]
        },
        "yaxis10": {
         "anchor": "x10",
         "domain": [
          0,
          0.15625
         ]
        },
        "yaxis11": {
         "anchor": "x11",
         "domain": [
          0,
          0.15625
         ]
        },
        "yaxis12": {
         "anchor": "x12",
         "domain": [
          0,
          0.15625
         ]
        },
        "yaxis2": {
         "anchor": "x2",
         "domain": [
          0.84375,
          1
         ]
        },
        "yaxis3": {
         "anchor": "x3",
         "domain": [
          0.84375,
          1
         ]
        },
        "yaxis4": {
         "anchor": "x4",
         "domain": [
          0.5625,
          0.71875
         ]
        },
        "yaxis5": {
         "anchor": "x5",
         "domain": [
          0.5625,
          0.71875
         ]
        },
        "yaxis6": {
         "anchor": "x6",
         "domain": [
          0.5625,
          0.71875
         ]
        },
        "yaxis7": {
         "anchor": "x7",
         "domain": [
          0.28125,
          0.4375
         ]
        },
        "yaxis8": {
         "anchor": "x8",
         "domain": [
          0.28125,
          0.4375
         ]
        },
        "yaxis9": {
         "anchor": "x9",
         "domain": [
          0.28125,
          0.4375
         ]
        }
       }
      }
     },
     "metadata": {},
     "output_type": "display_data"
    }
   ],
   "source": [
    "from plotly.subplots import make_subplots\n",
    "\n",
    "move_of_interest_probe_out = probe_out_MBLRRC[0][0][move_of_interest]\n",
    "print(move_of_interest_probe_out.shape)\n",
    "\n",
    "fig_rows = 4\n",
    "fig_cols = 3\n",
    "fig = make_subplots(rows=fig_rows, cols=fig_cols, subplot_titles=[\n",
    "    \"Ground truth blank squares\", \"Predicted blank squares\", \"Confidence gradient blank squares\",\n",
    "    \"Ground truth white pawn positions\", \"Predicted white pawn positions\", \"Confidence gradient white pawn positions\",\n",
    "    \"Ground truth black king position\", \"Predicted black king position\", \"Confidence gradient black king position\",\n",
    "    \"Ground truth state\", \"Predicted board state\", \"Redundant probe output board state\"\n",
    "])\n",
    "\n",
    "\n",
    "# Specify the size of each plot\n",
    "plot_size = 400  # You can adjust this size\n",
    "\n",
    "fig.add_trace(plot_board_state(move_of_interest_state_one_hot_RRC[:, :, BLANK_INDEX]), row=1, col=1)\n",
    "fig.add_trace(plot_board_state(move_of_interest_probe_out[:, :, BLANK_INDEX], clip_size=2), row=1, col=2)\n",
    "fig.add_trace(plot_board_state(move_of_interest_probe_out[:, :, BLANK_INDEX]), row=1, col=3)\n",
    "\n",
    "fig.add_trace(plot_board_state(move_of_interest_state_one_hot_RRC[:, :, white_pawn_index]), row=2, col=1)\n",
    "fig.add_trace(plot_board_state(move_of_interest_probe_out[:, :, white_pawn_index], clip_size=2), row=2, col=2)\n",
    "fig.add_trace(plot_board_state(move_of_interest_probe_out[:, :, white_pawn_index], show_scale=True), row=2, col=3)\n",
    "\n",
    "fig.add_trace(plot_board_state(move_of_interest_state_one_hot_RRC[:, :, black_king_index]), row=3, col=1)\n",
    "fig.add_trace(plot_board_state(move_of_interest_probe_out[:, :, black_king_index], clip_size=2), row=3, col=2)\n",
    "fig.add_trace(plot_board_state(move_of_interest_probe_out[:, :, black_king_index]), row=3, col=3)\n",
    "\n",
    "fig.add_trace(plot_board_state_with_text(move_of_interest_state_RR), row=4, col=1)\n",
    "fig.add_trace(plot_board_state_with_text(state_stacks_probe_outputs_MBLRR[0][0][move_of_interest]), row=4, col=2)\n",
    "fig.add_trace(plot_board_state_with_text(state_stacks_probe_outputs_MBLRR[0][0][move_of_interest]), row=4, col=2)\n",
    "\n",
    "# Adjust the overall size of the figure\n",
    "fig.update_layout(height=fig_rows * plot_size * 1.3, width=fig_cols * plot_size)\n",
    "fig.update_annotations(dict(font=dict(size=18))) \n",
    "\n",
    "\n",
    "\n",
    "# Show the figure\n",
    "fig.show()"
   ]
  },
  {
   "cell_type": "markdown",
   "metadata": {},
   "source": [
    "This will check the percentage of squares in the sample (sample_size defaults to 1 game) where the ground truth matches the probe output.\n",
    "I also do a round trip through all the transformations, which should match 100%."
   ]
  },
  {
   "cell_type": "code",
   "execution_count": null,
   "metadata": {},
   "outputs": [],
   "source": [
    "def calculate_matching_percentage(state_stacks: torch.Tensor, probe_outputs: torch.Tensor) -> float:\n",
    "    \"\"\"\n",
    "    Calculate the percentage of matching cells in two tensors.\n",
    "\n",
    "    :param state_stacks: A tensor of shape [1, 1, 680, 8, 8].\n",
    "    :param probe_outputs: A tensor of shape [1, 1, 680, 8, 8].\n",
    "    :return: The percentage of cells that match.\n",
    "    \"\"\"\n",
    "    # Element-wise comparison\n",
    "    matches = state_stacks == probe_outputs\n",
    "\n",
    "    # Count the number of matches\n",
    "    num_matches = matches.sum().item()\n",
    "\n",
    "    # Total number of elements\n",
    "    total_elements = state_stacks.numel()\n",
    "\n",
    "    # Calculate percentage\n",
    "    percentage = (num_matches / total_elements) * 100\n",
    "    print(f\"Out of {total_elements} elements, {num_matches} matched, {percentage}%\")\n",
    "\n",
    "    return percentage\n",
    "assert(state_stacks_probe_outputs_MBLRR.shape) == (state_stack_white_moves_MBLRR.shape)\n",
    "print(\"Linear probe accuracy on all board squares in sample size:\", calculate_matching_percentage(state_stack_white_moves_MBLRR, state_stacks_probe_outputs_MBLRR))\n",
    "\n",
    "round_trip = chess_utils.one_hot_to_state_stack(chess_utils.state_stack_to_one_hot(modes, config.num_rows, config.num_cols, config.min_val,config.max_val, DEVICE, state_stack_white_moves_MBLRR), config.min_val)\n",
    "round_trip = torch.tensor(round_trip)\n",
    "print(round_trip.shape)\n",
    "print(state_stack_white_moves_MBLRR.shape)\n",
    "assert(round_trip.shape) == (modes, sample_size, num_white_moves, config.num_rows, config.num_cols)\n",
    "assert(round_trip.shape) == state_stack_white_moves_MBLRR.shape\n",
    "matching_percentage = calculate_matching_percentage(round_trip, state_stack_white_moves_MBLRR)\n",
    "assert(matching_percentage == 100.0)\n",
    "print(f\"Round trip matching percentage: {matching_percentage}%\")"
   ]
  },
  {
   "cell_type": "markdown",
   "metadata": {},
   "source": [
    "Now, we can perform interventions on the model's internals and view the modified probe outputs. We can also verify the model produces legal moves under the modified state of the board.\n",
    "\n",
    "First, we perform a sanity check to ensure that our interventions on model activations are working correctly. In this case, diff should roughly equal flip_dir.\n",
    "\n",
    "Note that I'm only intervening on one layer here. By modifying the first for loop and training additional probes, we can easily intervene on an arbitrary amount of layers. If we were to intervene on multiple layers, we can only check that torch.allclose(diff, flip_dirs[layer], atol=1e-6) for the first layer that we intervene on."
   ]
  },
  {
   "cell_type": "code",
   "execution_count": null,
   "metadata": {},
   "outputs": [],
   "source": [
    "probe_data.model.reset_hooks()\n",
    "\n",
    "_, cache = probe_data.model.run_with_cache(board_seqs_int_BL.to(DEVICE)[:, :-1], return_type=None)\n",
    "resid_post_BlD = cache[\"resid_post\", layer][:, :]\n",
    "\n",
    "r = 0\n",
    "c = 0\n",
    "\n",
    "probe_names = {}\n",
    "for i in range(layer, layer + 1):\n",
    "    probe_names[i] = base_probe_name.replace(\"layer_0\", f\"layer_{i}\")\n",
    "\n",
    "probes = {}\n",
    "\n",
    "# Use this to intervene on multiple layers\n",
    "for layer, probe_name in probe_names.items():\n",
    "    probe_file_location = f\"{SAVED_PROBE_DIR}{probe_name}\"\n",
    "    checkpoint = torch.load(probe_file_location, map_location=torch.device(DEVICE))\n",
    "    linear_probe_MDRRC = checkpoint[\"linear_probe\"]\n",
    "    probes[layer] = linear_probe_MDRRC\n",
    "\n",
    "\n",
    "flip_dirs = {}\n",
    "\n",
    "piece1 = BLANK_INDEX\n",
    "piece2 = black_king_index\n",
    "\n",
    "for layer, linear_probe_MDRRC in probes.items():\n",
    "    piece1_probe = linear_probe_MDRRC[:, :, r, c, piece1].squeeze()\n",
    "    piece2_probe = linear_probe_MDRRC[:, :, r, c, piece2].squeeze()\n",
    "    flip_dir = piece2_probe - piece1_probe\n",
    "    flip_dir.to(DEVICE)\n",
    "    flip_dirs[layer] = flip_dir\n",
    "\n",
    "def flip_hook(resid, hook, flip_dir: torch.Tensor):\n",
    "    resid[GAME_IDX, :] -= flip_dir # NOTE: We could only intervene on a single position in the sequence, but there's no harm in intervening on all of them\n",
    "\n",
    "probe_data.model.reset_hooks()\n",
    "\n",
    "for layer, flip_dir in flip_dirs.items():\n",
    "    temp_hook_fn = partial(flip_hook, flip_dir=flip_dir)\n",
    "    hook_name = f\"blocks.{layer}.hook_resid_post\"\n",
    "    probe_data.model.add_hook(hook_name, temp_hook_fn)\n",
    "\n",
    "print(probe_data.model.cpu())\n",
    "_, modified_cache = probe_data.model.run_with_cache(board_seqs_int_BL.to(DEVICE)[:, :-1])\n",
    "probe_data.model.reset_hooks()\n",
    "modified_resid_post = modified_cache[\"resid_post\", layer][:, :]\n",
    "\n",
    "print(resid_post_BlD.shape)\n",
    "print(modified_resid_post.shape)\n",
    "\n",
    "diff = resid_post_BlD[GAME_IDX, 10, :] - modified_resid_post[GAME_IDX, 10, :]\n",
    "\n",
    "assert torch.allclose(diff, flip_dirs[layer], atol=1e-6)\n",
    "print(\"Flip hook test passed\")"
   ]
  },
  {
   "cell_type": "markdown",
   "metadata": {},
   "source": [
    "Next, we load the model's vocab."
   ]
  },
  {
   "cell_type": "code",
   "execution_count": null,
   "metadata": {},
   "outputs": [],
   "source": [
    "with open(\"models/meta.pkl\", \"rb\") as f:\n",
    "    meta = pickle.load(f)\n",
    "stoi = meta[\"stoi\"]\n",
    "itos = meta[\"itos\"]\n",
    "def encode_string(s: str) -> list[int]:\n",
    "    \"\"\"Encode a string into a list of integers.\"\"\"\n",
    "    return [stoi[c] for c in s]\n",
    "\n",
    "\n",
    "def decode_list(l: list[int]) -> str:\n",
    "    \"\"\"Decode a list of integers into a string.\"\"\"\n",
    "    return \"\".join([itos[i] for i in l])"
   ]
  },
  {
   "cell_type": "markdown",
   "metadata": {},
   "source": [
    "Next, we generate 10 characters using the model to determine the model's next move. Note that we are using argmax instead of a temperature based approach, so this will always return the most likely move.One annoying problem we deal with: In chess, the 0th row is at the bottom, which is how print(chess_board) displays everything. But, for our state stack (and any array), the 0th row is at the top.\n",
    "\n",
    "Now, we get a pgn string up to the current move and convert it to a chess board. We use it to create an encoded model_input as well."
   ]
  },
  {
   "cell_type": "code",
   "execution_count": null,
   "metadata": {},
   "outputs": [],
   "source": [
    "print(move_of_interest_state_RR)\n",
    "\n",
    "pgn_string = probe_data.board_seqs_string[GAME_IDX][:move_of_interest_index + 1]\n",
    "model_input = encode_string(pgn_string)\n",
    "model_input = torch.tensor(model_input).unsqueeze(0).to(DEVICE)\n",
    "print(model_input.shape)\n",
    "board = chess_utils.pgn_string_to_board(pgn_string)\n",
    "\n",
    "print(board)\n",
    "print(board.legal_moves)"
   ]
  },
  {
   "cell_type": "markdown",
   "metadata": {},
   "source": [
    "We generate a move using the model on the original board and check that the move is legal. Next, we determine which piece was moved, and which row / column the source square of the move was."
   ]
  },
  {
   "cell_type": "code",
   "execution_count": null,
   "metadata": {},
   "outputs": [],
   "source": [
    "model_move = chess_utils.get_model_move(probe_data.model, meta, model_input)\n",
    "model_move_san = board.parse_san(model_move)\n",
    "assert model_move_san in board.legal_moves\n",
    "\n",
    "moved_piece = board.piece_at(model_move_san.from_square)\n",
    "moved_piece_int = PIECE_TO_INT[moved_piece.piece_type]\n",
    "moved_piece_probe_index = PIECE_TO_ONE_HOT_MAPPING[moved_piece_int]\n",
    "source_square = chess.square_name(model_move_san.from_square)\n",
    "\n",
    "\n",
    "r, c = chess_utils.square_to_coordinate(model_move_san.from_square)\n",
    "print(r, c)\n",
    "\n",
    "print(f\"Model move: {model_move_san}, moved piece: {moved_piece}, moved piece int: {moved_piece_int}, moved piece probe index: {moved_piece_probe_index}, source square: {source_square}\")"
   ]
  },
  {
   "cell_type": "markdown",
   "metadata": {},
   "source": [
    "Now, we create a modified board where the source square of the model's original move is blank."
   ]
  },
  {
   "cell_type": "code",
   "execution_count": null,
   "metadata": {},
   "outputs": [],
   "source": [
    "modified_state_stack = state_stack_white_moves_MBLRR.clone()\n",
    "modified_state_stack[0, GAME_IDX, move_of_interest, r, c] = 0\n",
    "modified_move_of_interest_state = modified_state_stack[0, GAME_IDX, move_of_interest]\n",
    "modified_state_stacks_one_hot = chess_utils.state_stack_to_one_hot(modes, config.num_rows, config.num_cols, config.min_val, config.max_val, DEVICE, modified_state_stack)\n",
    "modified_move_of_interest_state_one_hot = modified_state_stacks_one_hot[0][GAME_IDX][move_of_interest]\n",
    "modified_board = board.copy()\n",
    "modified_board.set_piece_at(model_move_san.from_square, None)\n",
    "print(modified_board)\n",
    "print(modified_board.legal_moves)\n",
    "\n",
    "assert modified_move_of_interest_state_one_hot.shape == move_of_interest_state_one_hot_RRC.shape\n",
    "assert modified_state_stack.shape == state_stack_white_moves_MBLRR.shape\n",
    "assert modified_state_stacks_one_hot.shape == state_stacks_one_hot_MBLRRC.shape"
   ]
  },
  {
   "cell_type": "markdown",
   "metadata": {},
   "source": [
    "Next, we get flip_dir, which is a probe of piece * piece_coefficient - blank square * blank_coefficient. In practice, I find that it works best when blank_coefficient is 0. We subtract this flip_dir from the model's activations at every token. We generate 10 new characters using the model, and verify that the new move under this modified state is legal according to the modified state. We also save a copy of the modified activations and generate modified probe outputs."
   ]
  },
  {
   "cell_type": "code",
   "execution_count": null,
   "metadata": {},
   "outputs": [],
   "source": [
    "_, cache = probe_data.model.run_with_cache(board_seqs_int_BL.to(DEVICE)[:, :-1], return_type=None)\n",
    "resid_post_BlD = cache[\"resid_post\", layer][:, :]\n",
    "\n",
    "flip_dirs = {}\n",
    "\n",
    "piece1 = BLANK_INDEX\n",
    "piece1_probe = linear_probe_MDRRC[:, :, r, c, piece1].squeeze()\n",
    "piece2 = moved_piece_probe_index\n",
    "\n",
    "for layer, linear_probe_MDRRC in probes.items():\n",
    "    piece2_probe = linear_probe_MDRRC[:, :, r, c, piece2].squeeze()\n",
    "    flip_dir = piece2_probe - piece1_probe\n",
    "    flip_dir.to(DEVICE)\n",
    "    flip_dirs[layer] = flip_dir\n",
    "\n",
    "def flip_hook(resid, hook, flip_dir: torch.Tensor):\n",
    "    # print(resid[0, move_of_interest_index, :].shape)\n",
    "    # print(flip_dir.shape)\n",
    "    # print(piece1_probe.shape)\n",
    "    # left_side = torch.dot(resid[0, move_of_interest_index, :], piece1_probe) - 3.0\n",
    "    # right_side = torch.dot(flip_dir, piece1_probe)\n",
    "    # scale = left_side / right_side\n",
    "    # print(scale)\n",
    "    \n",
    "    # # Calculate scale\n",
    "    # scale = left_side / right_side\n",
    "    piece_coefficient = 1.0\n",
    "    blank_coefficient = 0.0\n",
    "    blank_probe = probes[layer][:, :, r, c, BLANK_INDEX].squeeze()\n",
    "    piece_probe = probes[layer][:, :, r, c, moved_piece_probe_index].squeeze()\n",
    "\n",
    "    flip_dir = (piece_probe * piece_coefficient) - (blank_probe * blank_coefficient)\n",
    "    flip_dir = flip_dir / flip_dir.norm()\n",
    "    scale = 1.0\n",
    "    resid[0, :] -= scale * flip_dir # NOTE: We could only intervene on a single position in the sequence, but there's no harm in intervening on all of them\n",
    "\n",
    "probe_data.model.reset_hooks()\n",
    "\n",
    "for layer, flip_dir in flip_dirs.items():\n",
    "    temp_hook_fn = partial(flip_hook, flip_dir=flip_dir)\n",
    "    hook_name = f\"blocks.{layer}.hook_resid_post\"\n",
    "    probe_data.model.add_hook(hook_name, temp_hook_fn)\n",
    "_, modified_cache = probe_data.model.run_with_cache(board_seqs_int_BL.to(DEVICE)[:, :-1])\n",
    "modified_board_model_move = chess_utils.get_model_move(probe_data.model, meta, model_input)\n",
    "probe_data.model.reset_hooks()\n",
    "modified_resid_post = modified_cache[\"resid_post\", layer][:, :]\n",
    "\n",
    "\n",
    "print(modified_board_model_move)\n",
    "# modified_board_model_move_san = modified_board.parse_san(modified_board_model_move)\n",
    "# assert modified_board_model_move_san in modified_board.legal_moves"
   ]
  },
  {
   "cell_type": "code",
   "execution_count": null,
   "metadata": {},
   "outputs": [],
   "source": [
    "print(flip_dirs[layer].shape)\n",
    "print(resid_post_BlD.shape)\n",
    "print(modified_resid_post.shape)"
   ]
  },
  {
   "cell_type": "code",
   "execution_count": null,
   "metadata": {},
   "outputs": [],
   "source": [
    "indexed_modified_resid_posts = []\n",
    "\n",
    "for batch_idx in range(white_move_indices_BL.size(0)):\n",
    "    dots_indices_for_batch_L = white_move_indices_BL[batch_idx]\n",
    "    indexed_modified_resid_post = modified_resid_post[batch_idx, dots_indices_for_batch_L]\n",
    "    indexed_modified_resid_posts.append(indexed_modified_resid_post)\n",
    "\n",
    "# Stack the indexed state stacks along the first dimension\n",
    "stacked_modified_resid_post = torch.stack(indexed_modified_resid_posts)\n",
    "stacked_modified_resid_post = stacked_modified_resid_post.to(DEVICE)\n",
    "\n",
    "assert stacked_modified_resid_post.shape == (sample_size, num_white_moves, linear_probe_MDRRC.shape[1])\n",
    "\n",
    "modified_probe_out = einsum(\n",
    "    \"batch pos d_model, modes d_model rows cols options -> modes batch pos rows cols options\",\n",
    "    stacked_modified_resid_post,\n",
    "    linear_probe_MDRRC,\n",
    ")\n",
    "modified_state_stacks_probe_outputs = chess_utils.one_hot_to_state_stack(modified_probe_out, config.min_val)\n",
    "modified_state_stacks_probe_outputs = torch.tensor(modified_state_stacks_probe_outputs)"
   ]
  },
  {
   "cell_type": "markdown",
   "metadata": {},
   "source": [
    "Now, we can graph the original and modified board states and probe outputs."
   ]
  },
  {
   "cell_type": "code",
   "execution_count": null,
   "metadata": {},
   "outputs": [],
   "source": [
    "from plotly.subplots import make_subplots\n",
    "\n",
    "move_of_interest_probe_out = probe_out_MBLRRC[0][0][move_of_interest]\n",
    "move_of_interest_probe_out_modified = modified_probe_out[0][0][move_of_interest]\n",
    "print(move_of_interest_probe_out.shape)\n",
    "\n",
    "fig_rows = 6\n",
    "fig_cols = 3\n",
    "fig = make_subplots(rows=fig_rows, cols=fig_cols, subplot_titles=[\n",
    "    \"Chess board blank squares\", \"Probe output blank squares clip=2\", \"Probe output blank squares no clipping\",\n",
    "    \"Chess board original piece\", \"Probe output original piece clip=5\", \"Probe output original piece no clipping\",\n",
    "    \"Modified chess board blank squares\", \"Probe output blank squares clip=2\", \"Probe output blank squares no clipping\",\n",
    "    \"Modified chess board original piece\", \"Probe output original piece clip=5\", \"Probe output original piece no clipping\",\n",
    "    \"Chess board state\", \"Probe output board state\", \"Redundant probe output board state\",\n",
    "    \"Modified chess board state\", \"Probe output board state\", \"Redundant probe output board state\"\n",
    "])\n",
    "\n",
    "\n",
    "# Specify the size of each plot\n",
    "plot_size = 400  # You can adjust this size\n",
    "\n",
    "\n",
    "\n",
    "fig.add_trace(plot_board_state(move_of_interest_state_one_hot_RRC[:, :, BLANK_INDEX]), row=1, col=1)\n",
    "fig.add_trace(plot_board_state(move_of_interest_probe_out[:, :, BLANK_INDEX], clip_size=2), row=1, col=2)\n",
    "fig.add_trace(plot_board_state(move_of_interest_probe_out[:, :, BLANK_INDEX]), row=1, col=3)\n",
    "\n",
    "fig.add_trace(plot_board_state(move_of_interest_state_one_hot_RRC[:, :, moved_piece_probe_index]), row=2, col=1)\n",
    "fig.add_trace(plot_board_state(move_of_interest_probe_out[:, :, moved_piece_probe_index], clip_size=5), row=2, col=2)\n",
    "fig.add_trace(plot_board_state(move_of_interest_probe_out[:, :, moved_piece_probe_index]), row=2, col=3)\n",
    "\n",
    "fig.add_trace(plot_board_state(modified_move_of_interest_state_one_hot[:, :, BLANK_INDEX]), row=3, col=1)\n",
    "fig.add_trace(plot_board_state(move_of_interest_probe_out_modified[:, :, BLANK_INDEX], clip_size=2), row=3, col=2)\n",
    "fig.add_trace(plot_board_state(move_of_interest_probe_out_modified[:, :, BLANK_INDEX]), row=3, col=3)\n",
    "\n",
    "fig.add_trace(plot_board_state(modified_move_of_interest_state_one_hot[:, :, moved_piece_probe_index]), row=4, col=1)\n",
    "fig.add_trace(plot_board_state(move_of_interest_probe_out_modified[:, :, moved_piece_probe_index], clip_size=5), row=4, col=2)\n",
    "fig.add_trace(plot_board_state(move_of_interest_probe_out_modified[:, :, moved_piece_probe_index]), row=4, col=3)\n",
    "\n",
    "fig.add_trace(plot_board_state_with_text(move_of_interest_state_RR), row=5, col=1)\n",
    "fig.add_trace(plot_board_state_with_text(state_stacks_probe_outputs_MBLRR[0][0][move_of_interest]), row=5, col=2)\n",
    "fig.add_trace(plot_board_state_with_text(state_stacks_probe_outputs_MBLRR[0][0][move_of_interest]), row=5, col=2)\n",
    "\n",
    "fig.add_trace(plot_board_state_with_text(modified_move_of_interest_state), row=6, col=1)\n",
    "fig.add_trace(plot_board_state_with_text(modified_state_stacks_probe_outputs[0][0][move_of_interest]), row=6, col=2)\n",
    "fig.add_trace(plot_board_state_with_text(modified_state_stacks_probe_outputs[0][0][move_of_interest]), row=6, col=2)\n",
    "\n",
    "# Adjust the overall size of the figure\n",
    "fig.update_layout(height=fig_rows * plot_size, width=fig_cols * plot_size)\n",
    "\n",
    "# Show the figure\n",
    "fig.show()"
   ]
  }
 ],
 "metadata": {
  "kernelspec": {
   "display_name": "interEnv",
   "language": "python",
   "name": "python3"
  },
  "language_info": {
   "codemirror_mode": {
    "name": "ipython",
    "version": 3
   },
   "file_extension": ".py",
   "mimetype": "text/x-python",
   "name": "python",
   "nbconvert_exporter": "python",
   "pygments_lexer": "ipython3",
   "version": "3.12.3"
  }
 },
 "nbformat": 4,
 "nbformat_minor": 2
}
