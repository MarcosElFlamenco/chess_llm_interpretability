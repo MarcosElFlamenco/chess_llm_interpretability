{
  "cells": [
    {
      "cell_type": "markdown",
      "metadata": {
        "id": "9GZhdIOrbXgU"
      },
      "source": [
        "<a target=\"_blank\" href=\"https://colab.research.google.com/github/neelnanda-io/TransformerLens/blob/main/demos/Othello_GPT.ipynb\">\n",
        "  <img src=\"https://colab.research.google.com/assets/colab-badge.svg\" alt=\"Open In Colab\"/>\n",
        "</a>"
      ]
    },
    {
      "cell_type": "markdown",
      "metadata": {
        "id": "3S02oPF_bXgY"
      },
      "source": [
        "This is a demo notebook porting the weights of the Othello-GPT Model from the excellent [Emergent World Representations](https://arxiv.org/pdf/2210.13382.pdf) paper to my TransformerLens library. Check out the paper's [blog post](https://thegradient.pub/othello/), [paper](https://arxiv.org/pdf/2210.13382.pdf), and [github](https://github.com/likenneth/othello_world/)\n",
        "\n",
        "I think this is a super interesting paper, and I want to better enable work trying to reverse-engineer this model! I'm particularly curious about:\n",
        "* Why non-linear probes work much better than linear probes?\n",
        "    * Is the model internally representing the board in a usable yet non-linear way?\n",
        "    * Is there a representation of simpler concepts (eg diagonal lines in the board, number of black pieces, whether a cell is blank)) that the non-linear probe uses to compute board positions, but where the model internally reasons in this simpler representation?\n",
        "* What's going up with the model editing?\n",
        "    * The paper edits across many layers at once. What's the minimal edit that works?\n",
        "        * Can we edit just before the final layer?\n",
        "        * Can we do a single edit rather than across many layers?\n",
        "    * If we contrast model activations pre and post edit, what changes?\n",
        "        * Which components shift their output and how does this affect the logits?\n",
        "        * Is there significant depth of composition, or does it just affect the output logits?\n",
        "* Can we find any non-trivial circuits in the model?\n",
        "    * Start with [exploratory techniques](https://neelnanda.io/exploratory-analysis-demo), like direct logit attribution, or just looking at head attention patterns, and try to get traction\n",
        "    * Pick a simple sub-task, eg figuring out whether a cell is blank, and try to interpret that.\n",
        "\n",
        "\n",
        "I uploaded pre-converted checkpoints to HuggingFace, which can be automatically downloaded, and there's a code snippet to do this after the setup.\n",
        "\n",
        "If you want to use the author's code, I wrote a script to load and convert checkpoints from the author's code, given below this.\n",
        "\n",
        "To get started, check out the transformer lens [main tutorial](https://neelnanda.io/transformer-lens-demo) and [tutorial on exploratory techniques](https://neelnanda.io/exploratory-analysis-demo), and the author's [excellent Github](https://github.com/likenneth/othello_world/) (Ot**hello world**) for various notebooks demonstrating their code, showing how to load inputs, etc. And check out my [concrete open problems in mechanistic interpretability](https://www.lesswrong.com/s/yivyHaCAmMJ3CqSyj) sequence, especially the algorithmic problems post, for tips on this style of research."
      ]
    },
    {
      "cell_type": "markdown",
      "metadata": {
        "id": "GGzDxp7IbXgZ"
      },
      "source": [
        "\n",
        "# Setup (Skip)"
      ]
    },
    {
      "cell_type": "code",
      "execution_count": 1,
      "metadata": {
        "id": "mTRHWf8gbXgZ",
        "outputId": "d60f1558-f2b1-4111-9dc7-5a85fbe92c52"
      },
      "outputs": [
        {
          "name": "stdout",
          "output_type": "stream",
          "text": [
            "Running as a Jupyter notebook - intended for development only!\n"
          ]
        },
        {
          "name": "stderr",
          "output_type": "stream",
          "text": [
            "C:\\Users\\adamk\\AppData\\Local\\Temp\\ipykernel_73440\\3943211735.py:21: DeprecationWarning: `magic(...)` is deprecated since IPython 0.13 (warning added in 8.1), use run_line_magic(magic_name, parameter_s).\n",
            "  ipython.magic(\"load_ext autoreload\")\n",
            "C:\\Users\\adamk\\AppData\\Local\\Temp\\ipykernel_73440\\3943211735.py:22: DeprecationWarning: `magic(...)` is deprecated since IPython 0.13 (warning added in 8.1), use run_line_magic(magic_name, parameter_s).\n",
            "  ipython.magic(\"autoreload 2\")\n"
          ]
        }
      ],
      "source": [
        "# Janky code to do different setup when run in a Colab notebook vs VSCode\n",
        "DEVELOPMENT_MODE = True\n",
        "try:\n",
        "    import google.colab\n",
        "    IN_COLAB = True\n",
        "    print(\"Running as a Colab notebook\")\n",
        "    %pip install git+https://github.com/neelnanda-io/TransformerLens.git\n",
        "    %pip install circuitsvis\n",
        "\n",
        "    # PySvelte is an unmaintained visualization library, use it as a backup if circuitsvis isn't working\n",
        "    # # Install another version of node that makes PySvelte work way faster\n",
        "    # !curl -fsSL https://deb.nodesource.com/setup_16.x | sudo -E bash -; sudo apt-get install -y nodejs\n",
        "    # %pip install git+https://github.com/neelnanda-io/PySvelte.git\n",
        "except:\n",
        "    IN_COLAB = False\n",
        "    print(\"Running as a Jupyter notebook - intended for development only!\")\n",
        "    from IPython import get_ipython\n",
        "\n",
        "    ipython = get_ipython()\n",
        "    # Code to automatically update the HookedTransformer code as its edited without restarting the kernel\n",
        "    ipython.magic(\"load_ext autoreload\")\n",
        "    ipython.magic(\"autoreload 2\")"
      ]
    },
    {
      "cell_type": "code",
      "execution_count": 2,
      "metadata": {
        "id": "cfCVSWTubXgb",
        "outputId": "81870d9c-816c-4e94-9928-ed49501638df"
      },
      "outputs": [
        {
          "name": "stdout",
          "output_type": "stream",
          "text": [
            "Using renderer: notebook_connected\n"
          ]
        }
      ],
      "source": [
        "# Plotly needs a different renderer for VSCode/Notebooks vs Colab argh\n",
        "import plotly.io as pio\n",
        "if IN_COLAB or not DEVELOPMENT_MODE:\n",
        "    pio.renderers.default = \"colab\"\n",
        "else:\n",
        "    pio.renderers.default = \"notebook_connected\"\n",
        "print(f\"Using renderer: {pio.renderers.default}\")"
      ]
    },
    {
      "cell_type": "code",
      "execution_count": 4,
      "metadata": {
        "id": "anPq-ALRbXgc",
        "outputId": "73b5d64b-b2aa-4fc7-976a-038d9e3c71cb"
      },
      "outputs": [],
      "source": [
        "# import circuitsvis as cv\n",
        "# # Testing that the library works\n",
        "# cv.examples.hello(\"Neel\")"
      ]
    },
    {
      "cell_type": "code",
      "execution_count": 5,
      "metadata": {
        "id": "aEMoxsrBbXgd"
      },
      "outputs": [],
      "source": [
        "# Import stuff\n",
        "import torch\n",
        "import torch.nn as nn\n",
        "import torch.nn.functional as F\n",
        "import torch.optim as optim\n",
        "import numpy as np\n",
        "import einops\n",
        "from fancy_einsum import einsum\n",
        "import tqdm.auto as tqdm\n",
        "import random\n",
        "from pathlib import Path\n",
        "import plotly.express as px\n",
        "from torch.utils.data import DataLoader\n",
        "\n",
        "# from torchtyping import TensorType as TT\n",
        "from typing import List, Union, Optional\n",
        "from functools import partial\n",
        "import copy\n",
        "\n",
        "import itertools\n",
        "from transformers import AutoModelForCausalLM, AutoConfig, AutoTokenizer\n",
        "import dataclasses\n",
        "import datasets\n",
        "from IPython.display import HTML"
      ]
    },
    {
      "cell_type": "code",
      "execution_count": 6,
      "metadata": {
        "id": "Jj0TcTbvbXge"
      },
      "outputs": [],
      "source": [
        "import transformer_lens\n",
        "import transformer_lens.utils as utils\n",
        "from transformer_lens.hook_points import (\n",
        "    HookedRootModule,\n",
        "    HookPoint,\n",
        ")  # Hooking utilities\n",
        "from transformer_lens import HookedTransformer, HookedTransformerConfig, FactoredMatrix, ActivationCache"
      ]
    },
    {
      "cell_type": "markdown",
      "metadata": {
        "id": "h9SfIVQsbXge"
      },
      "source": [
        "We turn automatic differentiation off, to save GPU memory, as this notebook focuses on model inference not model training."
      ]
    },
    {
      "cell_type": "code",
      "execution_count": 7,
      "metadata": {
        "id": "i5RcjQrNbXgf",
        "outputId": "a77bb96d-a1ae-4daf-a1ba-523cea23ca3b"
      },
      "outputs": [
        {
          "data": {
            "text/plain": [
              "<torch.autograd.grad_mode.set_grad_enabled at 0x210383426e0>"
            ]
          },
          "execution_count": 7,
          "metadata": {},
          "output_type": "execute_result"
        }
      ],
      "source": [
        "torch.set_grad_enabled(False)"
      ]
    },
    {
      "cell_type": "markdown",
      "metadata": {
        "id": "ieBXu2nxbXgf"
      },
      "source": [
        "Plotting helper functions:"
      ]
    },
    {
      "cell_type": "code",
      "execution_count": 8,
      "metadata": {
        "id": "6CrxluhgbXgg"
      },
      "outputs": [],
      "source": [
        "def imshow(tensor, renderer=None, xaxis=\"\", yaxis=\"\", **kwargs):\n",
        "    px.imshow(utils.to_numpy(tensor), color_continuous_midpoint=0.0, color_continuous_scale=\"RdBu\", labels={\"x\":xaxis, \"y\":yaxis}, **kwargs).show(renderer)\n",
        "\n",
        "def line(tensor, renderer=None, xaxis=\"\", yaxis=\"\", **kwargs):\n",
        "    px.line(utils.to_numpy(tensor), labels={\"x\":xaxis, \"y\":yaxis}, **kwargs).show(renderer)\n",
        "\n",
        "def scatter(x, y, xaxis=\"\", yaxis=\"\", caxis=\"\", renderer=None, **kwargs):\n",
        "    x = utils.to_numpy(x)\n",
        "    y = utils.to_numpy(y)\n",
        "    px.scatter(y=y, x=x, labels={\"x\":xaxis, \"y\":yaxis, \"color\":caxis}, **kwargs).show(renderer)"
      ]
    },
    {
      "cell_type": "markdown",
      "metadata": {
        "id": "QpKLzvk2bXgg"
      },
      "source": [
        "# Othello GPT"
      ]
    },
    {
      "cell_type": "code",
      "execution_count": 9,
      "metadata": {
        "id": "gj7MSqZebXgg"
      },
      "outputs": [],
      "source": [
        "LOAD_AND_CONVERT_CHECKPOINT = True"
      ]
    },
    {
      "cell_type": "code",
      "execution_count": null,
      "metadata": {
        "id": "W0q1WEeIbXgg"
      },
      "outputs": [],
      "source": [
        "import transformer_lens.utils as utils\n",
        "cfg = HookedTransformerConfig(\n",
        "    n_layers = 8,\n",
        "    d_model = 512,\n",
        "    d_head = 64,\n",
        "    n_heads = 8,\n",
        "    d_mlp = 2048,\n",
        "    d_vocab = 61,\n",
        "    n_ctx = 59,\n",
        "    act_fn=\"gelu\",\n",
        "    normalization_type=\"LNPre\"\n",
        ")\n",
        "model = HookedTransformer(cfg)"
      ]
    },
    {
      "cell_type": "code",
      "execution_count": null,
      "metadata": {
        "id": "ZhmDnKtkbXgg"
      },
      "outputs": [],
      "source": [
        "\n",
        "sd = utils.download_file_from_hf(\"NeelNanda/Othello-GPT-Transformer-Lens\", \"synthetic_model.pth\")\n",
        "# champion_ship_sd = utils.download_file_from_hf(\"NeelNanda/Othello-GPT-Transformer-Lens\", \"championship_model.pth\")\n",
        "model.load_state_dict(sd)"
      ]
    },
    {
      "cell_type": "markdown",
      "metadata": {
        "id": "ccZaKK50bXgg"
      },
      "source": [
        "Code to load and convert one of the author's checkpoints to TransformerLens:"
      ]
    },
    {
      "cell_type": "code",
      "execution_count": null,
      "metadata": {
        "id": "6rmmgzSrbXgg"
      },
      "outputs": [],
      "source": [
        "def convert_to_transformer_lens_format(in_sd, n_layers=8, n_heads=8):\n",
        "    out_sd = {}\n",
        "    out_sd[\"pos_embed.W_pos\"] = in_sd[\"pos_emb\"].squeeze(0)\n",
        "    out_sd[\"embed.W_E\"] = in_sd[\"tok_emb.weight\"]\n",
        "\n",
        "    out_sd[\"ln_final.w\"] = in_sd[\"ln_f.weight\"]\n",
        "    out_sd[\"ln_final.b\"] = in_sd[\"ln_f.bias\"]\n",
        "    out_sd[\"unembed.W_U\"] = in_sd[\"head.weight\"].T\n",
        "\n",
        "    for layer in range(n_layers):\n",
        "        out_sd[f\"blocks.{layer}.ln1.w\"] = in_sd[f\"blocks.{layer}.ln1.weight\"]\n",
        "        out_sd[f\"blocks.{layer}.ln1.b\"] = in_sd[f\"blocks.{layer}.ln1.bias\"]\n",
        "        out_sd[f\"blocks.{layer}.ln2.w\"] = in_sd[f\"blocks.{layer}.ln2.weight\"]\n",
        "        out_sd[f\"blocks.{layer}.ln2.b\"] = in_sd[f\"blocks.{layer}.ln2.bias\"]\n",
        "\n",
        "        out_sd[f\"blocks.{layer}.attn.W_Q\"] = einops.rearrange(\n",
        "            in_sd[f\"blocks.{layer}.attn.query.weight\"], \"(head d_head) d_model -> head d_model d_head\", head=n_heads\n",
        "        )\n",
        "        out_sd[f\"blocks.{layer}.attn.b_Q\"] = einops.rearrange(\n",
        "            in_sd[f\"blocks.{layer}.attn.query.bias\"], \"(head d_head) -> head d_head\", head=n_heads\n",
        "        )\n",
        "        out_sd[f\"blocks.{layer}.attn.W_K\"] = einops.rearrange(\n",
        "            in_sd[f\"blocks.{layer}.attn.key.weight\"], \"(head d_head) d_model -> head d_model d_head\", head=n_heads\n",
        "        )\n",
        "        out_sd[f\"blocks.{layer}.attn.b_K\"] = einops.rearrange(\n",
        "            in_sd[f\"blocks.{layer}.attn.key.bias\"], \"(head d_head) -> head d_head\", head=n_heads\n",
        "        )\n",
        "        out_sd[f\"blocks.{layer}.attn.W_V\"] = einops.rearrange(\n",
        "            in_sd[f\"blocks.{layer}.attn.value.weight\"], \"(head d_head) d_model -> head d_model d_head\", head=n_heads\n",
        "        )\n",
        "        out_sd[f\"blocks.{layer}.attn.b_V\"] = einops.rearrange(\n",
        "            in_sd[f\"blocks.{layer}.attn.value.bias\"], \"(head d_head) -> head d_head\", head=n_heads\n",
        "        )\n",
        "        out_sd[f\"blocks.{layer}.attn.W_O\"] = einops.rearrange(\n",
        "            in_sd[f\"blocks.{layer}.attn.proj.weight\"], \"d_model (head d_head) -> head d_head d_model\", head=n_heads\n",
        "        )\n",
        "        out_sd[f\"blocks.{layer}.attn.b_O\"] = in_sd[f\"blocks.{layer}.attn.proj.bias\"]\n",
        "\n",
        "        out_sd[f\"blocks.{layer}.mlp.b_in\"] = in_sd[f\"blocks.{layer}.mlp.0.bias\"]\n",
        "        out_sd[f\"blocks.{layer}.mlp.W_in\"] = in_sd[f\"blocks.{layer}.mlp.0.weight\"].T\n",
        "        out_sd[f\"blocks.{layer}.mlp.b_out\"] = in_sd[f\"blocks.{layer}.mlp.2.bias\"]\n",
        "        out_sd[f\"blocks.{layer}.mlp.W_out\"] = in_sd[f\"blocks.{layer}.mlp.2.weight\"].T\n",
        "\n",
        "    return out_sd\n",
        "\n",
        "if LOAD_AND_CONVERT_CHECKPOINT:\n",
        "\n",
        "    synthetic_checkpoint = torch.load(\"gpt_synthetic.ckpt\")\n",
        "    for name, param in synthetic_checkpoint.items():\n",
        "        if name.startswith(\"blocks.0\") or not name.startswith(\"blocks\"):\n",
        "            print(name, param.shape)\n",
        "\n",
        "    cfg = HookedTransformerConfig(\n",
        "        n_layers = 8,\n",
        "        d_model = 512,\n",
        "        d_head = 64,\n",
        "        n_heads = 8,\n",
        "        d_mlp = 2048,\n",
        "        d_vocab = 61,\n",
        "        n_ctx = 59,\n",
        "        act_fn=\"gelu\",\n",
        "        normalization_type=\"LNPre\"\n",
        "    )\n",
        "    model = HookedTransformer(cfg)\n",
        "\n",
        "\n",
        "    model.load_and_process_state_dict(convert_to_transformer_lens_format(synthetic_checkpoint))\n"
      ]
    },
    {
      "cell_type": "markdown",
      "metadata": {
        "id": "A7ZiVbDJbXgg"
      },
      "source": [
        "Testing code for the synthetic checkpoint giving the correct outputs"
      ]
    },
    {
      "cell_type": "code",
      "execution_count": null,
      "metadata": {
        "id": "vg7uJTM_bXgg",
        "outputId": "781e4fa5-4689-4b95-c89b-af3631a4d2b3"
      },
      "outputs": [
        {
          "data": {
            "text/plain": [
              "tensor([[21, 41, 40, 34, 40, 41,  3, 11, 21, 43, 40, 21, 28, 50, 33, 50, 33,  5,\n",
              "         33,  5, 52, 46, 14, 46, 14, 47, 38, 57, 36, 50, 38, 15, 28, 26, 28, 59,\n",
              "         50, 28, 14, 28, 28, 28, 28, 45, 28, 35, 15, 14, 30, 59, 49, 59, 15, 15,\n",
              "         14, 15,  8,  7,  8]], device='cuda:0')"
            ]
          },
          "execution_count": 36,
          "metadata": {},
          "output_type": "execute_result"
        }
      ],
      "source": [
        "# An example input\n",
        "sample_input = torch.tensor([[20, 19, 18, 10, 2, 1, 27, 3, 41, 42, 34, 12, 4, 40, 11, 29, 43, 13, 48, 56, 33, 39, 22, 44, 24, 5, 46, 6, 32, 36, 51, 58, 52, 60, 21, 53, 26, 31, 37, 9, 25, 38, 23, 50, 45, 17, 47, 28, 35, 30, 54, 16, 59, 49, 57, 14, 15, 55, 7]])\n",
        "# The argmax of the output (ie the most likely next move from each position)\n",
        "sample_output = torch.tensor([[21, 41, 40, 34, 40, 41,  3, 11, 21, 43, 40, 21, 28, 50, 33, 50, 33,  5,\n",
        "         33,  5, 52, 46, 14, 46, 14, 47, 38, 57, 36, 50, 38, 15, 28, 26, 28, 59,\n",
        "         50, 28, 14, 28, 28, 28, 28, 45, 28, 35, 15, 14, 30, 59, 49, 59, 15, 15,\n",
        "         14, 15,  8,  7,  8]])\n",
        "model(sample_input).argmax(dim=-1)"
      ]
    }
  ],
  "metadata": {
    "colab": {
      "provenance": []
    },
    "kernelspec": {
      "display_name": "base",
      "language": "python",
      "name": "python3"
    },
    "language_info": {
      "codemirror_mode": {
        "name": "ipython",
        "version": 3
      },
      "file_extension": ".py",
      "mimetype": "text/x-python",
      "name": "python",
      "nbconvert_exporter": "python",
      "pygments_lexer": "ipython3",
      "version": "3.10.13"
    },
    "orig_nbformat": 4,
    "vscode": {
      "interpreter": {
        "hash": "d4d1e4263499bec80672ea0156c357c1ee493ec2b1c70f0acce89fc37c4a6abe"
      }
    }
  },
  "nbformat": 4,
  "nbformat_minor": 0
}
