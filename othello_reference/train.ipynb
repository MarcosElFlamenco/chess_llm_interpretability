{
 "cells": [
  {
   "cell_type": "code",
   "execution_count": 1,
   "metadata": {},
   "outputs": [
    {
     "data": {
      "text/plain": [
       "<All keys matched successfully>"
      ]
     },
     "execution_count": 1,
     "metadata": {},
     "output_type": "execute_result"
    }
   ],
   "source": [
    "import transformer_lens.utils as utils\n",
    "from transformer_lens import HookedTransformer, HookedTransformerConfig\n",
    "from mech_interp_othello_utils import OthelloBoardState\n",
    "import einops\n",
    "import torch\n",
    "from tqdm import tqdm\n",
    "import numpy as np\n",
    "from fancy_einsum import einsum\n",
    "\n",
    "cfg = HookedTransformerConfig(\n",
    "    n_layers=8,\n",
    "    d_model=512,\n",
    "    d_head=64,\n",
    "    n_heads=8,\n",
    "    d_mlp=2048,\n",
    "    d_vocab=61,\n",
    "    n_ctx=59,\n",
    "    act_fn=\"gelu\",\n",
    "    normalization_type=\"LNPre\",\n",
    ")\n",
    "model = HookedTransformer(cfg)\n",
    "\n",
    "\n",
    "sd = utils.download_file_from_hf(\n",
    "    \"NeelNanda/Othello-GPT-Transformer-Lens\", \"synthetic_model.pth\"\n",
    ")\n",
    "# champion_ship_sd = utils.download_file_from_hf(\"NeelNanda/Othello-GPT-Transformer-Lens\", \"championship_model.pth\")\n",
    "model.load_state_dict(sd)"
   ]
  },
  {
   "cell_type": "code",
   "execution_count": 2,
   "metadata": {},
   "outputs": [
    {
     "name": "stdout",
     "output_type": "stream",
     "text": [
      "torch.Size([100000, 60])\n",
      "torch.Size([100000, 60])\n"
     ]
    }
   ],
   "source": [
    "board_seqs_int = torch.tensor(np.load(\"board_seqs_int_small.npy\")).long()\n",
    "board_seqs_string = torch.tensor(np.load(\"board_seqs_string_small.npy\"))\n",
    "print(board_seqs_int.shape)\n",
    "print(board_seqs_string.shape)"
   ]
  },
  {
   "cell_type": "code",
   "execution_count": 3,
   "metadata": {},
   "outputs": [
    {
     "name": "stdout",
     "output_type": "stream",
     "text": [
      "torch.Size([1, 59, 8, 8])\n"
     ]
    }
   ],
   "source": [
    "def seq_to_state_stack(str_moves):\n",
    "    if isinstance(str_moves, torch.Tensor):\n",
    "        str_moves = str_moves.tolist()\n",
    "    board = OthelloBoardState()\n",
    "    states = []\n",
    "    for move in str_moves:\n",
    "        board.umpire(move)\n",
    "        states.append(np.copy(board.state))\n",
    "        # print(type(board.state))\n",
    "        # print(type(np.copy(board.state)))\n",
    "    states = np.stack(states, axis=0)\n",
    "    return states\n",
    "\n",
    "\n",
    "state_stack = torch.tensor(\n",
    "    np.stack([seq_to_state_stack(seq) for seq in board_seqs_string[:1, :-1]])\n",
    ")\n",
    "print(state_stack.shape)"
   ]
  },
  {
   "cell_type": "code",
   "execution_count": 4,
   "metadata": {},
   "outputs": [
    {
     "name": "stdout",
     "output_type": "stream",
     "text": [
      "torch.Size([3, 1, 59, 8, 8, 3])\n",
      "tensor([[ 1.,  1.,  1.],\n",
      "        [ 0., -1.,  0.],\n",
      "        [-1., -1.,  0.],\n",
      "        [ 0.,  0.,  0.]], dtype=torch.float64)\n",
      "tensor([[[0, 0, 1],\n",
      "         [0, 0, 1],\n",
      "         [0, 0, 1]],\n",
      "\n",
      "        [[1, 0, 0],\n",
      "         [0, 1, 0],\n",
      "         [1, 0, 0]],\n",
      "\n",
      "        [[0, 1, 0],\n",
      "         [0, 1, 0],\n",
      "         [1, 0, 0]],\n",
      "\n",
      "        [[1, 0, 0],\n",
      "         [1, 0, 0],\n",
      "         [1, 0, 0]]], dtype=torch.int32)\n"
     ]
    }
   ],
   "source": [
    "layer = 5\n",
    "batch_size = 2\n",
    "lr = 1e-4\n",
    "wd = 0.01\n",
    "pos_start = 5\n",
    "pos_end = model.cfg.n_ctx - 5\n",
    "length = pos_end - pos_start\n",
    "options = 3\n",
    "rows = 8\n",
    "cols = 8\n",
    "num_epochs = 2\n",
    "num_games = 100000\n",
    "x = 0\n",
    "y = 2\n",
    "probe_name = \"main_linear_probe\"\n",
    "# The first mode is blank or not, the second mode is next or prev GIVEN that it is not blank\n",
    "modes = 3\n",
    "alternating = torch.tensor([1 if i%2 == 0 else -1 for i in range(length)], device=\"cuda\")\n",
    "\n",
    "\n",
    "def state_stack_to_one_hot(state_stack):\n",
    "    one_hot = torch.zeros(\n",
    "        modes, # blank vs color (mode)\n",
    "        state_stack.shape[0], # num games\n",
    "        state_stack.shape[1], # num moves\n",
    "        rows, # rows\n",
    "        cols, # cols\n",
    "        options, # the two options\n",
    "        device=state_stack.device,\n",
    "        dtype=torch.int,\n",
    "    )\n",
    "    one_hot[:, ..., 0] = state_stack == 0\n",
    "    one_hot[:, ..., 1] = state_stack == -1\n",
    "    one_hot[:, ..., 2] = state_stack == 1\n",
    "    return one_hot\n",
    "state_stack_one_hot = state_stack_to_one_hot(state_stack)\n",
    "print(state_stack_one_hot.shape)\n",
    "# print((state_stack_one_hot[:, 0, 17, 4:9, 2:5]))\n",
    "print((state_stack[0, 17, 4:9, 2:5]))\n",
    "print((state_stack_one_hot[0, 0, 17, 4:9, 2:5]))"
   ]
  },
  {
   "cell_type": "code",
   "execution_count": 5,
   "metadata": {},
   "outputs": [
    {
     "name": "stderr",
     "output_type": "stream",
     "text": [
      "  0%|          | 1/50000 [00:03<46:19:27,  3.34s/it]"
     ]
    },
    {
     "name": "stdout",
     "output_type": "stream",
     "text": [
      "torch.Size([2, 49, 512])\n",
      "epoch 0, batch 0, acc_blank 0.3442282974720001, acc_color 0.3308354616165161, loss_even 88.71865844726562, loss_odd 92.50392150878906, loss_all 91.27967834472656\n"
     ]
    },
    {
     "name": "stderr",
     "output_type": "stream",
     "text": [
      "  0%|          | 5/50000 [00:03<6:35:33,  2.11it/s] "
     ]
    },
    {
     "name": "stdout",
     "output_type": "stream",
     "text": [
      "torch.Size([2, 49, 512])\n",
      "torch.Size([2, 49, 512])\n",
      "torch.Size([2, 49, 512])\n",
      "torch.Size([2, 49, 512])\n",
      "torch.Size([2, 49, 512])\n"
     ]
    },
    {
     "name": "stderr",
     "output_type": "stream",
     "text": [
      "  0%|          | 13/50000 [00:03<1:43:58,  8.01it/s]"
     ]
    },
    {
     "name": "stdout",
     "output_type": "stream",
     "text": [
      "torch.Size([2, 49, 512])\n",
      "torch.Size([2, 49, 512])\n",
      "torch.Size([2, 49, 512])\n",
      "torch.Size([2, 49, 512])\n",
      "torch.Size([2, 49, 512])\n",
      "torch.Size([2, 49, 512])\n",
      "torch.Size([2, 49, 512])\n",
      "torch.Size([2, 49, 512])\n",
      "torch.Size([2, 49, 512])\n"
     ]
    },
    {
     "name": "stderr",
     "output_type": "stream",
     "text": [
      "  0%|          | 17/50000 [00:03<1:11:53, 11.59it/s]"
     ]
    },
    {
     "name": "stdout",
     "output_type": "stream",
     "text": [
      "torch.Size([2, 49, 512])\n",
      "torch.Size([2, 49, 512])\n",
      "torch.Size([2, 49, 512])\n",
      "torch.Size([2, 49, 512])\n"
     ]
    },
    {
     "name": "stderr",
     "output_type": "stream",
     "text": [
      "  0%|          | 19/50000 [00:05<3:57:26,  3.51it/s]\n"
     ]
    },
    {
     "ename": "KeyboardInterrupt",
     "evalue": "",
     "output_type": "error",
     "traceback": [
      "\u001b[1;31m---------------------------------------------------------------------------\u001b[0m",
      "\u001b[1;31mKeyboardInterrupt\u001b[0m                         Traceback (most recent call last)",
      "Cell \u001b[1;32mIn[5], line 21\u001b[0m\n\u001b[0;32m     19\u001b[0m state_stack_one_hot \u001b[39m=\u001b[39m state_stack_to_one_hot(state_stack)\u001b[39m.\u001b[39mcuda()\n\u001b[0;32m     20\u001b[0m \u001b[39mwith\u001b[39;00m torch\u001b[39m.\u001b[39minference_mode():\n\u001b[1;32m---> 21\u001b[0m     _, cache \u001b[39m=\u001b[39m model\u001b[39m.\u001b[39;49mrun_with_cache(games_int\u001b[39m.\u001b[39;49mcuda()[:, :\u001b[39m-\u001b[39;49m\u001b[39m1\u001b[39;49m], return_type\u001b[39m=\u001b[39;49m\u001b[39mNone\u001b[39;49;00m)\n\u001b[0;32m     22\u001b[0m     resid_post \u001b[39m=\u001b[39m cache[\u001b[39m\"\u001b[39m\u001b[39mresid_post\u001b[39m\u001b[39m\"\u001b[39m, layer][:, pos_start:pos_end]\n\u001b[0;32m     23\u001b[0m     \u001b[39mprint\u001b[39m(resid_post\u001b[39m.\u001b[39mshape)\n",
      "File \u001b[1;32mc:\\Users\\adamk\\anaconda3\\envs\\interp\\lib\\site-packages\\transformer_lens\\HookedTransformer.py:634\u001b[0m, in \u001b[0;36mHookedTransformer.run_with_cache\u001b[1;34m(self, return_cache_object, remove_batch_dim, *model_args, **kwargs)\u001b[0m\n\u001b[0;32m    617\u001b[0m \u001b[39mdef\u001b[39;00m \u001b[39mrun_with_cache\u001b[39m(\n\u001b[0;32m    618\u001b[0m     \u001b[39mself\u001b[39m, \u001b[39m*\u001b[39mmodel_args, return_cache_object\u001b[39m=\u001b[39m\u001b[39mTrue\u001b[39;00m, remove_batch_dim\u001b[39m=\u001b[39m\u001b[39mFalse\u001b[39;00m, \u001b[39m*\u001b[39m\u001b[39m*\u001b[39mkwargs\n\u001b[0;32m    619\u001b[0m ) \u001b[39m-\u001b[39m\u001b[39m>\u001b[39m Tuple[\n\u001b[1;32m   (...)\u001b[0m\n\u001b[0;32m    626\u001b[0m     Union[ActivationCache, Dict[\u001b[39mstr\u001b[39m, torch\u001b[39m.\u001b[39mTensor]],\n\u001b[0;32m    627\u001b[0m ]:\n\u001b[0;32m    628\u001b[0m \u001b[39m    \u001b[39m\u001b[39m\"\"\"Wrapper around `run_with_cache` in HookedRootModule.\u001b[39;00m\n\u001b[0;32m    629\u001b[0m \n\u001b[0;32m    630\u001b[0m \u001b[39m    If return_cache_object is True, this will return an ActivationCache object, with a bunch of\u001b[39;00m\n\u001b[0;32m    631\u001b[0m \u001b[39m    useful HookedTransformer specific methods, otherwise it will return a dictionary of\u001b[39;00m\n\u001b[0;32m    632\u001b[0m \u001b[39m    activations as in HookedRootModule.\u001b[39;00m\n\u001b[0;32m    633\u001b[0m \u001b[39m    \"\"\"\u001b[39;00m\n\u001b[1;32m--> 634\u001b[0m     out, cache_dict \u001b[39m=\u001b[39m \u001b[39msuper\u001b[39m()\u001b[39m.\u001b[39mrun_with_cache(\n\u001b[0;32m    635\u001b[0m         \u001b[39m*\u001b[39mmodel_args, remove_batch_dim\u001b[39m=\u001b[39mremove_batch_dim, \u001b[39m*\u001b[39m\u001b[39m*\u001b[39mkwargs\n\u001b[0;32m    636\u001b[0m     )\n\u001b[0;32m    637\u001b[0m     \u001b[39mif\u001b[39;00m return_cache_object:\n\u001b[0;32m    638\u001b[0m         cache \u001b[39m=\u001b[39m ActivationCache(\n\u001b[0;32m    639\u001b[0m             cache_dict, \u001b[39mself\u001b[39m, has_batch_dim\u001b[39m=\u001b[39m\u001b[39mnot\u001b[39;00m remove_batch_dim\n\u001b[0;32m    640\u001b[0m         )\n",
      "File \u001b[1;32mc:\\Users\\adamk\\anaconda3\\envs\\interp\\lib\\site-packages\\transformer_lens\\hook_points.py:467\u001b[0m, in \u001b[0;36mHookedRootModule.run_with_cache\u001b[1;34m(self, names_filter, device, remove_batch_dim, incl_bwd, reset_hooks_end, clear_contexts, *model_args, **model_kwargs)\u001b[0m\n\u001b[0;32m    457\u001b[0m cache_dict, fwd, bwd \u001b[39m=\u001b[39m \u001b[39mself\u001b[39m\u001b[39m.\u001b[39mget_caching_hooks(\n\u001b[0;32m    458\u001b[0m     names_filter, incl_bwd, device, remove_batch_dim\u001b[39m=\u001b[39mremove_batch_dim\n\u001b[0;32m    459\u001b[0m )\n\u001b[0;32m    461\u001b[0m \u001b[39mwith\u001b[39;00m \u001b[39mself\u001b[39m\u001b[39m.\u001b[39mhooks(\n\u001b[0;32m    462\u001b[0m     fwd_hooks\u001b[39m=\u001b[39mfwd,\n\u001b[0;32m    463\u001b[0m     bwd_hooks\u001b[39m=\u001b[39mbwd,\n\u001b[0;32m    464\u001b[0m     reset_hooks_end\u001b[39m=\u001b[39mreset_hooks_end,\n\u001b[0;32m    465\u001b[0m     clear_contexts\u001b[39m=\u001b[39mclear_contexts,\n\u001b[0;32m    466\u001b[0m ):\n\u001b[1;32m--> 467\u001b[0m     model_out \u001b[39m=\u001b[39m \u001b[39mself\u001b[39m(\u001b[39m*\u001b[39mmodel_args, \u001b[39m*\u001b[39m\u001b[39m*\u001b[39mmodel_kwargs)\n\u001b[0;32m    468\u001b[0m     \u001b[39mif\u001b[39;00m incl_bwd:\n\u001b[0;32m    469\u001b[0m         model_out\u001b[39m.\u001b[39mbackward()\n",
      "File \u001b[1;32mc:\\Users\\adamk\\anaconda3\\envs\\interp\\lib\\site-packages\\torch\\nn\\modules\\module.py:1518\u001b[0m, in \u001b[0;36mModule._wrapped_call_impl\u001b[1;34m(self, *args, **kwargs)\u001b[0m\n\u001b[0;32m   1516\u001b[0m     \u001b[39mreturn\u001b[39;00m \u001b[39mself\u001b[39m\u001b[39m.\u001b[39m_compiled_call_impl(\u001b[39m*\u001b[39margs, \u001b[39m*\u001b[39m\u001b[39m*\u001b[39mkwargs)  \u001b[39m# type: ignore[misc]\u001b[39;00m\n\u001b[0;32m   1517\u001b[0m \u001b[39melse\u001b[39;00m:\n\u001b[1;32m-> 1518\u001b[0m     \u001b[39mreturn\u001b[39;00m \u001b[39mself\u001b[39m\u001b[39m.\u001b[39m_call_impl(\u001b[39m*\u001b[39margs, \u001b[39m*\u001b[39m\u001b[39m*\u001b[39mkwargs)\n",
      "File \u001b[1;32mc:\\Users\\adamk\\anaconda3\\envs\\interp\\lib\\site-packages\\torch\\nn\\modules\\module.py:1527\u001b[0m, in \u001b[0;36mModule._call_impl\u001b[1;34m(self, *args, **kwargs)\u001b[0m\n\u001b[0;32m   1522\u001b[0m \u001b[39m# If we don't have any hooks, we want to skip the rest of the logic in\u001b[39;00m\n\u001b[0;32m   1523\u001b[0m \u001b[39m# this function, and just call forward.\u001b[39;00m\n\u001b[0;32m   1524\u001b[0m \u001b[39mif\u001b[39;00m \u001b[39mnot\u001b[39;00m (\u001b[39mself\u001b[39m\u001b[39m.\u001b[39m_backward_hooks \u001b[39mor\u001b[39;00m \u001b[39mself\u001b[39m\u001b[39m.\u001b[39m_backward_pre_hooks \u001b[39mor\u001b[39;00m \u001b[39mself\u001b[39m\u001b[39m.\u001b[39m_forward_hooks \u001b[39mor\u001b[39;00m \u001b[39mself\u001b[39m\u001b[39m.\u001b[39m_forward_pre_hooks\n\u001b[0;32m   1525\u001b[0m         \u001b[39mor\u001b[39;00m _global_backward_pre_hooks \u001b[39mor\u001b[39;00m _global_backward_hooks\n\u001b[0;32m   1526\u001b[0m         \u001b[39mor\u001b[39;00m _global_forward_hooks \u001b[39mor\u001b[39;00m _global_forward_pre_hooks):\n\u001b[1;32m-> 1527\u001b[0m     \u001b[39mreturn\u001b[39;00m forward_call(\u001b[39m*\u001b[39margs, \u001b[39m*\u001b[39m\u001b[39m*\u001b[39mkwargs)\n\u001b[0;32m   1529\u001b[0m \u001b[39mtry\u001b[39;00m:\n\u001b[0;32m   1530\u001b[0m     result \u001b[39m=\u001b[39m \u001b[39mNone\u001b[39;00m\n",
      "File \u001b[1;32mc:\\Users\\adamk\\anaconda3\\envs\\interp\\lib\\site-packages\\transformer_lens\\HookedTransformer.py:555\u001b[0m, in \u001b[0;36mHookedTransformer.forward\u001b[1;34m(self, input, return_type, loss_per_token, prepend_bos, padding_side, start_at_layer, tokens, shortformer_pos_embed, attention_mask, stop_at_layer, past_kv_cache)\u001b[0m\n\u001b[0;32m    550\u001b[0m     \u001b[39mif\u001b[39;00m shortformer_pos_embed \u001b[39mis\u001b[39;00m \u001b[39mnot\u001b[39;00m \u001b[39mNone\u001b[39;00m:\n\u001b[0;32m    551\u001b[0m         shortformer_pos_embed \u001b[39m=\u001b[39m shortformer_pos_embed\u001b[39m.\u001b[39mto(\n\u001b[0;32m    552\u001b[0m             devices\u001b[39m.\u001b[39mget_device_for_block_index(i, \u001b[39mself\u001b[39m\u001b[39m.\u001b[39mcfg)\n\u001b[0;32m    553\u001b[0m         )\n\u001b[1;32m--> 555\u001b[0m     residual \u001b[39m=\u001b[39m block(\n\u001b[0;32m    556\u001b[0m         residual,\n\u001b[0;32m    557\u001b[0m         \u001b[39m# Cache contains a list of HookedTransformerKeyValueCache objects, one for each\u001b[39;49;00m\n\u001b[0;32m    558\u001b[0m         \u001b[39m# block\u001b[39;49;00m\n\u001b[0;32m    559\u001b[0m         past_kv_cache_entry\u001b[39m=\u001b[39;49mpast_kv_cache[i]\n\u001b[0;32m    560\u001b[0m         \u001b[39mif\u001b[39;49;00m past_kv_cache \u001b[39mis\u001b[39;49;00m \u001b[39mnot\u001b[39;49;00m \u001b[39mNone\u001b[39;49;00m\n\u001b[0;32m    561\u001b[0m         \u001b[39melse\u001b[39;49;00m \u001b[39mNone\u001b[39;49;00m,\n\u001b[0;32m    562\u001b[0m         shortformer_pos_embed\u001b[39m=\u001b[39;49mshortformer_pos_embed,\n\u001b[0;32m    563\u001b[0m         attention_mask\u001b[39m=\u001b[39;49mattention_mask,\n\u001b[0;32m    564\u001b[0m     )  \u001b[39m# [batch, pos, d_model]\u001b[39;00m\n\u001b[0;32m    566\u001b[0m \u001b[39mif\u001b[39;00m stop_at_layer \u001b[39mis\u001b[39;00m \u001b[39mnot\u001b[39;00m \u001b[39mNone\u001b[39;00m:\n\u001b[0;32m    567\u001b[0m     \u001b[39m# When we stop at an early layer, we end here rather than doing further computation\u001b[39;00m\n\u001b[0;32m    568\u001b[0m     \u001b[39mreturn\u001b[39;00m residual\n",
      "File \u001b[1;32mc:\\Users\\adamk\\anaconda3\\envs\\interp\\lib\\site-packages\\torch\\nn\\modules\\module.py:1518\u001b[0m, in \u001b[0;36mModule._wrapped_call_impl\u001b[1;34m(self, *args, **kwargs)\u001b[0m\n\u001b[0;32m   1516\u001b[0m     \u001b[39mreturn\u001b[39;00m \u001b[39mself\u001b[39m\u001b[39m.\u001b[39m_compiled_call_impl(\u001b[39m*\u001b[39margs, \u001b[39m*\u001b[39m\u001b[39m*\u001b[39mkwargs)  \u001b[39m# type: ignore[misc]\u001b[39;00m\n\u001b[0;32m   1517\u001b[0m \u001b[39melse\u001b[39;00m:\n\u001b[1;32m-> 1518\u001b[0m     \u001b[39mreturn\u001b[39;00m \u001b[39mself\u001b[39m\u001b[39m.\u001b[39m_call_impl(\u001b[39m*\u001b[39margs, \u001b[39m*\u001b[39m\u001b[39m*\u001b[39mkwargs)\n",
      "File \u001b[1;32mc:\\Users\\adamk\\anaconda3\\envs\\interp\\lib\\site-packages\\torch\\nn\\modules\\module.py:1527\u001b[0m, in \u001b[0;36mModule._call_impl\u001b[1;34m(self, *args, **kwargs)\u001b[0m\n\u001b[0;32m   1522\u001b[0m \u001b[39m# If we don't have any hooks, we want to skip the rest of the logic in\u001b[39;00m\n\u001b[0;32m   1523\u001b[0m \u001b[39m# this function, and just call forward.\u001b[39;00m\n\u001b[0;32m   1524\u001b[0m \u001b[39mif\u001b[39;00m \u001b[39mnot\u001b[39;00m (\u001b[39mself\u001b[39m\u001b[39m.\u001b[39m_backward_hooks \u001b[39mor\u001b[39;00m \u001b[39mself\u001b[39m\u001b[39m.\u001b[39m_backward_pre_hooks \u001b[39mor\u001b[39;00m \u001b[39mself\u001b[39m\u001b[39m.\u001b[39m_forward_hooks \u001b[39mor\u001b[39;00m \u001b[39mself\u001b[39m\u001b[39m.\u001b[39m_forward_pre_hooks\n\u001b[0;32m   1525\u001b[0m         \u001b[39mor\u001b[39;00m _global_backward_pre_hooks \u001b[39mor\u001b[39;00m _global_backward_hooks\n\u001b[0;32m   1526\u001b[0m         \u001b[39mor\u001b[39;00m _global_forward_hooks \u001b[39mor\u001b[39;00m _global_forward_pre_hooks):\n\u001b[1;32m-> 1527\u001b[0m     \u001b[39mreturn\u001b[39;00m forward_call(\u001b[39m*\u001b[39margs, \u001b[39m*\u001b[39m\u001b[39m*\u001b[39mkwargs)\n\u001b[0;32m   1529\u001b[0m \u001b[39mtry\u001b[39;00m:\n\u001b[0;32m   1530\u001b[0m     result \u001b[39m=\u001b[39m \u001b[39mNone\u001b[39;00m\n",
      "File \u001b[1;32mc:\\Users\\adamk\\anaconda3\\envs\\interp\\lib\\site-packages\\transformer_lens\\components.py:1189\u001b[0m, in \u001b[0;36mTransformerBlock.forward\u001b[1;34m(self, resid_pre, shortformer_pos_embed, past_kv_cache_entry, attention_mask)\u001b[0m\n\u001b[0;32m   1182\u001b[0m     key_input \u001b[39m=\u001b[39m attn_in\n\u001b[0;32m   1183\u001b[0m     value_input \u001b[39m=\u001b[39m attn_in\n\u001b[0;32m   1185\u001b[0m attn_out \u001b[39m=\u001b[39m \u001b[39mself\u001b[39m\u001b[39m.\u001b[39mhook_attn_out(\n\u001b[0;32m   1186\u001b[0m     \u001b[39m# hook the residual stream states that are used to calculate the\u001b[39;00m\n\u001b[0;32m   1187\u001b[0m     \u001b[39m# queries, keys and values, independently.\u001b[39;00m\n\u001b[0;32m   1188\u001b[0m     \u001b[39m# Then take the layer norm of these inputs, and pass these to the attention module.\u001b[39;00m\n\u001b[1;32m-> 1189\u001b[0m     \u001b[39mself\u001b[39;49m\u001b[39m.\u001b[39;49mattn(\n\u001b[0;32m   1190\u001b[0m         query_input\u001b[39m=\u001b[39;49m\u001b[39mself\u001b[39;49m\u001b[39m.\u001b[39;49mln1(query_input)\n\u001b[0;32m   1191\u001b[0m         \u001b[39m+\u001b[39;49m (\u001b[39m0.0\u001b[39;49m \u001b[39mif\u001b[39;49;00m shortformer_pos_embed \u001b[39mis\u001b[39;49;00m \u001b[39mNone\u001b[39;49;00m \u001b[39melse\u001b[39;49;00m shortformer_pos_embed),\n\u001b[0;32m   1192\u001b[0m         key_input\u001b[39m=\u001b[39;49m\u001b[39mself\u001b[39;49m\u001b[39m.\u001b[39;49mln1(key_input)\n\u001b[0;32m   1193\u001b[0m         \u001b[39m+\u001b[39;49m (\u001b[39m0.0\u001b[39;49m \u001b[39mif\u001b[39;49;00m shortformer_pos_embed \u001b[39mis\u001b[39;49;00m \u001b[39mNone\u001b[39;49;00m \u001b[39melse\u001b[39;49;00m shortformer_pos_embed),\n\u001b[0;32m   1194\u001b[0m         value_input\u001b[39m=\u001b[39;49m\u001b[39mself\u001b[39;49m\u001b[39m.\u001b[39;49mln1(value_input),\n\u001b[0;32m   1195\u001b[0m         past_kv_cache_entry\u001b[39m=\u001b[39;49mpast_kv_cache_entry,\n\u001b[0;32m   1196\u001b[0m         attention_mask\u001b[39m=\u001b[39;49mattention_mask,\n\u001b[0;32m   1197\u001b[0m     )\n\u001b[0;32m   1198\u001b[0m )  \u001b[39m# [batch, pos, d_model]\u001b[39;00m\n\u001b[0;32m   1199\u001b[0m \u001b[39mif\u001b[39;00m \u001b[39mnot\u001b[39;00m \u001b[39mself\u001b[39m\u001b[39m.\u001b[39mcfg\u001b[39m.\u001b[39mattn_only \u001b[39mand\u001b[39;00m \u001b[39mnot\u001b[39;00m \u001b[39mself\u001b[39m\u001b[39m.\u001b[39mcfg\u001b[39m.\u001b[39mparallel_attn_mlp:\n\u001b[0;32m   1200\u001b[0m     resid_mid \u001b[39m=\u001b[39m \u001b[39mself\u001b[39m\u001b[39m.\u001b[39mhook_resid_mid(\n\u001b[0;32m   1201\u001b[0m         resid_pre \u001b[39m+\u001b[39m attn_out\n\u001b[0;32m   1202\u001b[0m     )  \u001b[39m# [batch, pos, d_model]\u001b[39;00m\n",
      "File \u001b[1;32mc:\\Users\\adamk\\anaconda3\\envs\\interp\\lib\\site-packages\\torch\\nn\\modules\\module.py:1518\u001b[0m, in \u001b[0;36mModule._wrapped_call_impl\u001b[1;34m(self, *args, **kwargs)\u001b[0m\n\u001b[0;32m   1516\u001b[0m     \u001b[39mreturn\u001b[39;00m \u001b[39mself\u001b[39m\u001b[39m.\u001b[39m_compiled_call_impl(\u001b[39m*\u001b[39margs, \u001b[39m*\u001b[39m\u001b[39m*\u001b[39mkwargs)  \u001b[39m# type: ignore[misc]\u001b[39;00m\n\u001b[0;32m   1517\u001b[0m \u001b[39melse\u001b[39;00m:\n\u001b[1;32m-> 1518\u001b[0m     \u001b[39mreturn\u001b[39;00m \u001b[39mself\u001b[39m\u001b[39m.\u001b[39m_call_impl(\u001b[39m*\u001b[39margs, \u001b[39m*\u001b[39m\u001b[39m*\u001b[39mkwargs)\n",
      "File \u001b[1;32mc:\\Users\\adamk\\anaconda3\\envs\\interp\\lib\\site-packages\\torch\\nn\\modules\\module.py:1527\u001b[0m, in \u001b[0;36mModule._call_impl\u001b[1;34m(self, *args, **kwargs)\u001b[0m\n\u001b[0;32m   1522\u001b[0m \u001b[39m# If we don't have any hooks, we want to skip the rest of the logic in\u001b[39;00m\n\u001b[0;32m   1523\u001b[0m \u001b[39m# this function, and just call forward.\u001b[39;00m\n\u001b[0;32m   1524\u001b[0m \u001b[39mif\u001b[39;00m \u001b[39mnot\u001b[39;00m (\u001b[39mself\u001b[39m\u001b[39m.\u001b[39m_backward_hooks \u001b[39mor\u001b[39;00m \u001b[39mself\u001b[39m\u001b[39m.\u001b[39m_backward_pre_hooks \u001b[39mor\u001b[39;00m \u001b[39mself\u001b[39m\u001b[39m.\u001b[39m_forward_hooks \u001b[39mor\u001b[39;00m \u001b[39mself\u001b[39m\u001b[39m.\u001b[39m_forward_pre_hooks\n\u001b[0;32m   1525\u001b[0m         \u001b[39mor\u001b[39;00m _global_backward_pre_hooks \u001b[39mor\u001b[39;00m _global_backward_hooks\n\u001b[0;32m   1526\u001b[0m         \u001b[39mor\u001b[39;00m _global_forward_hooks \u001b[39mor\u001b[39;00m _global_forward_pre_hooks):\n\u001b[1;32m-> 1527\u001b[0m     \u001b[39mreturn\u001b[39;00m forward_call(\u001b[39m*\u001b[39margs, \u001b[39m*\u001b[39m\u001b[39m*\u001b[39mkwargs)\n\u001b[0;32m   1529\u001b[0m \u001b[39mtry\u001b[39;00m:\n\u001b[0;32m   1530\u001b[0m     result \u001b[39m=\u001b[39m \u001b[39mNone\u001b[39;00m\n",
      "File \u001b[1;32mc:\\Users\\adamk\\anaconda3\\envs\\interp\\lib\\site-packages\\transformer_lens\\components.py:634\u001b[0m, in \u001b[0;36mAttention.forward\u001b[1;34m(self, query_input, key_input, value_input, past_kv_cache_entry, additive_attention_mask, attention_mask)\u001b[0m\n\u001b[0;32m    631\u001b[0m pattern \u001b[39m=\u001b[39m \u001b[39mself\u001b[39m\u001b[39m.\u001b[39mhook_pattern(pattern)  \u001b[39m# [batch, head_index, query_pos, key_pos]\u001b[39;00m\n\u001b[0;32m    632\u001b[0m pattern \u001b[39m=\u001b[39m pattern\u001b[39m.\u001b[39mto(\u001b[39mself\u001b[39m\u001b[39m.\u001b[39mcfg\u001b[39m.\u001b[39mdtype)\n\u001b[0;32m    633\u001b[0m z \u001b[39m=\u001b[39m \u001b[39mself\u001b[39m\u001b[39m.\u001b[39mhook_z(\n\u001b[1;32m--> 634\u001b[0m     einsum(\n\u001b[0;32m    635\u001b[0m         \u001b[39m\"\u001b[39;49m\u001b[39mbatch key_pos head_index d_head, \u001b[39;49m\u001b[39m\\\u001b[39;49;00m\n\u001b[0;32m    636\u001b[0m \u001b[39m        batch head_index query_pos key_pos -> \u001b[39;49m\u001b[39m\\\u001b[39;49;00m\n\u001b[0;32m    637\u001b[0m \u001b[39m        batch query_pos head_index d_head\u001b[39;49m\u001b[39m\"\u001b[39;49m,\n\u001b[0;32m    638\u001b[0m         v,\n\u001b[0;32m    639\u001b[0m         pattern,\n\u001b[0;32m    640\u001b[0m     )\n\u001b[0;32m    641\u001b[0m )  \u001b[39m# [batch, pos, head_index, d_head]\u001b[39;00m\n\u001b[0;32m    642\u001b[0m \u001b[39mif\u001b[39;00m \u001b[39mnot\u001b[39;00m \u001b[39mself\u001b[39m\u001b[39m.\u001b[39mcfg\u001b[39m.\u001b[39muse_attn_result:\n\u001b[0;32m    643\u001b[0m     out \u001b[39m=\u001b[39m (\n\u001b[0;32m    644\u001b[0m         (\n\u001b[0;32m    645\u001b[0m             einsum(\n\u001b[1;32m   (...)\u001b[0m\n\u001b[0;32m    653\u001b[0m         \u001b[39m+\u001b[39m \u001b[39mself\u001b[39m\u001b[39m.\u001b[39mb_O\n\u001b[0;32m    654\u001b[0m     )  \u001b[39m# [batch, pos, d_model]\u001b[39;00m\n",
      "File \u001b[1;32mc:\\Users\\adamk\\anaconda3\\envs\\interp\\lib\\site-packages\\fancy_einsum\\__init__.py:135\u001b[0m, in \u001b[0;36meinsum\u001b[1;34m(equation, *operands)\u001b[0m\n\u001b[0;32m    128\u001b[0m \u001b[39m\u001b[39m\u001b[39m\"\"\"Evaluates the Einstein summation convention on the operands.\u001b[39;00m\n\u001b[0;32m    129\u001b[0m \u001b[39m\u001b[39;00m\n\u001b[0;32m    130\u001b[0m \u001b[39mSee: \u001b[39;00m\n\u001b[0;32m    131\u001b[0m \u001b[39m  https://pytorch.org/docs/stable/generated/torch.einsum.html\u001b[39;00m\n\u001b[0;32m    132\u001b[0m \u001b[39m  https://numpy.org/doc/stable/reference/generated/numpy.einsum.html\u001b[39;00m\n\u001b[0;32m    133\u001b[0m \u001b[39m\"\"\"\u001b[39;00m\n\u001b[0;32m    134\u001b[0m backend \u001b[39m=\u001b[39m get_backend(operands[\u001b[39m0\u001b[39m])\n\u001b[1;32m--> 135\u001b[0m new_equation \u001b[39m=\u001b[39m convert_equation(equation)\n\u001b[0;32m    136\u001b[0m \u001b[39mreturn\u001b[39;00m backend\u001b[39m.\u001b[39meinsum(new_equation, \u001b[39m*\u001b[39moperands)\n",
      "File \u001b[1;32mc:\\Users\\adamk\\anaconda3\\envs\\interp\\lib\\site-packages\\fancy_einsum\\__init__.py:113\u001b[0m, in \u001b[0;36mconvert_equation\u001b[1;34m(equation)\u001b[0m\n\u001b[0;32m    108\u001b[0m conflicts \u001b[39m=\u001b[39m []\n\u001b[0;32m    109\u001b[0m \u001b[39mfor\u001b[39;00m term \u001b[39min\u001b[39;00m terms:\n\u001b[0;32m    110\u001b[0m     \u001b[39mif\u001b[39;00m (term \u001b[39mnot\u001b[39;00m \u001b[39min\u001b[39;00m SPECIAL \u001b[39mand\u001b[39;00m \n\u001b[0;32m    111\u001b[0m         term \u001b[39mnot\u001b[39;00m \u001b[39min\u001b[39;00m long_to_short \u001b[39mand\u001b[39;00m \n\u001b[0;32m    112\u001b[0m         term \u001b[39mnot\u001b[39;00m \u001b[39min\u001b[39;00m conflicts \u001b[39mand\u001b[39;00m\n\u001b[1;32m--> 113\u001b[0m         \u001b[39mnot\u001b[39;00m try_make_abbr(term)):\n\u001b[0;32m    114\u001b[0m         conflicts\u001b[39m.\u001b[39mappend(term)\n\u001b[0;32m    115\u001b[0m \u001b[39mif\u001b[39;00m conflicts:\n",
      "\u001b[1;31mKeyboardInterrupt\u001b[0m: "
     ]
    }
   ],
   "source": [
    "linear_probe = torch.randn(\n",
    "    modes, model.cfg.d_model, rows, cols, options, requires_grad=False, device=\"cuda\"\n",
    ")/np.sqrt(model.cfg.d_model)\n",
    "linear_probe.requires_grad = True\n",
    "optimiser = torch.optim.AdamW([linear_probe], lr=lr, betas=(0.9, 0.99), weight_decay=wd)\n",
    "\n",
    "\n",
    "for epoch in range(num_epochs):\n",
    "    full_train_indices = torch.randperm(num_games)\n",
    "    for i in tqdm(range(0, num_games, batch_size)):\n",
    "        indices = full_train_indices[i:i+batch_size]\n",
    "        games_int = board_seqs_int[indices]\n",
    "        games_str = board_seqs_string[indices]\n",
    "        state_stack = torch.stack(\n",
    "            [torch.tensor(seq_to_state_stack(games_str[i])) for i in range(batch_size)]\n",
    "        )\n",
    "        state_stack = state_stack[:, pos_start:pos_end, :, :]\n",
    "\n",
    "        state_stack_one_hot = state_stack_to_one_hot(state_stack).cuda()\n",
    "        with torch.inference_mode():\n",
    "            _, cache = model.run_with_cache(games_int.cuda()[:, :-1], return_type=None)\n",
    "            resid_post = cache[\"resid_post\", layer][:, pos_start:pos_end]\n",
    "        probe_out = einsum(\n",
    "            \"batch pos d_model, modes d_model rows cols options -> modes batch pos rows cols options\",\n",
    "            resid_post,\n",
    "            linear_probe,\n",
    "        )\n",
    "        # print(probe_out.shape)\n",
    "\n",
    "        acc_blank = (probe_out[0].argmax(-1) == state_stack_one_hot[0].argmax(-1)).float().mean()\n",
    "        acc_color = ((probe_out[1].argmax(-1) == state_stack_one_hot[1].argmax(-1)) * state_stack_one_hot[1].sum(-1)).float().sum()/(state_stack_one_hot[1]).float().sum()\n",
    "\n",
    "        \n",
    "\n",
    "        probe_log_probs = probe_out.log_softmax(-1)\n",
    "        probe_correct_log_probs = einops.reduce(\n",
    "            probe_log_probs * state_stack_one_hot,\n",
    "            \"modes batch pos rows cols options -> modes pos rows cols\",\n",
    "            \"mean\"\n",
    "        ) * options # Multiply to correct for the mean over options\n",
    "        loss_even = -probe_correct_log_probs[0, 0::2].mean(0).sum() # note that \"even\" means odd in the game framing, since we offset by 5 moves lol\n",
    "        loss_odd = -probe_correct_log_probs[1, 1::2].mean(0).sum()\n",
    "        loss_all = -probe_correct_log_probs[2, :].mean(0).sum()\n",
    "\n",
    "        if i % 100 == 0:\n",
    "            print(f\"epoch {epoch}, batch {i}, acc_blank {acc_blank}, acc_color {acc_color}, loss_even {loss_even}, loss_odd {loss_odd}, loss_all {loss_all}\")\n",
    "        \n",
    "        loss = loss_even + loss_odd + loss_all\n",
    "        loss.backward() # it's important to do a single backward pass for mysterious PyTorch reasons, so we add up the losses - it's per mode and per square.\n",
    "\n",
    "        optimiser.step()\n",
    "        optimiser.zero_grad()\n",
    "torch.save(linear_probe, f\"{probe_name}.pth\")"
   ]
  }
 ],
 "metadata": {
  "kernelspec": {
   "display_name": "interp",
   "language": "python",
   "name": "python3"
  },
  "language_info": {
   "codemirror_mode": {
    "name": "ipython",
    "version": 3
   },
   "file_extension": ".py",
   "mimetype": "text/x-python",
   "name": "python",
   "nbconvert_exporter": "python",
   "pygments_lexer": "ipython3",
   "version": "3.10.13"
  },
  "orig_nbformat": 4
 },
 "nbformat": 4,
 "nbformat_minor": 2
}
