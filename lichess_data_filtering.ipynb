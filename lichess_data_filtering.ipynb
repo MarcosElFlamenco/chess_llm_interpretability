{
 "cells": [
  {
   "cell_type": "code",
   "execution_count": 1,
   "metadata": {},
   "outputs": [],
   "source": [
    "import chess\n",
    "import numpy as np\n",
    "import pandas as pd\n",
    "import pickle\n",
    "from datasets import load_dataset\n",
    "import os"
   ]
  },
  {
   "cell_type": "markdown",
   "metadata": {},
   "source": [
    "Our data begins as a bunch of PGN transcripts. However, to work in tensors we need all transcripts to be the same length. So, this file takes our PGNs and performs some filtering.\n",
    "\n",
    "This notebook has a very similar counterpart, `stockfish_data_filtering.ipynb`. The lichess and stockfish datasets have a slightly different structure and different column names. For most peoples' needs, the lichess dataset alone should suffice, so I made two separate notebooks to keep this one simple."
   ]
  },
  {
   "cell_type": "code",
   "execution_count": 2,
   "metadata": {},
   "outputs": [],
   "source": [
    "DATA_DIR = \"data/\"\n",
    "prefix = \"lichess_\"\n",
    "# prefix = \"lichess_200k_bins_\"\n",
    "\n",
    "\n",
    "input_file = f'{DATA_DIR}{prefix}100mb.csv'\n",
    "output_file = input_file.replace(\".csv\", \"_filtered.csv\")"
   ]
  },
  {
   "cell_type": "markdown",
   "metadata": {},
   "source": [
    "First, we download the dataset if not present."
   ]
  },
  {
   "cell_type": "code",
   "execution_count": 3,
   "metadata": {},
   "outputs": [
    {
     "data": {
      "application/vnd.jupyter.widget-view+json": {
       "model_id": "ed3d43db2b684dc88861108c324955a6",
       "version_major": 2,
       "version_minor": 0
      },
      "text/plain": [
       "Downloading readme:   0%|          | 0.00/1.42k [00:00<?, ?B/s]"
      ]
     },
     "metadata": {},
     "output_type": "display_data"
    },
    {
     "name": "stderr",
     "output_type": "stream",
     "text": [
      "c:\\Users\\adamk\\anaconda3\\envs\\interp\\lib\\site-packages\\huggingface_hub\\repocard.py:105: UserWarning: Repo card metadata block was not found. Setting CardData to empty.\n",
      "  warnings.warn(\"Repo card metadata block was not found. Setting CardData to empty.\")\n"
     ]
    },
    {
     "data": {
      "application/vnd.jupyter.widget-view+json": {
       "model_id": "9e46934a04a94bba915a1528dcc0fc65",
       "version_major": 2,
       "version_minor": 0
      },
      "text/plain": [
       "Downloading data files:   0%|          | 0/1 [00:00<?, ?it/s]"
      ]
     },
     "metadata": {},
     "output_type": "display_data"
    },
    {
     "data": {
      "application/vnd.jupyter.widget-view+json": {
       "model_id": "56a9d391f92c490d987f6c0e61a5056b",
       "version_major": 2,
       "version_minor": 0
      },
      "text/plain": [
       "Downloading data:   0%|          | 0.00/45.6M [00:00<?, ?B/s]"
      ]
     },
     "metadata": {},
     "output_type": "display_data"
    },
    {
     "data": {
      "application/vnd.jupyter.widget-view+json": {
       "model_id": "2ae7995929f54baabc5bca4fd29c2ad8",
       "version_major": 2,
       "version_minor": 0
      },
      "text/plain": [
       "Extracting data files:   0%|          | 0/1 [00:00<?, ?it/s]"
      ]
     },
     "metadata": {},
     "output_type": "display_data"
    },
    {
     "data": {
      "application/vnd.jupyter.widget-view+json": {
       "model_id": "590bfc8abb2e48d6a83be9eaa2ff0484",
       "version_major": 2,
       "version_minor": 0
      },
      "text/plain": [
       "Generating train split: 0 examples [00:00, ? examples/s]"
      ]
     },
     "metadata": {},
     "output_type": "display_data"
    }
   ],
   "source": [
    "if not os.path.exists(input_file):\n",
    "    dataset_path = \"adamkarvonen/chess_games\"\n",
    "    file_path = f\"{prefix}100mb.zip\"\n",
    "    dataset = load_dataset(dataset_path, data_files=file_path)\n",
    "    df = pd.DataFrame(dataset['train'])\n",
    "    df.to_csv(input_file, index=False)"
   ]
  },
  {
   "cell_type": "markdown",
   "metadata": {},
   "source": [
    "Our LLMs need a delimiter token \";\" at the beginning of every PGN string or it won't work as well."
   ]
  },
  {
   "cell_type": "code",
   "execution_count": 4,
   "metadata": {},
   "outputs": [
    {
     "name": "stdout",
     "output_type": "stream",
     "text": [
      ";1.d4 e6 2.Nf3 Qf6 3.Qd3 Bd6 4.c4 b6 5.c5 Be7 6.cxb6 axb6 7.Nc3 Bb7 8.e4 Bd8 9.e5 Qf5 10.Be2 Bxf3 11.Qxf5 exf5 12.Bxf3 c6 13.Bxc6 Nxc6 14.Nb5 Ra7 15.Nd6+ Ke7 16.Nb7 Bc7 17.Bg5+ Ke6 18.d5+ Kxe5 19.dxc6 dxc6 20.Nd8 Bxd8 21.Be3 Bh4 22.O-O Ra6 23.g3 Bd8 24.f4+ Ke6 25.Rad1 Nf6 26.Rxd8 Rxd8 27.Bd4 c5 28.Bxf6 gxf6 29.Rf3 Rd2 30.Rf2 Rd1+ 31.Rf1 Rxf1+ 32.Kxf1 Rxa2 33.Kf2 Rxb2+ 34.Kf3 c4 35.Ke3 c3 36.Kd3 c2 37.Kd2 b5 38.Kc1 b4\n",
      "\n",
      ";1.e4 d5 2.exd5 Qxd5 3.Nc3 Qd8 4.Nf3 Nf6 5.d4 c5 6.d5 e6 7.dxe6 Qxd1+ 8.Nxd1 Bxe6 9.Bg5 Nbd7 10.Bb5 Be7 11.Ne3 a6 12.Bxd7+ Nxd7 13.Bxe7 Kxe7 14.O-O-O Rhe8 15.Rhe1 Rad8 16.Nd5+ Kf8 17.Nc7 Re7 18.Nxe6+ Rxe6 19.Rxe6 fxe6 20.Ne5 Ke7 21.Nc4 b6 22.f4 b5 23.Na5 Ke8 24.Nc6 Rc8 25.Na5 e5 26.fxe5 c4 27.Re1 Ke7 28.e6 Nc5 29.b3 c3 30.a3 Nxe6 31.b4 Kf6 32.Nb3 Rd8 33.Rf1+ Kg6 34.Kb1 Rd6 35.h3 Rd5 36.g4 h5 37.gxh5+ Rxh5 38.Rh1 Nf4 39.h4 Kh6 40.Rg1 Rxh4 41.Rf1 Ne2 42.Nc5 Rh2 43.Re1 g5 44.Ne4 g4 45.Nf6 Kg5 46.Ne4+ Kf4 47.Nd6 Ke3 48.Rd1 g3 49.Rd3+ Kf2\n",
      "\n",
      ";1.g3 d6 2.Bg2 c6 3.c4 f6 4.d4 Be6 5.b3 Bf7 6.Nc3 e6 7.Bb2 Ne7 8.e4 g6 9.Nge2 Bg7 10.O-O O-O 11.f4 Nd7 12.Re1 Re8 13.g4 Qc7 14.h4 Rad8 15.Ng3 e5 16.dxe5 dxe5 17.Qf3 exf4 18.Nge2 Nc5 19.Nxf4 g5 20.hxg5 fxg5 21.Nh3 Nd3 22.Reb1 Nxb2 23.Rxb2 h6 24.Rf1 Be6 25.Rbf2 Rf8 26.Qe2 Rxf2 27.Rxf2 Qd7 28.Na4 Qd1+ 29.Kh2 Qxe2 30.Rxe2 Bxg4 31.Rf2 Rd3 32.Nc5 Rd1 33.Nxb7 Be5+\n",
      "\n",
      ";1.e4 e5 2.Nf3 Nc6 3.d4 exd4 4.Nxd4 Qf6 5.Nxc6 Qxc6 6.c3 Qxe4+ 7.Be2 Qxg2 8.Rf1 Qxh2 9.f3 Qg3+ 10.Rf2 Bc5 11.Kd2 Qxf2 12.Kc2 d6 13.Nd2 Bf5+ 14.Bd3 Bxd3+ 15.Kxd3 Qe3+ 16.Kc2 Qg1 17.Qe2+ Qe3 18.Qg2 g6 19.b4 Bb6 20.Bb2 O-O-O 21.c4 d5 22.Bxh8 dxc4 23.Nxc4 Qd3+ 24.Kb2 Bd4+ 25.Kc1 Be3+ 26.Nxe3 Qxe3+ 27.Kb2 Rd2+ 28.Qxd2 Qxd2+ 29.Ka3 f6 30.f4 Qc3+ 31.Ka4 Qxa1 32.b5 Qxa2+ 33.Kb4 a5+ 34.Kc5 a4 35.Bxf6 Nxf6 36.Kd4 Qc2 37.Ke3 a3 38.Kf3 Qe4+ 39.Kg3 a2 40.f5 gxf5 41.Kf2 a1=Q 42.b6 Qb2+ 43.Kg3 Qbe2 44.Kh3 Q4g4#\n",
      "\n",
      ";1.e3 e5 2.Qg4 Nf6 3.Qg3 Ne4 4.Qxe5+ Qe7 5.Qf4 Nc6 6.Qxc7 Nb4 7.Kd1 Nxf2+ 8.Ke1 Nxh1 9.Qc3 Qh4+ 10.g3 Qxh2 11.Nf3 Qxg3+ 12.Ke2 Qf2+ 13.Kd1 Qxf1+ 14.Ne1 Nf2#\n",
      "\n"
     ]
    }
   ],
   "source": [
    "df = pd.read_csv(input_file)\n",
    "\n",
    "def format_transcript(game: str) -> str:\n",
    "    new_game = ';' + game\n",
    "    return new_game\n",
    "\n",
    "df['transcript'] = df['transcript'].apply(format_transcript)\n",
    "\n",
    "for game in df.head()['transcript']:\n",
    "    print(game)\n",
    "    print()"
   ]
  },
  {
   "cell_type": "markdown",
   "metadata": {},
   "source": [
    "Filter all games to be len 365. This means we discard anything under that length. I chose 365 because that's the 50% of df.describe(). I also count the number of moves (with x.split()) and discard anything below the 25th percentile. This makes it easier if I want to do any move based indexing."
   ]
  },
  {
   "cell_type": "code",
   "execution_count": 5,
   "metadata": {},
   "outputs": [
    {
     "name": "stdout",
     "output_type": "stream",
     "text": [
      "count    258000.000000\n",
      "mean        393.949275\n",
      "std         164.818565\n",
      "min         137.000000\n",
      "25%         270.000000\n",
      "50%         365.000000\n",
      "75%         491.000000\n",
      "max        2361.000000\n",
      "Name: transcript, dtype: float64\n",
      "count    129151.0\n",
      "mean        365.0\n",
      "std           0.0\n",
      "min         365.0\n",
      "25%         365.0\n",
      "50%         365.0\n",
      "75%         365.0\n",
      "max         365.0\n",
      "Name: transcript, dtype: float64\n",
      "move count count    129151.000000\n",
      "mean         66.530023\n",
      "std           1.209119\n",
      "min          62.000000\n",
      "25%          66.000000\n",
      "50%          67.000000\n",
      "75%          67.000000\n",
      "max          72.000000\n",
      "Name: transcript, dtype: float64\n",
      "quarter percentile 66.0\n",
      "       Unnamed: 0.1    Unnamed: 0       WhiteElo       BlackElo\n",
      "count  4.909300e+04  1.010570e+05  101057.000000  101057.000000\n",
      "mean   8.160979e+06  8.053154e+06    1816.450696    1797.667633\n",
      "std    4.767164e+06  6.198925e+06     407.422681     370.036528\n",
      "min    7.640000e+02  3.400000e+01     780.000000     759.000000\n",
      "25%    4.031268e+06  3.059881e+06    1501.000000    1527.000000\n",
      "50%    8.133624e+06  6.355049e+06    1857.000000    1827.000000\n",
      "75%    1.227051e+07  1.176525e+07    2150.000000    2079.000000\n",
      "max    1.649175e+07  2.278305e+07    3161.000000    3121.000000\n",
      "    Unnamed: 0.1  Unnamed: 0  WhiteElo  BlackElo Result  \\\n",
      "1            NaN    17636104      2061      2048    0-1   \n",
      "6       240358.0      240358      1824      1843    1-0   \n",
      "8            NaN     6682990      2415      2154    0-1   \n",
      "13           NaN     3379655      2016      1826    0-1   \n",
      "16     2856389.0     2856389      1297      1450    0-1   \n",
      "\n",
      "                                           transcript       elo_bin  \n",
      "1   ;1.e4 d5 2.exd5 Qxd5 3.Nc3 Qd8 4.Nf3 Nf6 5.d4 ...  [2000, 2100)  \n",
      "6   ;1.c4 e5 2.e3 d6 3.b3 Nf6 4.Bb2 Be6 5.Nc3 c6 6...  [1800, 1900)  \n",
      "8   ;1.d4 c5 2.c4 cxd4 3.Nf3 d5 4.cxd5 Nf6 5.Qxd4 ...  [2400, 2500)  \n",
      "13  ;1.e4 e5 2.Nf3 d6 3.Bc4 Be7 4.O-O Nf6 5.d3 h6 ...  [2000, 2100)  \n",
      "16  ;1.c4 d6 2.d4 Bf5 3.Nc3 c6 4.e4 Bg6 5.d5 Nf6 6...  [1200, 1300)  \n",
      "count    101057.000000\n",
      "mean         67.008045\n",
      "std           0.869654\n",
      "min          66.000000\n",
      "25%          66.000000\n",
      "50%          67.000000\n",
      "75%          67.000000\n",
      "max          72.000000\n",
      "Name: transcript, dtype: float64\n"
     ]
    }
   ],
   "source": [
    "len_df = df['transcript'].apply(lambda x: len(x))\n",
    "print(len_df.describe())\n",
    "\n",
    "game_length_in_chars = 365\n",
    "\n",
    "# Data setup. All games must have same length. 50% are >= 690 moves. I will discard all games less than 680, and truncate the rest to 680.\n",
    "filtered_df = df[df['transcript'].apply(lambda x: len(x) >= game_length_in_chars)].copy()\n",
    "filtered_df.loc[:, 'transcript'] = filtered_df['transcript'].apply(lambda x: x[:game_length_in_chars])\n",
    "\n",
    "len_df = filtered_df['transcript'].apply(lambda x: len(x))\n",
    "print(len_df.describe())\n",
    "\n",
    "move_count_df = filtered_df['transcript'].apply(lambda x: len(x.split()))\n",
    "move_count = move_count_df.describe()\n",
    "print(\"move count\", move_count_df.describe())\n",
    "quarter_percentile = move_count['25%']\n",
    "print(\"quarter percentile\", quarter_percentile)\n",
    "\n",
    "# Now I need to filter out games that are too short. I will discard all games less than 25th percentile  moves.\n",
    "filtered_df = filtered_df[filtered_df['transcript'].apply(lambda x: len(x.split()) >= quarter_percentile)]\n",
    "print(filtered_df.describe())\n",
    "print(filtered_df.head())\n",
    "\n",
    "filtered_df.to_csv(output_file, index=False)\n",
    "\n",
    "move_count_df = filtered_df['transcript'].apply(lambda x: len(x.split()))\n",
    "print(move_count_df.describe())"
   ]
  },
  {
   "cell_type": "code",
   "execution_count": 6,
   "metadata": {},
   "outputs": [
    {
     "name": "stdout",
     "output_type": "stream",
     "text": [
      "101057\n",
      "count    101057.000000\n",
      "mean       1816.450696\n",
      "std         407.422681\n",
      "min         780.000000\n",
      "25%        1501.000000\n",
      "50%        1857.000000\n",
      "75%        2150.000000\n",
      "max        3161.000000\n",
      "Name: WhiteElo, dtype: float64\n"
     ]
    }
   ],
   "source": [
    "print(len(filtered_df))\n",
    "print(filtered_df['WhiteElo'].describe())"
   ]
  },
  {
   "cell_type": "markdown",
   "metadata": {},
   "source": [
    "For the classification task, I wanted some Elo bins for the probe to classify. This somewhat arbitrarily creates 6 different Elo bins."
   ]
  },
  {
   "cell_type": "code",
   "execution_count": 7,
   "metadata": {},
   "outputs": [
    {
     "data": {
      "image/png": "[encoded data removed]",
      "text/plain": [
       "<Figure size 1000x800 with 2 Axes>"
      ]
     },
     "metadata": {},
     "output_type": "display_data"
    }
   ],
   "source": [
    "import pandas as pd\n",
    "import numpy as np\n",
    "import matplotlib.pyplot as plt\n",
    "\n",
    "np.random.seed(0)\n",
    "\n",
    "# Function to create binned columns and bin index columns\n",
    "def create_binned_columns(df, column_name):\n",
    "    binned_column_name = f'{column_name}Binned'\n",
    "    bin_index_column_name = f'{column_name}BinIndex'\n",
    "    \n",
    "    # Create quantile-based bins\n",
    "    num_bins = 6\n",
    "    # Create quantile-based bins with range labels, dropping duplicates if necessary\n",
    "    df[binned_column_name], bins = pd.qcut(df[column_name], q=num_bins, retbins=True, duplicates='drop')\n",
    "\n",
    "    # Convert bin labels to strings and assign to the column\n",
    "    df[binned_column_name] = df[binned_column_name].apply(lambda x: f'({x.left}, {x.right}]')\n",
    "\n",
    "    # Create bin index column\n",
    "    df[bin_index_column_name] = pd.qcut(df[column_name], q=num_bins, labels=False, duplicates='drop')\n",
    "\n",
    "# Apply the function to both WhiteElo and BlackElo\n",
    "create_binned_columns(filtered_df, 'WhiteElo')\n",
    "create_binned_columns(filtered_df, 'BlackElo')\n",
    "\n",
    "filtered_df.to_csv(output_file, index=False)\n",
    "\n",
    "# Plotting\n",
    "fig, axes = plt.subplots(nrows=2, ncols=1, figsize=(10, 8))\n",
    "\n",
    "# Histogram for WhiteElo\n",
    "axes[0].hist(filtered_df['WhiteElo'], bins=30, color='blue', alpha=0.7)\n",
    "axes[0].set_title('WhiteElo Distribution')\n",
    "axes[0].set_xlabel('WhiteElo')\n",
    "axes[0].set_ylabel('Frequency')\n",
    "\n",
    "# Bar chart for WhiteEloBinned\n",
    "bin_counts = filtered_df['WhiteEloBinned'].value_counts()\n",
    "axes[1].bar(bin_counts.index.astype(str), bin_counts.values, color='green', alpha=0.7)\n",
    "axes[1].set_title('WhiteElo Binned Distribution')\n",
    "axes[1].set_xlabel('WhiteElo Bins')\n",
    "axes[1].set_ylabel('Count')\n",
    "plt.xticks(rotation=45)\n",
    "\n",
    "plt.tight_layout()\n",
    "plt.show()\n",
    "\n"
   ]
  },
  {
   "cell_type": "code",
   "execution_count": 8,
   "metadata": {},
   "outputs": [
    {
     "name": "stdout",
     "output_type": "stream",
     "text": [
      "WhiteEloBinned\n",
      "(779.999, 1364.0]    16891\n",
      "(2057.0, 2242.0]     16888\n",
      "(1364.0, 1635.0]     16859\n",
      "(1857.0, 2057.0]     16859\n",
      "(1635.0, 1857.0]     16788\n",
      "(2242.0, 3161.0]     16772\n",
      "Name: count, dtype: int64\n"
     ]
    }
   ],
   "source": [
    "print(filtered_df['WhiteEloBinned'].value_counts())"
   ]
  },
  {
   "cell_type": "code",
   "execution_count": 9,
   "metadata": {},
   "outputs": [
    {
     "name": "stdout",
     "output_type": "stream",
     "text": [
      "    Unnamed: 0.1  Unnamed: 0  WhiteElo  BlackElo Result  \\\n",
      "1            NaN    17636104      2061      2048    0-1   \n",
      "6       240358.0      240358      1824      1843    1-0   \n",
      "8            NaN     6682990      2415      2154    0-1   \n",
      "13           NaN     3379655      2016      1826    0-1   \n",
      "16     2856389.0     2856389      1297      1450    0-1   \n",
      "\n",
      "                                           transcript       elo_bin  \\\n",
      "1   ;1.e4 d5 2.exd5 Qxd5 3.Nc3 Qd8 4.Nf3 Nf6 5.d4 ...  [2000, 2100)   \n",
      "6   ;1.c4 e5 2.e3 d6 3.b3 Nf6 4.Bb2 Be6 5.Nc3 c6 6...  [1800, 1900)   \n",
      "8   ;1.d4 c5 2.c4 cxd4 3.Nf3 d5 4.cxd5 Nf6 5.Qxd4 ...  [2400, 2500)   \n",
      "13  ;1.e4 e5 2.Nf3 d6 3.Bc4 Be7 4.O-O Nf6 5.d3 h6 ...  [2000, 2100)   \n",
      "16  ;1.c4 d6 2.d4 Bf5 3.Nc3 c6 4.e4 Bg6 5.d5 Nf6 6...  [1200, 1300)   \n",
      "\n",
      "       WhiteEloBinned  WhiteEloBinIndex    BlackEloBinned  BlackEloBinIndex  \n",
      "1    (2057.0, 2242.0]                 4  (1994.0, 2174.0]                 4  \n",
      "6    (1635.0, 1857.0]                 2  (1827.0, 1994.0]                 3  \n",
      "8    (2242.0, 3161.0]                 5  (1994.0, 2174.0]                 4  \n",
      "13   (1857.0, 2057.0]                 3  (1640.0, 1827.0]                 2  \n",
      "16  (779.999, 1364.0]                 0  (1398.0, 1640.0]                 1  \n"
     ]
    }
   ],
   "source": [
    "print(filtered_df.head())"
   ]
  },
  {
   "cell_type": "code",
   "execution_count": 10,
   "metadata": {},
   "outputs": [],
   "source": [
    "# shuffle all rows of the dataset\n",
    "\n",
    "df = pd.read_csv(output_file)\n",
    "df = df.sample(frac=1, random_state=200).reset_index(drop=True)\n",
    "df.to_csv(output_file, index=False)"
   ]
  },
  {
   "cell_type": "code",
   "execution_count": 11,
   "metadata": {},
   "outputs": [
    {
     "name": "stdout",
     "output_type": "stream",
     "text": [
      "101057\n",
      "90951\n",
      "10106\n"
     ]
    }
   ],
   "source": [
    "import pandas as pd\n",
    "df = pd.read_csv(output_file)\n",
    "\n",
    "print(len(df))\n",
    "\n",
    "# Split df into a train and test split\n",
    "train = df.sample(frac=0.9, random_state=200)\n",
    "test = df.drop(train.index)\n",
    "\n",
    "print(len(train))\n",
    "print(len(test))\n",
    "\n",
    "# Save the train and test splits to csv\n",
    "train.to_csv(f'{DATA_DIR}{prefix}train.csv', index=False)\n",
    "test.to_csv(f'{DATA_DIR}{prefix}test.csv', index=False)"
   ]
  }
 ],
 "metadata": {
  "kernelspec": {
   "display_name": "othello",
   "language": "python",
   "name": "python3"
  },
  "language_info": {
   "codemirror_mode": {
    "name": "ipython",
    "version": 3
   },
   "file_extension": ".py",
   "mimetype": "text/x-python",
   "name": "python",
   "nbconvert_exporter": "python",
   "pygments_lexer": "ipython3",
   "version": "3.10.13"
  }
 },
 "nbformat": 4,
 "nbformat_minor": 2
}
