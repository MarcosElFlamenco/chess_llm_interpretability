{
 "cells": [
  {
   "cell_type": "code",
   "execution_count": 1,
   "metadata": {},
   "outputs": [],
   "source": [
    "import chess\n",
    "import numpy as np\n",
    "import pandas as pd\n",
    "import pickle"
   ]
  },
  {
   "cell_type": "code",
   "execution_count": 4,
   "metadata": {},
   "outputs": [
    {
     "name": "stdout",
     "output_type": "stream",
     "text": [
      ";1.e4 c5 2.Nf3 Nc6 3.Bb5 Nf6 4.Bxc6 dxc6 5.d3 Bg4 6.h3 Bxf3 7.Qxf3 Nd7 8.Bd2 g6 9.Bc3 e5 10.a4 Qe7 11.a5 h5 12.Nd2 Bg7 13.h4 Rb8 14.Ke2 O-O 15.Rhg1 b6 16.axb6 axb6 17.Ra7 b5 18.Qh3 f5 19.b3 Qd6 20.Rga1 Rbc8 21.Kf1 Rc7 22.Rxc7 Qxc7 23.Qg3 Kh7 24.Nf3 f4 25.Ng5+ Kh6 26.Qf3 Re8 27.g3 Nf8 28.Bd2 Qd7 29.gxf4 exf4 30.Ra6 Ne6 31.Nxe6 Rxe6 32.Bxf4+ Kh7 33.Be3 Bd4 34.Bxd4 cxd4 35.Ra8 Re8 36.Rxe8 Qxe8 37.Qf6 Qd7 38.e5 Qh3+ 39.Kg1 Qg4+ 40.Kh2 Qd7 41.b4 Qc7 42.Kg2 Qg7 43.Qxg7+ Kxg7 44.Kg3 Kh6 45.f4 Kh7 46.Kf3 Kg8 47.Ke4 Kf7 48.Kxd4 Ke6 49.Ke4 Kd7 50.d4 Kc8 51.e6 Kd8 52.Ke5 c5 53.dxc5 Kc7 54.Kf6 Kc6 55.e7 Kd5 56.Kf7 Kd4 57.e8=Q Kc4 58.c6 Kxb4 59.c7 Ka4 60.c8=Q Ka3 61.Qxb5 Ka2 62.Qca6#\n",
      "\n",
      ";1.e4 c5 2.Nf3 Nc6 3.d4 cxd4 4.Nxd4 g6 5.Nc3 Bg7 6.Be3 Nf6 7.Nxc6 bxc6 8.e5 Ng8 9.f4 d5 10.Qd4 f6 11.Qa4 e6 12.Qxc6+ Bd7 13.Qa6 Nh6 14.exf6 Qxf6 15.Qb7 Rd8 16.Bc5 Rc8 17.Bb5 Qd8 18.Ne4 Nf5 19.O-O-O Bxb5 20.Qxb5+ Qd7 21.Qxd7+ Kxd7 22.g4 Nh4 23.Ba3 Bf8 24.Nf6+ Kc6 25.Rd3 Ng2 26.Rf1 Bg7 27.Rc3+ Kb5 28.Rg3 Bxf6 29.Rxg2 g5 30.Re2 Rhe8 31.Bd6 Kc6 32.Be5 Bxe5 33.Rxe5 gxf4 34.Rxf4 Kd6 35.Rh5 Rf8 36.Rxf8 Rxf8 37.g5 Rf1+ 38.Kd2 Rf7 39.h4 a5 40.Rh6 Ke5 41.a4 Rf2+ 42.Kc3 Rf3+ 43.Kd2 Rf7 44.c3 Ra7 45.b3 Rf7 46.b4 axb4 47.cxb4 Rf2+ 48.Kd3 Rf4 49.Rxh7 Rxb4 50.g6 Rxa4 51.h5 Ra3+ 52.Kd2 Rg3 53.Rf7 Rg2+ 54.Kd3 Rg3+ 55.Ke2 Rg2+ 56.Kf3 Rg5 57.g7 d4 58.h6 d3 59.Ke3 d2 60.Kxd2 Rg6 61.h7 Kd5 62.g8=Q Rg7 63.Qxg7 Kc6 64.h8=Q Kb5 65.Qg4 Kc5 66.Qe5+ Kb6 67.Qgxe6#\n",
      "\n",
      ";1.e4 e5 2.Nf3 Nc6 3.d4 exd4 4.c3 dxc3 5.Nxc3 Bb4 6.Bc4 d6 7.Bd2 Bxc3 8.Bxc3 Nf6 9.e5 dxe5 10.Nxe5 Qxd1+ 11.Rxd1 Nxe5 12.Bxe5 O-O 13.O-O c6 14.Bxf6 gxf6 15.Rd6 b5 16.Be2 Be6 17.Rxc6 a5 18.Ra1 Rfb8 19.Kf1 Kf8 20.Rc5 b4 21.Bf3 Rc8 22.Rac1 Rxc5 23.Rxc5 Ra6 24.Bd5 Bxd5 25.Rxd5 b3 26.axb3 Ke7 27.Ke2 h6 28.Rb5 Re6+ 29.Kd2 Rd6+ 30.Kc1 Rc6+ 31.Kb1 Re6 32.Rxa5 Re1+ 33.Ka2 Rf1 34.Rf5 Rg1 35.g3 Ke6 36.Rf4 Rh1 37.h4 Re1 38.b4 Re5 39.Ka3 f5 40.Ka4 Re2 41.b3 Ra2+ 42.Kb5 h5 43.Kb6 Rb2 44.Rf3 f4 45.Rxf4 f5 46.Rf3 Ke5 47.b5 Re2 48.Kb7 Ke4 49.Rf4+ Kd5 50.Rxf5+ Ke4 51.Rf4+ Kd3 52.b6 Ra2 53.Kc6 Re2 54.b7 Re6+ 55.Kd7 Rb6 56.Kc7 Ra6 57.b4 Re6 58.b8=R Kc2 59.b5 Re7+ 60.Kd6 Rg7 61.b6 Rh7 62.Kc6 Kd2 63.Rd8+ Ke2 64.Rff8 Rh6+ 65.Rd6 Rh7 66.b7 Re7 67.Rh6 Re5 68.Rf7 Kf1 69.Rh8 Ke2 70.Rd8 Re4 71.Kc5 Re6 72.Rd5 Ra6 73.Re5+ Kf1 74.Re4 Ra2 75.f3 Kg2 76.g4 Kf2 77.Rb4 hxg4 78.fxg4+ Kg2 79.g5 Re2 80.b8=Q Re3 81.Rb2+ Re2 82.Rxe2+ Kh3 83.Re3+ Kxh4 84.Qh2+ Kg4 85.Rg3#\n",
      "\n",
      ";1.e4 e5 2.Nf3 d6 3.d4 exd4 4.Nxd4 Be7 5.Nc3 a6 6.Bf4 Bf6 7.Qd2 Ne7 8.O-O-O Nbc6 9.Nxc6 Nxc6 10.Nd5 O-O 11.h4 Be6 12.Bg5 Bxd5 13.exd5 Ne5 14.Be2 Re8 15.f4 Ng6 16.h5 Nf8 17.Bxf6 Qxf6 18.g4 Qe7 19.Bd3 Qe3 20.g5 Nd7 21.Rde1 Qf3 22.h6 Rxe1+ 23.Rxe1 Nc5 24.Bf5 gxh6 25.gxh6 Qg3 26.Kb1 Kf8 27.Qe2 Qh4 28.Bxh7 Qxh6 29.Qe7+ Kg7 30.Bf5 Rf8 31.Rg1+ Kh8 32.a3 Rg8 33.Re1 Kg7 34.Qxc7 b6 35.Qe7 b5 36.Rg1+ Kh8 37.Rf1 a5 38.Ka2 Kg7 39.Rf3 Na6 40.Rg3+ Kh8 41.Rh3 Qxh3 42.Qf6+ Rg7 43.Bxh3 Nc5 44.Qd8+ Rg8 45.Qf6+ Rg7 46.Qd8+ Rg8 47.Qxd6 Kg7 48.Qe5+ Kf8 49.Qd6+ Kg7 50.Qe5+ Kf8 51.d6 b4 52.Qe7+ Kg7 53.Qe5+ f6 54.Qe3 Nd3 55.Qe7+ Kh6 56.Qxf6+ Kh5 57.Qf7+ Kh6 58.Qxg8 Nxf4 59.d7 Ng6 60.d8=Q b3+ 61.cxb3 Nf4 62.Qdg5#\n",
      "\n",
      ";1.e4 c5 2.Nf3 Nc6 3.d4 cxd4 4.Nxd4 e5 5.Nb5 d6 6.N1a3 Nf6 7.Bg5 Qa5+ 8.Qd2 Qxd2+ 9.Bxd2 Rb8 10.Bd3 a6 11.Nc7+ Kd7 12.Nd5 b5 13.c4 Nxd5 14.cxd5 Nd4 15.Nc2 Nxc2+ 16.Bxc2 Be7 17.a4 b4 18.a5 f5 19.exf5 Bb7 20.Ba4+ Kd8 21.Be3 Bh4 22.Rc1 Rc8 23.Ke2 Bxd5 24.Rhd1 Bc4+ 25.Rxc4 Rxc4 26.Rxd6+ Kc7 27.Rxa6 b3 28.Bxb3 Rb4 29.Bd5 Rb5 30.Be4 Rhb8 31.Ra7+ Kd6 32.Ra6+ Kc7 33.g3 Bd8 34.Kf3 Kc8 35.Rc6+ Kd7 36.a6 Ra5 37.a7 Rxb2 38.Rc3 Rba2 39.Rd3+ Kc7 40.Rxd8 Kxd8 41.Bb6+ Ke8 42.Bxa5 Rxa5 43.a8=Q+ Rxa8 44.Bxa8 Ke7 45.Kg4 Kf8 46.Kg5 e4 47.g4 Kg8 48.Bxe4 Kf7 49.Bf3 Ke7 50.Bc6 Kd6 51.Bf3 Ke5 52.f6 gxf6+ 53.Kh6 Ke6 54.Be4 Kd7 55.Kxh7 Ke7 56.Kg7 Kd6 57.Kxf6 Kc5 58.g5 Kc4 59.g6 Kb4 60.g7 Kb3 61.g8=Q+ Ka4 62.h4 Kb5 63.Qb3+ Kc5 64.Ke6 Kd4 65.Qb4#\n",
      "\n"
     ]
    }
   ],
   "source": [
    "DATA_DIR = \"data/\"\n",
    "\n",
    "input_file = f'{DATA_DIR}3kskill_dataset.csv'\n",
    "output_file = f'{DATA_DIR}filtered_3kskill_dataset.csv'\n",
    "\n",
    "df = pd.read_csv(input_file)\n",
    "\n",
    "def format_transcript(game: str) -> str:\n",
    "    new_game = ';' + game.split('\\n\\n')[1]\n",
    "    return new_game\n",
    "\n",
    "processed_filename = f\"{DATA_DIR}3kskill_transcripts.csv\"\n",
    "\n",
    "df['transcript'] = df['transcript'].apply(format_transcript)\n",
    "df.to_csv(processed_filename, index=False)\n",
    "\n",
    "df = pd.read_csv(processed_filename)\n",
    "\n",
    "for game in df.head()['transcript']:\n",
    "    print(game)\n",
    "    print()"
   ]
  },
  {
   "cell_type": "code",
   "execution_count": 6,
   "metadata": {},
   "outputs": [
    {
     "name": "stdout",
     "output_type": "stream",
     "text": [
      "count    614439.000000\n",
      "mean        660.086590\n",
      "std         331.645661\n",
      "min          23.000000\n",
      "25%         445.000000\n",
      "50%         622.000000\n",
      "75%         791.000000\n",
      "max        4580.000000\n",
      "Name: transcript, dtype: float64\n",
      "count    495478.0\n",
      "mean        400.0\n",
      "std           0.0\n",
      "min         400.0\n",
      "25%         400.0\n",
      "50%         400.0\n",
      "75%         400.0\n",
      "max         400.0\n",
      "Name: transcript, dtype: float64\n",
      "move count count    495478.000000\n",
      "mean         73.173620\n",
      "std           1.126041\n",
      "min          67.000000\n",
      "25%          73.000000\n",
      "50%          73.000000\n",
      "75%          74.000000\n",
      "max          78.000000\n",
      "Name: transcript, dtype: float64\n",
      "       player_one_time  player_two_time  player_one_illegal_moves  \\\n",
      "count              0.0              0.0                       0.0   \n",
      "mean               NaN              NaN                       NaN   \n",
      "std                NaN              NaN                       NaN   \n",
      "min                NaN              NaN                       NaN   \n",
      "25%                NaN              NaN                       NaN   \n",
      "50%                NaN              NaN                       NaN   \n",
      "75%                NaN              NaN                       NaN   \n",
      "max                NaN              NaN                       NaN   \n",
      "\n",
      "       player_two_illegal_moves  number_of_moves  time_taken  \\\n",
      "count                       0.0              0.0         0.0   \n",
      "mean                        NaN              NaN         NaN   \n",
      "std                         NaN              NaN         NaN   \n",
      "min                         NaN              NaN         NaN   \n",
      "25%                         NaN              NaN         NaN   \n",
      "50%                         NaN              NaN         NaN   \n",
      "75%                         NaN              NaN         NaN   \n",
      "max                         NaN              NaN         NaN   \n",
      "\n",
      "       transcript_length  \n",
      "count                0.0  \n",
      "mean                 NaN  \n",
      "std                  NaN  \n",
      "min                  NaN  \n",
      "25%                  NaN  \n",
      "50%                  NaN  \n",
      "75%                  NaN  \n",
      "max                  NaN  \n",
      "Empty DataFrame\n",
      "Columns: [game_id, transcript, result, player_one, player_two, player_one_time, player_two_time, player_one_score, player_two_score, player_one_illegal_moves, player_two_illegal_moves, player_one_resignation, player_two_resignation, player_one_failed_to_find_legal_move, player_two_failed_to_find_legal_move, game_title, number_of_moves, time_taken, transcript_length]\n",
      "Index: []\n"
     ]
    },
    {
     "ename": "NameError",
     "evalue": "name 'output_file' is not defined",
     "output_type": "error",
     "traceback": [
      "\u001b[0;31m---------------------------------------------------------------------------\u001b[0m",
      "\u001b[0;31mNameError\u001b[0m                                 Traceback (most recent call last)",
      "Cell \u001b[0;32mIn[6], line 21\u001b[0m\n\u001b[1;32m     18\u001b[0m \u001b[38;5;28mprint\u001b[39m(filtered_df\u001b[38;5;241m.\u001b[39mdescribe())\n\u001b[1;32m     19\u001b[0m \u001b[38;5;28mprint\u001b[39m(filtered_df\u001b[38;5;241m.\u001b[39mhead())\n\u001b[0;32m---> 21\u001b[0m filtered_df\u001b[38;5;241m.\u001b[39mto_csv(\u001b[43moutput_file\u001b[49m, index\u001b[38;5;241m=\u001b[39m\u001b[38;5;28;01mFalse\u001b[39;00m)\n\u001b[1;32m     23\u001b[0m move_count_df \u001b[38;5;241m=\u001b[39m filtered_df[\u001b[38;5;124m'\u001b[39m\u001b[38;5;124mtranscript\u001b[39m\u001b[38;5;124m'\u001b[39m]\u001b[38;5;241m.\u001b[39mapply(\u001b[38;5;28;01mlambda\u001b[39;00m x: \u001b[38;5;28mlen\u001b[39m(x\u001b[38;5;241m.\u001b[39msplit()))\n\u001b[1;32m     24\u001b[0m \u001b[38;5;28mprint\u001b[39m(move_count_df\u001b[38;5;241m.\u001b[39mdescribe())\n",
      "\u001b[0;31mNameError\u001b[0m: name 'output_file' is not defined"
     ]
    }
   ],
   "source": [
    "len_df = df['transcript'].apply(lambda x: len(x))\n",
    "print(len_df.describe())\n",
    "\n",
    "game_length_in_chars = 400\n",
    "\n",
    "# Data setup. All games must have same length. 50% are >= 690 moves. I will discard all games less than 680, and truncate the rest to 680.\n",
    "filtered_df = df[df['transcript'].apply(lambda x: len(x) >= game_length_in_chars)].copy()\n",
    "filtered_df.loc[:, 'transcript'] = filtered_df['transcript'].apply(lambda x: x[:game_length_in_chars])\n",
    "\n",
    "len_df = filtered_df['transcript'].apply(lambda x: len(x))\n",
    "print(len_df.describe())\n",
    "\n",
    "move_count_df = filtered_df['transcript'].apply(lambda x: len(x.split()))\n",
    "move_count = move_count_df.describe()\n",
    "print(\"move count\", move_count_df.describe())\n",
    "quarter_percentile = move_count['25%']\n",
    "print(\"quarter percentile\", quarter_percentile)\n",
    "\n",
    "# Now I need to filter out games that are too short. I will discard all games less than 25th percentile  moves.\n",
    "filtered_df = filtered_df[filtered_df['transcript'].apply(lambda x: len(x.split()) > quarter_percentile)]\n",
    "print(filtered_df.describe())\n",
    "print(filtered_df.head())\n",
    "\n",
    "filtered_df.to_csv(output_file, index=False)\n",
    "\n",
    "move_count_df = filtered_df['transcript'].apply(lambda x: len(x.split()))\n",
    "print(move_count_df.describe())"
   ]
  }
 ],
 "metadata": {
  "kernelspec": {
   "display_name": "othello",
   "language": "python",
   "name": "python3"
  },
  "language_info": {
   "codemirror_mode": {
    "name": "ipython",
    "version": 3
   },
   "file_extension": ".py",
   "mimetype": "text/x-python",
   "name": "python",
   "nbconvert_exporter": "python",
   "pygments_lexer": "ipython3",
   "version": "3.10.13"
  }
 },
 "nbformat": 4,
 "nbformat_minor": 2
}
